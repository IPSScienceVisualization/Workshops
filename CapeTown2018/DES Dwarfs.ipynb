{
 "cells": [
  {
   "cell_type": "markdown",
   "metadata": {},
   "source": [
    "# Visualizing Milky Way Dwarf Companions in DigitalSky Dark Matter\n",
    "\n",
    "We will start with a catalog of 53 nearby galaxies provided by Alex Drlica-Wagner and Brian Nord of the Dark Energy Survey. In the visualization we will highlight those galaxies that were discovered by the Dark Energy Survey. We will then generate the files needed to visualize this catalog in the Digital Sky Dark Matter software that runs on the Iziko Planetarium and Digital Dome."
   ]
  },
  {
   "cell_type": "code",
   "execution_count": 2,
   "metadata": {
    "collapsed": true
   },
   "outputs": [],
   "source": [
    "# Astropy imports\n",
    "from astropy import units as u\n",
    "from astropy.coordinates import SkyCoord\n",
    "from astropy.coordinates import Distance\n",
    "from astropy.table import Table, Column\n",
    "from astropy.io import ascii\n",
    "# Here we read the catalog which is in a .yaml file\n",
    "import yaml\n",
    "f = open('data/dwarfs.yaml')\n",
    "# use safe_load instead load\n",
    "dataMap = yaml.safe_load(f)\n",
    "f.close()"
   ]
  },
  {
   "cell_type": "code",
   "execution_count": 22,
   "metadata": {
    "collapsed": false
   },
   "outputs": [
    {
     "data": {
      "text/html": [
       "&lt;Table length=53&gt;\n",
       "<table id=\"table1894433708352\" class=\"table-striped table-bordered table-condensed\">\n",
       "<thead><tr><th>dec</th><th>distance</th><th>major_axis</th><th>name</th><th>ra</th><th>refs</th></tr></thead>\n",
       "<thead><tr><th>float64</th><th>float64</th><th>float64</th><th>str24</th><th>float64</th><th>str25</th></tr></thead>\n",
       "<tr><td>-60.85</td><td>48.0</td><td>11.8</td><td>Tucana IV</td><td>0.73</td><td>\\citep{1508.03622}</td></tr>\n",
       "<tr><td>-50.28</td><td>125.9</td><td>1.2</td><td>Pictoris I</td><td>70.95</td><td>\\citep{1503.02584}</td></tr>\n",
       "<tr><td>-28.03</td><td>182.0</td><td>1.9</td><td>Columba I</td><td>82.86</td><td>\\citep{1508.03622}</td></tr>\n",
       "<tr><td>12.30639</td><td>254.0</td><td>3.4</td><td>Leo I</td><td>152.11708</td><td>\\citep{Mateo:2007xh}</td></tr>\n",
       "<tr><td>20.17528</td><td>35.0</td><td>3.4</td><td>Segue 2</td><td>34.81667</td><td>\\citep{Kirby:2013isa}</td></tr>\n",
       "<tr><td>-54.11</td><td>87.1</td><td>2.4</td><td>Horologium I</td><td>43.87</td><td>\\citep{}</td></tr>\n",
       "<tr><td>-1.61472</td><td>86.0</td><td>27.8</td><td>Sextans</td><td>153.2625</td><td>\\citep{Walker:2008ax}</td></tr>\n",
       "<tr><td>-31.99</td><td>134.0</td><td>1.7</td><td>Hydra II</td><td>185.43</td><td>\\citep{1503.06216}</td></tr>\n",
       "<tr><td>-27.6667</td><td>7.0</td><td>nan</td><td>Canis Major</td><td>108.14583</td><td>--</td></tr>\n",
       "<tr><td>-34.449</td><td>147.0</td><td>16.6</td><td>Fornax</td><td>39.997</td><td>\\citep{Walker:2008ax}</td></tr>\n",
       "<tr><td>...</td><td>...</td><td>...</td><td>...</td><td>...</td><td>...</td></tr>\n",
       "<tr><td>26.8</td><td>47.0</td><td>nan</td><td>Bootes III</td><td>209.3</td><td>--</td></tr>\n",
       "<tr><td>14.98</td><td>67.0</td><td>0.4</td><td>Laevens 3</td><td>316.726</td><td>\\citep{1507.07564}</td></tr>\n",
       "<tr><td>-72.82861</td><td>64.0</td><td>160.0</td><td>SMC</td><td>13.186667</td><td>--</td></tr>\n",
       "<tr><td>2.22</td><td>178.0</td><td>2.6</td><td>Leo V</td><td>172.79</td><td>--</td></tr>\n",
       "<tr><td>-52.28</td><td>95.5</td><td>0.42</td><td>Eridanus III</td><td>35.69</td><td>\\citep{1503.02584}</td></tr>\n",
       "<tr><td>12.79167</td><td>132.0</td><td>8.6</td><td>Hercules</td><td>247.75833</td><td>\\citep{Simon:2007dq}</td></tr>\n",
       "<tr><td>-17.42</td><td>30.0</td><td>1.9</td><td>Cetus II</td><td>19.47</td><td>\\citep{1508.03622}</td></tr>\n",
       "<tr><td>-59.6</td><td>25.0</td><td>6.0</td><td>Tucana III</td><td>359.15</td><td>\\citep{1508.03622}</td></tr>\n",
       "<tr><td>-51.16</td><td>104.7</td><td>0.42</td><td>Kim 2</td><td>317.2</td><td>\\citep{1502.03952}</td></tr>\n",
       "<tr><td>-54.05</td><td>31.6</td><td>6.0</td><td>Reticulum II</td><td>53.92</td><td>\\citep{1503.02584}</td></tr>\n",
       "</table>"
      ],
      "text/plain": [
       "<Table length=53>\n",
       "   dec    distance major_axis     name         ra             refs        \n",
       " float64  float64   float64      str24      float64          str25        \n",
       "--------- -------- ---------- ------------ --------- ---------------------\n",
       "   -60.85     48.0       11.8    Tucana IV      0.73    \\citep{1508.03622}\n",
       "   -50.28    125.9        1.2   Pictoris I     70.95    \\citep{1503.02584}\n",
       "   -28.03    182.0        1.9    Columba I     82.86    \\citep{1508.03622}\n",
       " 12.30639    254.0        3.4        Leo I 152.11708  \\citep{Mateo:2007xh}\n",
       " 20.17528     35.0        3.4      Segue 2  34.81667 \\citep{Kirby:2013isa}\n",
       "   -54.11     87.1        2.4 Horologium I     43.87              \\citep{}\n",
       " -1.61472     86.0       27.8      Sextans  153.2625 \\citep{Walker:2008ax}\n",
       "   -31.99    134.0        1.7     Hydra II    185.43    \\citep{1503.06216}\n",
       " -27.6667      7.0        nan  Canis Major 108.14583                    --\n",
       "  -34.449    147.0       16.6       Fornax    39.997 \\citep{Walker:2008ax}\n",
       "      ...      ...        ...          ...       ...                   ...\n",
       "     26.8     47.0        nan   Bootes III     209.3                    --\n",
       "    14.98     67.0        0.4    Laevens 3   316.726    \\citep{1507.07564}\n",
       "-72.82861     64.0      160.0          SMC 13.186667                    --\n",
       "     2.22    178.0        2.6        Leo V    172.79                    --\n",
       "   -52.28     95.5       0.42 Eridanus III     35.69    \\citep{1503.02584}\n",
       " 12.79167    132.0        8.6     Hercules 247.75833  \\citep{Simon:2007dq}\n",
       "   -17.42     30.0        1.9     Cetus II     19.47    \\citep{1508.03622}\n",
       "    -59.6     25.0        6.0   Tucana III    359.15    \\citep{1508.03622}\n",
       "   -51.16    104.7       0.42        Kim 2     317.2    \\citep{1502.03952}\n",
       "   -54.05     31.6        6.0 Reticulum II     53.92    \\citep{1503.02584}"
      ]
     },
     "execution_count": 22,
     "metadata": {},
     "output_type": "execute_result"
    }
   ],
   "source": [
    "#collapse the dictionary tree into something that can be converted into a simple table \n",
    "keys = ['name','ra', 'dec', 'distance','major_axis','refs']\n",
    "flatDict=[]\n",
    "for key in dataMap:\n",
    "    keyDict = {x:dataMap[key][x] for x in keys}\n",
    "    flatDict.append(keyDict)\n",
    "\n",
    "dwarfTable=Table(flatDict)\n",
    "dwarfTable"
   ]
  },
  {
   "cell_type": "code",
   "execution_count": 23,
   "metadata": {
    "collapsed": false
   },
   "outputs": [
    {
     "data": {
      "text/html": [
       "&lt;Table length=53&gt;\n",
       "<table id=\"table1894433708352\" class=\"table-striped table-bordered table-condensed\">\n",
       "<thead><tr><th>dec</th><th>distance</th><th>major_axis</th><th>name</th><th>byDES</th><th>ra_h</th></tr></thead>\n",
       "<thead><tr><th>float64</th><th>float64</th><th>float64</th><th>str24</th><th>float64</th><th>float64</th></tr></thead>\n",
       "<tr><td>-60.85</td><td>48.0</td><td>11.8</td><td>Tucana IV</td><td>1.0</td><td>0.0486666666667</td></tr>\n",
       "<tr><td>-50.28</td><td>125.9</td><td>1.2</td><td>Pictoris I</td><td>1.0</td><td>4.73</td></tr>\n",
       "<tr><td>-28.03</td><td>182.0</td><td>1.9</td><td>Columba I</td><td>1.0</td><td>5.524</td></tr>\n",
       "<tr><td>12.30639</td><td>254.0</td><td>3.4</td><td>Leo I</td><td>0.0</td><td>10.1411386667</td></tr>\n",
       "<tr><td>20.17528</td><td>35.0</td><td>3.4</td><td>Segue 2</td><td>0.0</td><td>2.32111133333</td></tr>\n",
       "<tr><td>-54.11</td><td>87.1</td><td>2.4</td><td>Horologium I</td><td>0.0</td><td>2.92466666667</td></tr>\n",
       "<tr><td>-1.61472</td><td>86.0</td><td>27.8</td><td>Sextans</td><td>0.0</td><td>10.2175</td></tr>\n",
       "<tr><td>-31.99</td><td>134.0</td><td>1.7</td><td>Hydra II</td><td>0.0</td><td>12.362</td></tr>\n",
       "<tr><td>-27.6667</td><td>7.0</td><td>nan</td><td>Canis Major</td><td>0.0</td><td>7.209722</td></tr>\n",
       "<tr><td>-34.449</td><td>147.0</td><td>16.6</td><td>Fornax</td><td>0.0</td><td>2.66646666667</td></tr>\n",
       "<tr><td>...</td><td>...</td><td>...</td><td>...</td><td>...</td><td>...</td></tr>\n",
       "<tr><td>26.8</td><td>47.0</td><td>nan</td><td>Bootes III</td><td>0.0</td><td>13.9533333333</td></tr>\n",
       "<tr><td>14.98</td><td>67.0</td><td>0.4</td><td>Laevens 3</td><td>0.0</td><td>21.1150666667</td></tr>\n",
       "<tr><td>-72.82861</td><td>64.0</td><td>160.0</td><td>SMC</td><td>0.0</td><td>0.879111133333</td></tr>\n",
       "<tr><td>2.22</td><td>178.0</td><td>2.6</td><td>Leo V</td><td>0.0</td><td>11.5193333333</td></tr>\n",
       "<tr><td>-52.28</td><td>95.5</td><td>0.42</td><td>Eridanus III</td><td>1.0</td><td>2.37933333333</td></tr>\n",
       "<tr><td>12.79167</td><td>132.0</td><td>8.6</td><td>Hercules</td><td>0.0</td><td>16.517222</td></tr>\n",
       "<tr><td>-17.42</td><td>30.0</td><td>1.9</td><td>Cetus II</td><td>1.0</td><td>1.298</td></tr>\n",
       "<tr><td>-59.6</td><td>25.0</td><td>6.0</td><td>Tucana III</td><td>1.0</td><td>23.9433333333</td></tr>\n",
       "<tr><td>-51.16</td><td>104.7</td><td>0.42</td><td>Kim 2</td><td>0.0</td><td>21.1466666667</td></tr>\n",
       "<tr><td>-54.05</td><td>31.6</td><td>6.0</td><td>Reticulum II</td><td>1.0</td><td>3.59466666667</td></tr>\n",
       "</table>"
      ],
      "text/plain": [
       "<Table length=53>\n",
       "   dec    distance major_axis     name      byDES        ra_h     \n",
       " float64  float64   float64      str24     float64     float64    \n",
       "--------- -------- ---------- ------------ ------- ---------------\n",
       "   -60.85     48.0       11.8    Tucana IV     1.0 0.0486666666667\n",
       "   -50.28    125.9        1.2   Pictoris I     1.0            4.73\n",
       "   -28.03    182.0        1.9    Columba I     1.0           5.524\n",
       " 12.30639    254.0        3.4        Leo I     0.0   10.1411386667\n",
       " 20.17528     35.0        3.4      Segue 2     0.0   2.32111133333\n",
       "   -54.11     87.1        2.4 Horologium I     0.0   2.92466666667\n",
       " -1.61472     86.0       27.8      Sextans     0.0         10.2175\n",
       "   -31.99    134.0        1.7     Hydra II     0.0          12.362\n",
       " -27.6667      7.0        nan  Canis Major     0.0        7.209722\n",
       "  -34.449    147.0       16.6       Fornax     0.0   2.66646666667\n",
       "      ...      ...        ...          ...     ...             ...\n",
       "     26.8     47.0        nan   Bootes III     0.0   13.9533333333\n",
       "    14.98     67.0        0.4    Laevens 3     0.0   21.1150666667\n",
       "-72.82861     64.0      160.0          SMC     0.0  0.879111133333\n",
       "     2.22    178.0        2.6        Leo V     0.0   11.5193333333\n",
       "   -52.28     95.5       0.42 Eridanus III     1.0   2.37933333333\n",
       " 12.79167    132.0        8.6     Hercules     0.0       16.517222\n",
       "   -17.42     30.0        1.9     Cetus II     1.0           1.298\n",
       "    -59.6     25.0        6.0   Tucana III     1.0   23.9433333333\n",
       "   -51.16    104.7       0.42        Kim 2     0.0   21.1466666667\n",
       "   -54.05     31.6        6.0 Reticulum II     1.0   3.59466666667"
      ]
     },
     "execution_count": 23,
     "metadata": {},
     "output_type": "execute_result"
    }
   ],
   "source": [
    "# Here we will add an additional column which is 1 if that galaxy was discovered by DES, 0 otherwise. \n",
    "# This column will be used to color the galaxies in the final visualizaton\n",
    "import numpy as np\n",
    "byDES=np.zeros(len(dwarfTable))\n",
    "for i in range(len(dwarfTable['refs'])):\n",
    "  if ('1508.03622' in dwarfTable['refs'][i]):\n",
    "    byDES[i]=1.\n",
    "  elif ('1503.02584' in dwarfTable['refs'][i]):\n",
    "    byDES[i]=1.\n",
    "dwarfTable.add_column(Column(byDES,name='byDES'))  \n",
    "dwarfTable.add_column(Column(dwarfTable['ra']/15.,name='ra_h'))  \n",
    "dwarfTable.remove_columns(['refs','ra'])  \n",
    "dwarfTable"
   ]
  },
  {
   "cell_type": "code",
   "execution_count": 35,
   "metadata": {
    "collapsed": true
   },
   "outputs": [],
   "source": [
    "dwarfTable.show_in_browser(jsviewer=True)"
   ]
  },
  {
   "cell_type": "markdown",
   "metadata": {
    "collapsed": true
   },
   "source": [
    "### Write as VOTable\n",
    "Digital Sky Dark Matter reads VOTables. Dark Matter can parse the UCDs, however, here we won't bother to set them. We will provide Dark Matter with a seperate xml file that tells it how to interpret the VOTable (which columns are coordinates, which are labels, which should be used to size or color the particles). We can now provide spherical coordinates (ra,dec,distance), no longer having to convert to cartesian."
   ]
  },
  {
   "cell_type": "code",
   "execution_count": 25,
   "metadata": {
    "collapsed": false
   },
   "outputs": [],
   "source": [
    "# Write the VO Table\n",
    "dwarfTable.write('data/MWdwarfs.xml',format='votable')"
   ]
  },
  {
   "cell_type": "code",
   "execution_count": 26,
   "metadata": {
    "collapsed": true
   },
   "outputs": [],
   "source": [
    "# Write the xml file that contains column descriptions\n",
    "import xml.etree.cElementTree as ET\n",
    "\n",
    "root = ET.Element(\"ParticleTable\")\n",
    "doc = ET.SubElement(root, \"Columns\")\n",
    "ET.SubElement(doc, \"AddField\", data=\"ra_h\", type=\"RA\")\n",
    "ET.SubElement(doc, \"AddField\", data=\"dec\", type=\"DEC\")\n",
    "ET.SubElement(doc, \"AddField\", data=\"name\", type=\"LABEL\")\n",
    "ET.SubElement(doc, \"AddField\", data=\"distance\", type=\"DIST\")\n",
    "ET.SubElement(doc, \"AddField\", data=\"major_axis\")\n",
    "ET.SubElement(doc, \"AddField\", data=\"byDES\")\n",
    "tree = ET.ElementTree(root)\n",
    "tree.write(\"data/MWdwarfs_fields.xml\")"
   ]
  },
  {
   "cell_type": "markdown",
   "metadata": {},
   "source": [
    "## Write a colormap file\n",
    "Digital Sky Dark Matter reads colormaps in the partiview .cmap file. These can either be interpreted as continous or indexed colors. Here we will generate one with just two colors one for galaxies discovered by DES one for all others. "
   ]
  },
  {
   "cell_type": "code",
   "execution_count": 25,
   "metadata": {
    "collapsed": false
   },
   "outputs": [],
   "source": [
    "cmapFile=open('data/DES.cmap', 'w')\n",
    "cmapFile.write('2\\n1 1 1 1\\n1 0 0 1\\n')\n",
    "cmapFile.close()"
   ]
  },
  {
   "cell_type": "markdown",
   "metadata": {},
   "source": [
    "# Tidal disruption of the Saggitarius Dwarf Galaxy\n",
    "Here we will create the files necessary to visualize an N-body simulation of the tidal disruption of the Sagattarius Dwarf galaxy as described in Law and Majewski 2012 http://iopscience.iop.org/0004-637X/714/1/229/article Data files were taken from the website: http://www.astro.virginia.edu/~srm4n/Sgr/data.html\n",
    "<img src=\"https://raw.githubusercontent.com/marksubbarao/pyWWT_AAS225/master/images/SgrStream.png\">"
   ]
  },
  {
   "cell_type": "code",
   "execution_count": 12,
   "metadata": {
    "collapsed": false
   },
   "outputs": [
    {
     "data": {
      "text/html": [
       "&lt;Table length=100000&gt;\n",
       "<table id=\"table1894433611448\" class=\"table-striped table-bordered table-condensed\">\n",
       "<thead><tr><th>dec</th><th>dist</th><th>Pcol</th><th>ra_h</th></tr></thead>\n",
       "<thead><tr><th>float64</th><th>float64</th><th>int32</th><th>float64</th></tr></thead>\n",
       "<tr><td>-42.1607</td><td>65.9751</td><td>8</td><td>19.7312</td></tr>\n",
       "<tr><td>-31.0457</td><td>28.7055</td><td>-1</td><td>18.9714</td></tr>\n",
       "<tr><td>-31.3875</td><td>24.1148</td><td>0</td><td>20.0002666667</td></tr>\n",
       "<tr><td>-35.746</td><td>62.4169</td><td>8</td><td>18.6288666667</td></tr>\n",
       "<tr><td>-38.2792</td><td>49.9106</td><td>7</td><td>17.8385333333</td></tr>\n",
       "<tr><td>1.10254</td><td>47.1228</td><td>4</td><td>11.7928666667</td></tr>\n",
       "<tr><td>33.1628</td><td>53.4371</td><td>4</td><td>6.96293333333</td></tr>\n",
       "<tr><td>-0.34414</td><td>25.8991</td><td>5</td><td>4.77308666667</td></tr>\n",
       "<tr><td>39.4735</td><td>44.6561</td><td>8</td><td>13.4354666667</td></tr>\n",
       "<tr><td>-24.3602</td><td>24.3915</td><td>0</td><td>22.7715333333</td></tr>\n",
       "<tr><td>...</td><td>...</td><td>...</td><td>...</td></tr>\n",
       "<tr><td>-40.5922</td><td>84.2152</td><td>5</td><td>22.7556666667</td></tr>\n",
       "<tr><td>11.1116</td><td>21.6164</td><td>6</td><td>5.54340666667</td></tr>\n",
       "<tr><td>-29.8858</td><td>29.2356</td><td>-1</td><td>18.6996666667</td></tr>\n",
       "<tr><td>8.54601</td><td>13.437</td><td>7</td><td>4.83943333333</td></tr>\n",
       "<tr><td>-7.18791</td><td>27.5705</td><td>7</td><td>23.6100666667</td></tr>\n",
       "<tr><td>21.7006</td><td>51.3039</td><td>3</td><td>4.96655333333</td></tr>\n",
       "<tr><td>25.8397</td><td>21.8432</td><td>6</td><td>12.4571333333</td></tr>\n",
       "<tr><td>12.4169</td><td>28.5121</td><td>1</td><td>3.02658</td></tr>\n",
       "<tr><td>-25.5548</td><td>49.0082</td><td>8</td><td>19.058</td></tr>\n",
       "<tr><td>21.9778</td><td>49.079</td><td>8</td><td>14.5988</td></tr>\n",
       "</table>"
      ],
      "text/plain": [
       "<Table length=100000>\n",
       "  dec      dist   Pcol      ra_h    \n",
       "float64  float64 int32    float64   \n",
       "-------- ------- ----- -------------\n",
       "-42.1607 65.9751     8       19.7312\n",
       "-31.0457 28.7055    -1       18.9714\n",
       "-31.3875 24.1148     0 20.0002666667\n",
       " -35.746 62.4169     8 18.6288666667\n",
       "-38.2792 49.9106     7 17.8385333333\n",
       " 1.10254 47.1228     4 11.7928666667\n",
       " 33.1628 53.4371     4 6.96293333333\n",
       "-0.34414 25.8991     5 4.77308666667\n",
       " 39.4735 44.6561     8 13.4354666667\n",
       "-24.3602 24.3915     0 22.7715333333\n",
       "     ...     ...   ...           ...\n",
       "-40.5922 84.2152     5 22.7556666667\n",
       " 11.1116 21.6164     6 5.54340666667\n",
       "-29.8858 29.2356    -1 18.6996666667\n",
       " 8.54601  13.437     7 4.83943333333\n",
       "-7.18791 27.5705     7 23.6100666667\n",
       " 21.7006 51.3039     3 4.96655333333\n",
       " 25.8397 21.8432     6 12.4571333333\n",
       " 12.4169 28.5121     1       3.02658\n",
       "-25.5548 49.0082     8        19.058\n",
       " 21.9778  49.079     8       14.5988"
      ]
     },
     "execution_count": 12,
     "metadata": {},
     "output_type": "execute_result"
    }
   ],
   "source": [
    "#Import data set, keeping only the columns we need.\n",
    "Stars = Table.read('data/SgrTriax_DYN.dat', format='ascii.basic')\n",
    "Stars.keep_columns([\"ra\",\"dec\",\"dist\",\"Pcol\"])\n",
    "Stars.add_column(Column(Stars['ra']/15.,name='ra_h'))\n",
    "Stars.remove_column('ra')\n",
    "Stars"
   ]
  },
  {
   "cell_type": "code",
   "execution_count": 14,
   "metadata": {
    "collapsed": false
   },
   "outputs": [],
   "source": [
    "# Write as VO Table\n",
    "Stars.write('data/SGdwarf.xml',format='votable')"
   ]
  },
  {
   "cell_type": "code",
   "execution_count": 15,
   "metadata": {
    "collapsed": true
   },
   "outputs": [],
   "source": [
    "# Write the xml file that contains column descriptions\n",
    "import xml.etree.cElementTree as ET\n",
    "\n",
    "root = ET.Element(\"ParticleTable\")\n",
    "doc = ET.SubElement(root, \"Columns\")\n",
    "ET.SubElement(doc, \"AddField\", data=\"ra_h\", type=\"RA\")\n",
    "ET.SubElement(doc, \"AddField\", data=\"dec\", type=\"DEC\")\n",
    "ET.SubElement(doc, \"AddField\", data=\"dist\", type=\"DIST\")\n",
    "ET.SubElement(doc, \"AddField\", data=\"Pcol\")\n",
    "tree = ET.ElementTree(root)\n",
    "tree.write(\"data/SGdwarf_fields.xml\")"
   ]
  },
  {
   "cell_type": "markdown",
   "metadata": {},
   "source": [
    "### Constructing th Colormap\n",
    "Pcol indicates the pass when stars were stripped from the dwarf galaxy. We will constructing an identical colormap to the one used in the LM12 paper. Black is changed to grey for visability."
   ]
  },
  {
   "cell_type": "code",
   "execution_count": 28,
   "metadata": {
    "collapsed": true
   },
   "outputs": [],
   "source": [
    "cmapFile=open('data/SG.cmap', 'w')\n",
    "cmapFile.write('''8\n",
    "0.5 0.5 0.5 1.0\n",
    "1.0 0.5 0.0 1.0\n",
    "1.0 0.5 0.0 1.0\n",
    "1.0 0.0 1.0 1.0\n",
    "1.0 0.0 1.0 1.0\n",
    "0.0 1.0 1.0 1.0\n",
    "0.0 1.0 1.0 1.0\n",
    "0.0 1.0 0.1 1.0\n",
    "''')\n",
    "cmapFile.close()"
   ]
  },
  {
   "cell_type": "code",
   "execution_count": 3,
   "metadata": {
    "collapsed": false
   },
   "outputs": [],
   "source": [
    "#Import data set, keeping only the columns we need.\n",
    "SgrStars = Table.read('data/SgrTriax_DYN.dat', format='ascii.basic')\n"
   ]
  },
  {
   "cell_type": "code",
   "execution_count": 4,
   "metadata": {
    "collapsed": false
   },
   "outputs": [
    {
     "data": {
      "text/html": [
       "&lt;Table length=100000&gt;\n",
       "<table id=\"table1894433587832\" class=\"table-striped table-bordered table-condensed\">\n",
       "<thead><tr><th>lambda</th><th>beta</th><th>ra</th><th>dec</th><th>l</th><th>b</th><th>xgc</th><th>ygc</th><th>zgc</th><th>xsun</th><th>ysun</th><th>zsun</th><th>x4</th><th>y4</th><th>z4</th><th>u</th><th>v</th><th>w</th><th>dist</th><th>vgsr</th><th>mul</th><th>mub</th><th>mua</th><th>mud</th><th>Pcol</th><th>Lmflag</th></tr></thead>\n",
       "<thead><tr><th>float64</th><th>float64</th><th>float64</th><th>float64</th><th>float64</th><th>float64</th><th>float64</th><th>float64</th><th>float64</th><th>float64</th><th>float64</th><th>float64</th><th>float64</th><th>float64</th><th>float64</th><th>float64</th><th>float64</th><th>float64</th><th>float64</th><th>float64</th><th>float64</th><th>float64</th><th>float64</th><th>float64</th><th>int32</th><th>int32</th></tr></thead>\n",
       "<tr><td>11.2581</td><td>11.8798</td><td>295.968</td><td>-42.1607</td><td>357.131</td><td>-27.1087</td><td>-50.6537</td><td>-2.9399</td><td>-30.0635</td><td>63.3197</td><td>12.6044</td><td>13.5816</td><td>49.854</td><td>27.7916</td><td>12.6844</td><td>-14.2853</td><td>24.8315</td><td>133.139</td><td>65.9751</td><td>-49.0752</td><td>-0.660274</td><td>0.38155</td><td>-0.52177</td><td>-0.556147</td><td>8</td><td>-1</td></tr>\n",
       "<tr><td>0.797464</td><td>1.93505</td><td>284.571</td><td>-31.0457</td><td>5.3522</td><td>-14.9475</td><td>-19.6132</td><td>2.58698</td><td>-7.40414</td><td>28.6863</td><td>0.399293</td><td>0.969288</td><td>19.2415</td><td>7.51085</td><td>0.072138</td><td>-224.773</td><td>-54.9545</td><td>192.7</td><td>28.7055</td><td>161.564</td><td>-2.24593</td><td>1.67382</td><td>-2.41743</td><td>-1.41488</td><td>-1</td><td>-1</td></tr>\n",
       "<tr><td>13.9574</td><td>0.959365</td><td>300.004</td><td>-31.3875</td><td>9.78189</td><td>-27.4802</td><td>-13.0829</td><td>3.63479</td><td>-11.1276</td><td>23.3996</td><td>5.81569</td><td>0.403762</td><td>12.7937</td><td>11.4748</td><td>-0.493388</td><td>-283.358</td><td>-41.6733</td><td>169.269</td><td>24.1148</td><td>163.343</td><td>-2.76507</td><td>2.16152</td><td>-2.85939</td><td>-2.03511</td><td>0</td><td>-1</td></tr>\n",
       "<tr><td>357.456</td><td>7.35559</td><td>279.433</td><td>-35.746</td><td>359.147</td><td>-12.8979</td><td>-52.8353</td><td>-0.905288</td><td>-13.9323</td><td>61.8422</td><td>-2.74746</td><td>7.99104</td><td>52.164</td><td>12.5428</td><td>7.09389</td><td>54.6785</td><td>24.1362</td><td>134.608</td><td>62.4169</td><td>-83.6895</td><td>-0.705156</td><td>0.374437</td><td>-0.631458</td><td>-0.488579</td><td>8</td><td>-1</td></tr>\n",
       "<tr><td>348.843</td><td>12.2429</td><td>267.578</td><td>-38.2792</td><td>352.479</td><td>-5.6437</td><td>-41.2414</td><td>-6.50144</td><td>-4.90831</td><td>47.8537</td><td>-9.43825</td><td>10.5839</td><td>40.2289</td><td>2.64337</td><td>9.68675</td><td>131.053</td><td>56.2076</td><td>147.246</td><td>49.9106</td><td>-151.098</td><td>-0.813527</td><td>0.541365</td><td>-0.878448</td><td>-0.428056</td><td>7</td><td>-1</td></tr>\n",
       "<tr><td>253.81</td><td>16.6704</td><td>176.893</td><td>1.10254</td><td>269.789</td><td>59.7997</td><td>8.08724</td><td>-23.7038</td><td>40.7269</td><td>-12.5868</td><td>-43.352</td><td>13.5179</td><td>-10.1192</td><td>-44.9829</td><td>12.6208</td><td>130.168</td><td>17.4374</td><td>-78.3508</td><td>47.1228</td><td>-76.2468</td><td>-0.619036</td><td>-1.02361</td><td>-1.03894</td><td>-0.592945</td><td>4</td><td>1</td></tr>\n",
       "<tr><td>181.045</td><td>-4.04045</td><td>104.444</td><td>33.1628</td><td>183.285</td><td>15.6665</td><td>59.3674</td><td>-2.94803</td><td>14.43</td><td>-53.2954</td><td>-0.971759</td><td>-3.76521</td><td>-59.932</td><td>-13.8068</td><td>-4.66236</td><td>93.707</td><td>14.522</td><td>-58.5634</td><td>53.4371</td><td>73.4621</td><td>0.833309</td><td>-0.37154</td><td>-0.0245885</td><td>-0.912053</td><td>4</td><td>-1</td></tr>\n",
       "<tr><td>140.82</td><td>18.4868</td><td>71.5963</td><td>-0.34414</td><td>197.791</td><td>-27.6848</td><td>29.8373</td><td>-7.00745</td><td>-12.0329</td><td>-19.0401</td><td>15.5177</td><td>8.21224</td><td>-30.7307</td><td>10.5368</td><td>7.31509</td><td>76.4606</td><td>-3.16514</td><td>-136.52</td><td>25.8991</td><td>128.754</td><td>1.61004</td><td>-0.454989</td><td>0.433123</td><td>-1.61606</td><td>5</td><td>2</td></tr>\n",
       "<tr><td>255.591</td><td>-27.7557</td><td>201.532</td><td>39.4735</td><td>94.8154</td><td>75.7016</td><td>8.92582</td><td>10.9898</td><td>43.2728</td><td>-9.83366</td><td>-38.275</td><td>-20.7964</td><td>-8.68689</td><td>-39.3879</td><td>-21.6936</td><td>203.56</td><td>-34.1824</td><td>-127.967</td><td>44.6561</td><td>-128.195</td><td>1.10536</td><td>0.974351</td><td>-1.45737</td><td>-0.217377</td><td>8</td><td>-1</td></tr>\n",
       "<tr><td>51.1194</td><td>-0.515443</td><td>341.573</td><td>-24.3602</td><td>31.4653</td><td>-61.7552</td><td>-1.8457</td><td>6.02525</td><td>-21.4873</td><td>15.3099</td><td>18.987</td><td>-0.219427</td><td>1.73686</td><td>22.2763</td><td>-1.11658</td><td>-302.829</td><td>-2.68514</td><td>86.3738</td><td>24.3915</td><td>45.4849</td><td>-3.05558</td><td>1.3001</td><td>-1.92623</td><td>-2.70489</td><td>0</td><td>-1</td></tr>\n",
       "<tr><td>...</td><td>...</td><td>...</td><td>...</td><td>...</td><td>...</td><td>...</td><td>...</td><td>...</td><td>...</td><td>...</td><td>...</td><td>...</td><td>...</td><td>...</td><td>...</td><td>...</td><td>...</td><td>...</td><td>...</td><td>...</td><td>...</td><td>...</td><td>...</td><td>...</td><td>...</td></tr>\n",
       "<tr><td>45.7688</td><td>14.8309</td><td>341.335</td><td>-40.5922</td><td>357.362</td><td>-60.7828</td><td>-33.0636</td><td>-1.89167</td><td>-73.501</td><td>56.7877</td><td>58.3325</td><td>21.5563</td><td>32.3702</td><td>70.5472</td><td>20.6591</td><td>-105.245</td><td>13.5435</td><td>65.8599</td><td>84.2152</td><td>-6.46739</td><td>-0.535169</td><td>0.303925</td><td>-0.128169</td><td>-0.601954</td><td>5</td><td>-2</td></tr>\n",
       "<tr><td>156.368</td><td>12.2622</td><td>83.1511</td><td>11.1116</td><td>193.692</td><td>-11.9249</td><td>28.5488</td><td>-5.00634</td><td>-4.46658</td><td>-19.3518</td><td>8.4676</td><td>4.59103</td><td>-29.3141</td><td>3.6235</td><td>3.69388</td><td>114.608</td><td>-10.4154</td><td>-157.889</td><td>21.6164</td><td>143.984</td><td>2.01154</td><td>-1.21568</td><td>-0.00222647</td><td>-2.35035</td><td>6</td><td>2</td></tr>\n",
       "<tr><td>357.13</td><td>1.4369</td><td>280.495</td><td>-29.8858</td><td>4.97554</td><td>-11.2664</td><td>-20.5641</td><td>2.48675</td><td>-5.71178</td><td>29.1897</td><td>-1.46328</td><td>0.733114</td><td>20.1838</td><td>5.82722</td><td>-0.164036</td><td>-236.241</td><td>-56.3361</td><td>184.531</td><td>29.2356</td><td>189.971</td><td>-2.21334</td><td>1.53912</td><td>-2.32904</td><td>-1.35769</td><td>-1</td><td>1</td></tr>\n",
       "<tr><td>145.535</td><td>10.7897</td><td>72.5915</td><td>8.54601</td><td>190.103</td><td>-22.077</td><td>20.2587</td><td>-2.1842</td><td>-5.05031</td><td>-10.8825</td><td>7.46957</td><td>2.51547</td><td>-20.8571</td><td>4.72048</td><td>1.61832</td><td>-149.343</td><td>30.5935</td><td>-236.986</td><td>13.437</td><td>-52.1484</td><td>3.49698</td><td>-4.15349</td><td>-1.49205</td><td>-5.22055</td><td>7</td><td>1</td></tr>\n",
       "<tr><td>68.6452</td><td>-12.2532</td><td>354.151</td><td>-7.18791</td><td>77.8332</td><td>-63.3028</td><td>5.38938</td><td>12.1085</td><td>-24.6313</td><td>9.81086</td><td>25.0926</td><td>-5.85134</td><td>-5.08486</td><td>26.857</td><td>-6.74849</td><td>-175.282</td><td>120.518</td><td>-133.705</td><td>27.5705</td><td>188.978</td><td>-1.42249</td><td>-0.988379</td><td>-0.47042</td><td>-1.66706</td><td>7</td><td>1</td></tr>\n",
       "<tr><td>152.412</td><td>-0.59659</td><td>74.4983</td><td>21.7006</td><td>179.963</td><td>-12.9561</td><td>57.9978</td><td>0.0323697</td><td>-11.5026</td><td>-45.4683</td><td>23.7579</td><td>-0.53419</td><td>-58.3704</td><td>12.0849</td><td>-1.43134</td><td>-84.9682</td><td>13.843</td><td>-77.6759</td><td>51.3039</td><td>-65.381</td><td>0.896194</td><td>-0.409187</td><td>0.20453</td><td>-0.963725</td><td>3</td><td>-1</td></tr>\n",
       "<tr><td>251.681</td><td>-9.78055</td><td>186.857</td><td>25.8397</td><td>225.067</td><td>84.4759</td><td>9.48508</td><td>-1.48859</td><td>21.7417</td><td>-6.76565</td><td>-20.4348</td><td>-3.71061</td><td>-10.0611</td><td>-21.3381</td><td>-4.60776</td><td>308.748</td><td>-11.7564</td><td>19.8375</td><td>21.8432</td><td>41.5378</td><td>-0.509444</td><td>-3.80149</td><td>-3.80538</td><td>-0.479481</td><td>6</td><td>-1</td></tr>\n",
       "<tr><td>123.417</td><td>-4.84301</td><td>45.3987</td><td>12.4169</td><td>165.757</td><td>-39.3966</td><td>29.356</td><td>5.42115</td><td>-18.0962</td><td>-15.6462</td><td>23.7137</td><td>-2.40716</td><td>-29.4376</td><td>19.313</td><td>-3.30431</td><td>-236.461</td><td>10.9911</td><td>-46.7601</td><td>28.5121</td><td>-145.345</td><td>1.17002</td><td>-1.59689</td><td>-0.0707182</td><td>-1.97839</td><td>1</td><td>-1</td></tr>\n",
       "<tr><td>1.04525</td><td>-3.668</td><td>285.87</td><td>-25.5548</td><td>11.0242</td><td>-13.8197</td><td>-38.7113</td><td>9.10023</td><td>-11.7065</td><td>48.8997</td><td>0.892176</td><td>-3.1353</td><td>38.7247</td><td>12.9171</td><td>-4.03245</td><td>71.6846</td><td>-38.7295</td><td>108.986</td><td>49.0082</td><td>-101.55</td><td>-1.07667</td><td>0.291425</td><td>-0.700491</td><td>-0.868017</td><td>8</td><td>1</td></tr>\n",
       "<tr><td>279.936</td><td>-21.4854</td><td>218.982</td><td>21.9778</td><td>26.4237</td><td>65.7358</td><td>-10.0616</td><td>8.97521</td><td>44.7434</td><td>7.88035</td><td>-44.9835</td><td>-17.9759</td><td>10.1282</td><td>-41.5751</td><td>-18.8731</td><td>227.607</td><td>-25.3664</td><td>-68.5071</td><td>49.079</td><td>-150.856</td><td>-0.537706</td><td>1.1449</td><td>-1.2537</td><td>-0.167836</td><td>8</td><td>-1</td></tr>\n",
       "</table>"
      ],
      "text/plain": [
       "<Table length=100000>\n",
       " lambda     beta      ra     dec    ...     mua        mud     Pcol Lmflag\n",
       "float64   float64  float64 float64  ...   float64    float64  int32 int32 \n",
       "-------- --------- ------- -------- ... ----------- --------- ----- ------\n",
       " 11.2581   11.8798 295.968 -42.1607 ...    -0.52177 -0.556147     8     -1\n",
       "0.797464   1.93505 284.571 -31.0457 ...    -2.41743  -1.41488    -1     -1\n",
       " 13.9574  0.959365 300.004 -31.3875 ...    -2.85939  -2.03511     0     -1\n",
       " 357.456   7.35559 279.433  -35.746 ...   -0.631458 -0.488579     8     -1\n",
       " 348.843   12.2429 267.578 -38.2792 ...   -0.878448 -0.428056     7     -1\n",
       "  253.81   16.6704 176.893  1.10254 ...    -1.03894 -0.592945     4      1\n",
       " 181.045  -4.04045 104.444  33.1628 ...  -0.0245885 -0.912053     4     -1\n",
       "  140.82   18.4868 71.5963 -0.34414 ...    0.433123  -1.61606     5      2\n",
       " 255.591  -27.7557 201.532  39.4735 ...    -1.45737 -0.217377     8     -1\n",
       " 51.1194 -0.515443 341.573 -24.3602 ...    -1.92623  -2.70489     0     -1\n",
       "     ...       ...     ...      ... ...         ...       ...   ...    ...\n",
       " 45.7688   14.8309 341.335 -40.5922 ...   -0.128169 -0.601954     5     -2\n",
       " 156.368   12.2622 83.1511  11.1116 ... -0.00222647  -2.35035     6      2\n",
       "  357.13    1.4369 280.495 -29.8858 ...    -2.32904  -1.35769    -1      1\n",
       " 145.535   10.7897 72.5915  8.54601 ...    -1.49205  -5.22055     7      1\n",
       " 68.6452  -12.2532 354.151 -7.18791 ...    -0.47042  -1.66706     7      1\n",
       " 152.412  -0.59659 74.4983  21.7006 ...     0.20453 -0.963725     3     -1\n",
       " 251.681  -9.78055 186.857  25.8397 ...    -3.80538 -0.479481     6     -1\n",
       " 123.417  -4.84301 45.3987  12.4169 ...  -0.0707182  -1.97839     1     -1\n",
       " 1.04525    -3.668  285.87 -25.5548 ...   -0.700491 -0.868017     8      1\n",
       " 279.936  -21.4854 218.982  21.9778 ...     -1.2537 -0.167836     8     -1"
      ]
     },
     "execution_count": 4,
     "metadata": {},
     "output_type": "execute_result"
    }
   ],
   "source": [
    "SgrStars"
   ]
  },
  {
   "cell_type": "code",
   "execution_count": null,
   "metadata": {
    "collapsed": true
   },
   "outputs": [],
   "source": []
  }
 ],
 "metadata": {
  "anaconda-cloud": {},
  "kernelspec": {
   "display_name": "Python [default]",
   "language": "python",
   "name": "python3"
  },
  "language_info": {
   "codemirror_mode": {
    "name": "ipython",
    "version": 3
   },
   "file_extension": ".py",
   "mimetype": "text/x-python",
   "name": "python",
   "nbconvert_exporter": "python",
   "pygments_lexer": "ipython3",
   "version": "3.5.2"
  }
 },
 "nbformat": 4,
 "nbformat_minor": 0
}
