{
 "cells": [
  {
   "cell_type": "markdown",
   "metadata": {},
   "source": [
    "# Visualizing Milky Way Dwarf Companions in DigitalSky Dark Matter\n",
    "\n",
    "We will start with a catalog of 53 nearby galaxies provided by Alex Drlica-Wagner and Brian Nord of the Dark Energy Survey. In the visualization we will highlight those galaxies that were discovered by the Dark Energy Survey. We will then generate the files needed to visualize this catalog in the Digital Sky Dark Matter software that runs on the Iziko Planetarium and Digital Dome."
   ]
  },
  {
   "cell_type": "code",
   "execution_count": 1,
   "metadata": {
    "collapsed": true
   },
   "outputs": [],
   "source": [
    "# Astropy imports\n",
    "from astropy import units as u\n",
    "from astropy.coordinates import SkyCoord\n",
    "from astropy.coordinates import Distance\n",
    "from astropy.table import Table, Column\n",
    "from astropy.io import ascii\n",
    "# Here we read the catalog which is in a .yaml file\n",
    "import yaml\n",
    "f = open('data/dwarfs.yaml')\n",
    "# use safe_load instead load\n",
    "dataMap = yaml.safe_load(f)\n",
    "f.close()"
   ]
  },
  {
   "cell_type": "code",
   "execution_count": 9,
   "metadata": {
    "collapsed": false
   },
   "outputs": [
    {
     "data": {
      "text/html": [
       "&lt;Table length=53&gt;\n",
       "<table id=\"table2402953039208\" class=\"table-striped table-bordered table-condensed\">\n",
       "<thead><tr><th>dec</th><th>distance</th><th>major_axis</th><th>name</th><th>ra</th><th>refs</th></tr></thead>\n",
       "<thead><tr><th>float64</th><th>float64</th><th>float64</th><th>str24</th><th>float64</th><th>str25</th></tr></thead>\n",
       "<tr><td>36.18</td><td>30.0</td><td>3.9</td><td>Triangulum II</td><td>33.32</td><td>\\citep{1503.05554}</td></tr>\n",
       "<tr><td>17.05139</td><td>417.0</td><td>0.99</td><td>Leo T</td><td>143.7225</td><td>--</td></tr>\n",
       "<tr><td>51.92</td><td>97.0</td><td>11.3</td><td>Ursa Major I</td><td>158.72</td><td>\\citep{Simon:2007dq}</td></tr>\n",
       "<tr><td>-52.28</td><td>95.5</td><td>0.42</td><td>Eridanus III</td><td>35.69</td><td>\\citep{1503.02584}</td></tr>\n",
       "<tr><td>-34.449</td><td>147.0</td><td>16.6</td><td>Fornax</td><td>39.997</td><td>\\citep{Walker:2008ax}</td></tr>\n",
       "<tr><td>26.8</td><td>47.0</td><td>nan</td><td>Bootes III</td><td>209.3</td><td>--</td></tr>\n",
       "<tr><td>-50.966</td><td>105.0</td><td>8.2</td><td>Carina</td><td>100.4029</td><td>\\citep{Walker:2008ax}</td></tr>\n",
       "<tr><td>16.08194</td><td>23.0</td><td>4.4</td><td>Segue 1</td><td>151.76667</td><td>\\citep{Simon:2010ek}</td></tr>\n",
       "<tr><td>-50.16</td><td>120.0</td><td>2.23</td><td>Grus I</td><td>344.18</td><td>\\citep{1503.02079}</td></tr>\n",
       "<tr><td>-54.41</td><td>95.5</td><td>1.2</td><td>Phoenix II</td><td>354.99</td><td>\\citep{1503.02584}</td></tr>\n",
       "<tr><td>...</td><td>...</td><td>...</td><td>...</td><td>...</td><td>...</td></tr>\n",
       "<tr><td>-30.5453</td><td>26.0</td><td>342.0</td><td>Sagittarius</td><td>283.831</td><td>\\citep{Frinchaboy:2012ur}</td></tr>\n",
       "<tr><td>-28.03</td><td>182.0</td><td>1.9</td><td>Columba I</td><td>82.86</td><td>\\citep{1508.03622}</td></tr>\n",
       "<tr><td>20.17528</td><td>35.0</td><td>3.4</td><td>Segue 2</td><td>34.81667</td><td>\\citep{Kirby:2013isa}</td></tr>\n",
       "<tr><td>57.91528</td><td>76.0</td><td>10.0</td><td>Draco</td><td>260.05167</td><td>\\FIXME{[ ?]}</td></tr>\n",
       "<tr><td>-22.068</td><td>67.0</td><td>2.0</td><td>Sagittarius II</td><td>298.169</td><td>\\citep{1507.07564}</td></tr>\n",
       "<tr><td>-33.709</td><td>86.0</td><td>11.3</td><td>Sculptor</td><td>15.039</td><td>\\citep{Walker:2008ax}</td></tr>\n",
       "<tr><td>34.32083</td><td>160.0</td><td>1.6</td><td>Canes Venatici II</td><td>194.29167</td><td>\\citep{Simon:2007dq}</td></tr>\n",
       "<tr><td>-60.85</td><td>48.0</td><td>11.8</td><td>Tucana IV</td><td>0.73</td><td>\\citep{1508.03622}</td></tr>\n",
       "<tr><td>5.9525</td><td>182.0</td><td>1.1</td><td>Pisces II</td><td>344.62917</td><td>--</td></tr>\n",
       "<tr><td>-59.6</td><td>25.0</td><td>6.0</td><td>Tucana III</td><td>359.15</td><td>\\citep{1508.03622}</td></tr>\n",
       "</table>"
      ],
      "text/plain": [
       "<Table length=53>\n",
       "  dec    distance major_axis ...     ra               refs          \n",
       "float64  float64   float64   ...  float64            str25          \n",
       "-------- -------- ---------- ... --------- -------------------------\n",
       "   36.18     30.0        3.9 ...     33.32        \\citep{1503.05554}\n",
       "17.05139    417.0       0.99 ...  143.7225                        --\n",
       "   51.92     97.0       11.3 ...    158.72      \\citep{Simon:2007dq}\n",
       "  -52.28     95.5       0.42 ...     35.69        \\citep{1503.02584}\n",
       " -34.449    147.0       16.6 ...    39.997     \\citep{Walker:2008ax}\n",
       "    26.8     47.0        nan ...     209.3                        --\n",
       " -50.966    105.0        8.2 ...  100.4029     \\citep{Walker:2008ax}\n",
       "16.08194     23.0        4.4 ... 151.76667      \\citep{Simon:2010ek}\n",
       "  -50.16    120.0       2.23 ...    344.18        \\citep{1503.02079}\n",
       "  -54.41     95.5        1.2 ...    354.99        \\citep{1503.02584}\n",
       "     ...      ...        ... ...       ...                       ...\n",
       "-30.5453     26.0      342.0 ...   283.831 \\citep{Frinchaboy:2012ur}\n",
       "  -28.03    182.0        1.9 ...     82.86        \\citep{1508.03622}\n",
       "20.17528     35.0        3.4 ...  34.81667     \\citep{Kirby:2013isa}\n",
       "57.91528     76.0       10.0 ... 260.05167              \\FIXME{[ ?]}\n",
       " -22.068     67.0        2.0 ...   298.169        \\citep{1507.07564}\n",
       " -33.709     86.0       11.3 ...    15.039     \\citep{Walker:2008ax}\n",
       "34.32083    160.0        1.6 ... 194.29167      \\citep{Simon:2007dq}\n",
       "  -60.85     48.0       11.8 ...      0.73        \\citep{1508.03622}\n",
       "  5.9525    182.0        1.1 ... 344.62917                        --\n",
       "   -59.6     25.0        6.0 ...    359.15        \\citep{1508.03622}"
      ]
     },
     "execution_count": 9,
     "metadata": {},
     "output_type": "execute_result"
    }
   ],
   "source": [
    "#collapse the dictionary tree into something that can be converted into a simple table \n",
    "keys = ['name','ra', 'dec', 'distance','major_axis','refs']\n",
    "flatDict=[]\n",
    "for key in dataMap:\n",
    "    keyDict = {x:dataMap[key][x] for x in keys}\n",
    "    flatDict.append(keyDict)\n",
    "\n",
    "dwarfTable=Table(flatDict)\n",
    "dwarfTable"
   ]
  },
  {
   "cell_type": "code",
   "execution_count": 11,
   "metadata": {
    "collapsed": false
   },
   "outputs": [
    {
     "data": {
      "text/html": [
       "&lt;Table length=53&gt;\n",
       "<table id=\"table2402953039208\" class=\"table-striped table-bordered table-condensed\">\n",
       "<thead><tr><th>dec</th><th>distance</th><th>major_axis</th><th>name</th><th>ra</th><th>byDES</th></tr></thead>\n",
       "<thead><tr><th>float64</th><th>float64</th><th>float64</th><th>str24</th><th>float64</th><th>float64</th></tr></thead>\n",
       "<tr><td>36.18</td><td>30.0</td><td>3.9</td><td>Triangulum II</td><td>33.32</td><td>0.0</td></tr>\n",
       "<tr><td>17.05139</td><td>417.0</td><td>0.99</td><td>Leo T</td><td>143.7225</td><td>0.0</td></tr>\n",
       "<tr><td>51.92</td><td>97.0</td><td>11.3</td><td>Ursa Major I</td><td>158.72</td><td>0.0</td></tr>\n",
       "<tr><td>-52.28</td><td>95.5</td><td>0.42</td><td>Eridanus III</td><td>35.69</td><td>1.0</td></tr>\n",
       "<tr><td>-34.449</td><td>147.0</td><td>16.6</td><td>Fornax</td><td>39.997</td><td>0.0</td></tr>\n",
       "<tr><td>26.8</td><td>47.0</td><td>nan</td><td>Bootes III</td><td>209.3</td><td>0.0</td></tr>\n",
       "<tr><td>-50.966</td><td>105.0</td><td>8.2</td><td>Carina</td><td>100.4029</td><td>0.0</td></tr>\n",
       "<tr><td>16.08194</td><td>23.0</td><td>4.4</td><td>Segue 1</td><td>151.76667</td><td>0.0</td></tr>\n",
       "<tr><td>-50.16</td><td>120.0</td><td>2.23</td><td>Grus I</td><td>344.18</td><td>0.0</td></tr>\n",
       "<tr><td>-54.41</td><td>95.5</td><td>1.2</td><td>Phoenix II</td><td>354.99</td><td>1.0</td></tr>\n",
       "<tr><td>...</td><td>...</td><td>...</td><td>...</td><td>...</td><td>...</td></tr>\n",
       "<tr><td>-30.5453</td><td>26.0</td><td>342.0</td><td>Sagittarius</td><td>283.831</td><td>0.0</td></tr>\n",
       "<tr><td>-28.03</td><td>182.0</td><td>1.9</td><td>Columba I</td><td>82.86</td><td>1.0</td></tr>\n",
       "<tr><td>20.17528</td><td>35.0</td><td>3.4</td><td>Segue 2</td><td>34.81667</td><td>0.0</td></tr>\n",
       "<tr><td>57.91528</td><td>76.0</td><td>10.0</td><td>Draco</td><td>260.05167</td><td>0.0</td></tr>\n",
       "<tr><td>-22.068</td><td>67.0</td><td>2.0</td><td>Sagittarius II</td><td>298.169</td><td>0.0</td></tr>\n",
       "<tr><td>-33.709</td><td>86.0</td><td>11.3</td><td>Sculptor</td><td>15.039</td><td>0.0</td></tr>\n",
       "<tr><td>34.32083</td><td>160.0</td><td>1.6</td><td>Canes Venatici II</td><td>194.29167</td><td>0.0</td></tr>\n",
       "<tr><td>-60.85</td><td>48.0</td><td>11.8</td><td>Tucana IV</td><td>0.73</td><td>1.0</td></tr>\n",
       "<tr><td>5.9525</td><td>182.0</td><td>1.1</td><td>Pisces II</td><td>344.62917</td><td>0.0</td></tr>\n",
       "<tr><td>-59.6</td><td>25.0</td><td>6.0</td><td>Tucana III</td><td>359.15</td><td>1.0</td></tr>\n",
       "</table>"
      ],
      "text/plain": [
       "<Table length=53>\n",
       "  dec    distance major_axis        name           ra     byDES \n",
       "float64  float64   float64         str24        float64  float64\n",
       "-------- -------- ---------- ----------------- --------- -------\n",
       "   36.18     30.0        3.9     Triangulum II     33.32     0.0\n",
       "17.05139    417.0       0.99             Leo T  143.7225     0.0\n",
       "   51.92     97.0       11.3      Ursa Major I    158.72     0.0\n",
       "  -52.28     95.5       0.42      Eridanus III     35.69     1.0\n",
       " -34.449    147.0       16.6            Fornax    39.997     0.0\n",
       "    26.8     47.0        nan        Bootes III     209.3     0.0\n",
       " -50.966    105.0        8.2            Carina  100.4029     0.0\n",
       "16.08194     23.0        4.4           Segue 1 151.76667     0.0\n",
       "  -50.16    120.0       2.23            Grus I    344.18     0.0\n",
       "  -54.41     95.5        1.2        Phoenix II    354.99     1.0\n",
       "     ...      ...        ...               ...       ...     ...\n",
       "-30.5453     26.0      342.0       Sagittarius   283.831     0.0\n",
       "  -28.03    182.0        1.9         Columba I     82.86     1.0\n",
       "20.17528     35.0        3.4           Segue 2  34.81667     0.0\n",
       "57.91528     76.0       10.0             Draco 260.05167     0.0\n",
       " -22.068     67.0        2.0    Sagittarius II   298.169     0.0\n",
       " -33.709     86.0       11.3          Sculptor    15.039     0.0\n",
       "34.32083    160.0        1.6 Canes Venatici II 194.29167     0.0\n",
       "  -60.85     48.0       11.8         Tucana IV      0.73     1.0\n",
       "  5.9525    182.0        1.1         Pisces II 344.62917     0.0\n",
       "   -59.6     25.0        6.0        Tucana III    359.15     1.0"
      ]
     },
     "execution_count": 11,
     "metadata": {},
     "output_type": "execute_result"
    }
   ],
   "source": [
    "# Here we will add an additional column which is 1 if that galaxy was discovered by DES, 0 otherwise. \n",
    "# This column will be used to color the galaxies in the final visualizaton\n",
    "import numpy as np\n",
    "byDES=np.zeros(len(dwarfTable))\n",
    "for i in range(len(dwarfTable['refs'])):\n",
    "  if ('1508.03622' in dwarfTable['refs'][i]):\n",
    "    byDES[i]=1.\n",
    "  elif ('1503.02584' in dwarfTable['refs'][i]):\n",
    "    byDES[i]=1.\n",
    "dwarfTable.add_column(Column(byDES,name='byDES'))  \n",
    "dwarfTable.remove_column('refs')  \n",
    "dwarfTable"
   ]
  },
  {
   "cell_type": "code",
   "execution_count": 35,
   "metadata": {
    "collapsed": true
   },
   "outputs": [],
   "source": [
    "dwarfTable.show_in_browser(jsviewer=True)"
   ]
  },
  {
   "cell_type": "markdown",
   "metadata": {
    "collapsed": true
   },
   "source": [
    "### Write as VOTable\n",
    "Digital Sky Dark Matter reads VOTables. Dark Matter can parse the UCDs, however, here we won't bother to set them. We will provide Dark Matter with a seperate xml file that tells it how to interpret the VOTable (which columns are coordinates, which are labels, which should be used to size or color the particles). We can now provide spherical coordinates (ra,dec,distance), no longer having to convert to cartesian."
   ]
  },
  {
   "cell_type": "code",
   "execution_count": 13,
   "metadata": {
    "collapsed": false
   },
   "outputs": [],
   "source": [
    "# Write the VO Table\n",
    "dwarfTable.write('data/MWdwarfs.xml',format='votable')"
   ]
  },
  {
   "cell_type": "code",
   "execution_count": 14,
   "metadata": {
    "collapsed": true
   },
   "outputs": [],
   "source": [
    "# Write the xml file that contains column descriptions\n",
    "import xml.etree.cElementTree as ET\n",
    "\n",
    "root = ET.Element(\"ParticleTable\")\n",
    "doc = ET.SubElement(root, \"Columns\")\n",
    "ET.SubElement(doc, \"AddField\", data=\"ra\", type=\"RA\")\n",
    "ET.SubElement(doc, \"AddField\", data=\"dec\", type=\"DEC\")\n",
    "ET.SubElement(doc, \"AddField\", data=\"name\", type=\"LABEL\")\n",
    "ET.SubElement(doc, \"AddField\", data=\"distance\", type=\"DIST\")\n",
    "ET.SubElement(doc, \"AddField\", data=\"major_axis\")\n",
    "ET.SubElement(doc, \"AddField\", data=\"byDES\")\n",
    "tree = ET.ElementTree(root)\n",
    "tree.write(\"data/MWdwarfs_fields.xml\")"
   ]
  },
  {
   "cell_type": "markdown",
   "metadata": {},
   "source": [
    "## Write a colormap file\n",
    "Digital Sky Dark Matter reads colormaps in the partiview .cmap file. These can either be interpreted as continous or indexed colors. Here we will generate one with just two colors one for galaxies discovered by DES one for all others. "
   ]
  },
  {
   "cell_type": "code",
   "execution_count": 25,
   "metadata": {
    "collapsed": false
   },
   "outputs": [],
   "source": [
    "cmapFile=open('data/DES.cmap', 'w')\n",
    "cmapFile.write('2\\n1 1 1 1\\n1 0 0 1\\n')\n",
    "cmapFile.close()"
   ]
  },
  {
   "cell_type": "markdown",
   "metadata": {},
   "source": [
    "# Tidal disruption of the Saggitarius Dwarf Galaxy\n",
    "Here we will create the files necessary to visualize an N-body simulation of the tidal disruption of the Sagattarius Dwarf galaxy as described in Law and Majewski 2012 http://iopscience.iop.org/0004-637X/714/1/229/article Data files were taken from the website: http://www.astro.virginia.edu/~srm4n/Sgr/data.html\n",
    "<img src=\"https://raw.githubusercontent.com/marksubbarao/pyWWT_AAS225/master/images/SgrStream.png\">"
   ]
  },
  {
   "cell_type": "code",
   "execution_count": 21,
   "metadata": {
    "collapsed": false
   },
   "outputs": [
    {
     "data": {
      "text/html": [
       "&lt;Table length=100000&gt;\n",
       "<table id=\"table2402953025912\" class=\"table-striped table-bordered table-condensed\">\n",
       "<thead><tr><th>ra</th><th>dec</th><th>dist</th><th>Pcol</th></tr></thead>\n",
       "<thead><tr><th>float64</th><th>float64</th><th>float64</th><th>int32</th></tr></thead>\n",
       "<tr><td>295.968</td><td>-42.1607</td><td>65.9751</td><td>8</td></tr>\n",
       "<tr><td>284.571</td><td>-31.0457</td><td>28.7055</td><td>-1</td></tr>\n",
       "<tr><td>300.004</td><td>-31.3875</td><td>24.1148</td><td>0</td></tr>\n",
       "<tr><td>279.433</td><td>-35.746</td><td>62.4169</td><td>8</td></tr>\n",
       "<tr><td>267.578</td><td>-38.2792</td><td>49.9106</td><td>7</td></tr>\n",
       "<tr><td>176.893</td><td>1.10254</td><td>47.1228</td><td>4</td></tr>\n",
       "<tr><td>104.444</td><td>33.1628</td><td>53.4371</td><td>4</td></tr>\n",
       "<tr><td>71.5963</td><td>-0.34414</td><td>25.8991</td><td>5</td></tr>\n",
       "<tr><td>201.532</td><td>39.4735</td><td>44.6561</td><td>8</td></tr>\n",
       "<tr><td>341.573</td><td>-24.3602</td><td>24.3915</td><td>0</td></tr>\n",
       "<tr><td>...</td><td>...</td><td>...</td><td>...</td></tr>\n",
       "<tr><td>341.335</td><td>-40.5922</td><td>84.2152</td><td>5</td></tr>\n",
       "<tr><td>83.1511</td><td>11.1116</td><td>21.6164</td><td>6</td></tr>\n",
       "<tr><td>280.495</td><td>-29.8858</td><td>29.2356</td><td>-1</td></tr>\n",
       "<tr><td>72.5915</td><td>8.54601</td><td>13.437</td><td>7</td></tr>\n",
       "<tr><td>354.151</td><td>-7.18791</td><td>27.5705</td><td>7</td></tr>\n",
       "<tr><td>74.4983</td><td>21.7006</td><td>51.3039</td><td>3</td></tr>\n",
       "<tr><td>186.857</td><td>25.8397</td><td>21.8432</td><td>6</td></tr>\n",
       "<tr><td>45.3987</td><td>12.4169</td><td>28.5121</td><td>1</td></tr>\n",
       "<tr><td>285.87</td><td>-25.5548</td><td>49.0082</td><td>8</td></tr>\n",
       "<tr><td>218.982</td><td>21.9778</td><td>49.079</td><td>8</td></tr>\n",
       "</table>"
      ],
      "text/plain": [
       "<Table length=100000>\n",
       "   ra     dec      dist   Pcol\n",
       "float64 float64  float64 int32\n",
       "------- -------- ------- -----\n",
       "295.968 -42.1607 65.9751     8\n",
       "284.571 -31.0457 28.7055    -1\n",
       "300.004 -31.3875 24.1148     0\n",
       "279.433  -35.746 62.4169     8\n",
       "267.578 -38.2792 49.9106     7\n",
       "176.893  1.10254 47.1228     4\n",
       "104.444  33.1628 53.4371     4\n",
       "71.5963 -0.34414 25.8991     5\n",
       "201.532  39.4735 44.6561     8\n",
       "341.573 -24.3602 24.3915     0\n",
       "    ...      ...     ...   ...\n",
       "341.335 -40.5922 84.2152     5\n",
       "83.1511  11.1116 21.6164     6\n",
       "280.495 -29.8858 29.2356    -1\n",
       "72.5915  8.54601  13.437     7\n",
       "354.151 -7.18791 27.5705     7\n",
       "74.4983  21.7006 51.3039     3\n",
       "186.857  25.8397 21.8432     6\n",
       "45.3987  12.4169 28.5121     1\n",
       " 285.87 -25.5548 49.0082     8\n",
       "218.982  21.9778  49.079     8"
      ]
     },
     "execution_count": 21,
     "metadata": {},
     "output_type": "execute_result"
    }
   ],
   "source": [
    "#Import data set, keeping only the columns we need.\n",
    "Stars = Table.read('data/SgrTriax_DYN.dat', format='ascii.basic')\n",
    "Stars.keep_columns([\"ra\",\"dec\",\"dist\",\"Pcol\"])\n",
    "Stars"
   ]
  },
  {
   "cell_type": "code",
   "execution_count": 26,
   "metadata": {
    "collapsed": true
   },
   "outputs": [],
   "source": [
    "# Write as VO Table\n",
    "Stars.write('data/SGdwarf.xml',format='votable')"
   ]
  },
  {
   "cell_type": "code",
   "execution_count": 27,
   "metadata": {
    "collapsed": true
   },
   "outputs": [],
   "source": [
    "# Write the xml file that contains column descriptions\n",
    "import xml.etree.cElementTree as ET\n",
    "\n",
    "root = ET.Element(\"ParticleTable\")\n",
    "doc = ET.SubElement(root, \"Columns\")\n",
    "ET.SubElement(doc, \"AddField\", data=\"ra\", type=\"RA\")\n",
    "ET.SubElement(doc, \"AddField\", data=\"dec\", type=\"DEC\")\n",
    "ET.SubElement(doc, \"AddField\", data=\"dist\", type=\"DIST\")\n",
    "ET.SubElement(doc, \"AddField\", data=\"Pcol\")\n",
    "tree = ET.ElementTree(root)\n",
    "tree.write(\"data/SGdwarf_fields.xml\")"
   ]
  },
  {
   "cell_type": "markdown",
   "metadata": {},
   "source": [
    "### Constructing th Colormap\n",
    "Pcol indicates the pass when stars were stripped from the dwarf galaxy. We will constructing an identical colormap to the one used in the LM12 paper. Black is changed to grey for visability."
   ]
  },
  {
   "cell_type": "code",
   "execution_count": 28,
   "metadata": {
    "collapsed": true
   },
   "outputs": [],
   "source": [
    "cmapFile=open('data/SG.cmap', 'w')\n",
    "cmapFile.write('''2\n",
    "0.5 0.5 0.5 1.0\n",
    "1.0 0.5 0.0 1.0\n",
    "1.0 0.5 0.0 1.0\n",
    "1.0 0.0 1.0 1.0\n",
    "1.0 0.0 1.0 1.0\n",
    "0.0 1.0 1.0 1.0\n",
    "0.0 1.0 1.0 1.0\n",
    "0.0 1.0 0.1 1.0\n",
    "''')\n",
    "cmapFile.close()"
   ]
  },
  {
   "cell_type": "code",
   "execution_count": null,
   "metadata": {
    "collapsed": true
   },
   "outputs": [],
   "source": []
  }
 ],
 "metadata": {
  "anaconda-cloud": {},
  "kernelspec": {
   "display_name": "Python [default]",
   "language": "python",
   "name": "python3"
  },
  "language_info": {
   "codemirror_mode": {
    "name": "ipython",
    "version": 3
   },
   "file_extension": ".py",
   "mimetype": "text/x-python",
   "name": "python",
   "nbconvert_exporter": "python",
   "pygments_lexer": "ipython3",
   "version": "3.5.2"
  }
 },
 "nbformat": 4,
 "nbformat_minor": 0
}
