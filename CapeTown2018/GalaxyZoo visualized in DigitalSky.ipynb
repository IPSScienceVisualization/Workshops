{
 "cells": [
  {
   "cell_type": "markdown",
   "metadata": {},
   "source": [
    "## Acquiring the data from the GalaxyZoo site"
   ]
  },
  {
   "cell_type": "code",
   "execution_count": 1,
   "metadata": {
    "collapsed": true
   },
   "outputs": [],
   "source": [
    "from astropy import units as u\n",
    "from astropy.coordinates import SkyCoord\n",
    "from astropy.coordinates import Distance, Angle\n",
    "from astropy.table import Table, Column\n",
    "from astropy.io import ascii\n",
    "import xml.etree.ElementTree as ET, urllib.request, gzip, io"
   ]
  },
  {
   "cell_type": "code",
   "execution_count": 7,
   "metadata": {
    "collapsed": false
   },
   "outputs": [
    {
     "name": "stderr",
     "output_type": "stream",
     "text": [
      "WARNING: W50: data/GalaxyZoo1_DR_table2.vot:15:0: W50: Invalid unit string 'hms' [astropy.io.votable.tree]\n",
      "WARNING: W50: data/GalaxyZoo1_DR_table2.vot:18:0: W50: Invalid unit string 'dms' [astropy.io.votable.tree]\n"
     ]
    }
   ],
   "source": [
    "t = Table.read('data/GalaxyZoo1_DR_table2.vot',format='votable')"
   ]
  },
  {
   "cell_type": "code",
   "execution_count": 8,
   "metadata": {
    "collapsed": false
   },
   "outputs": [
    {
     "data": {
      "text/html": [
       "&lt;Table masked=True length=667944&gt;\n",
       "<table id=\"table2185316041112\" class=\"table-striped table-bordered table-condensed\">\n",
       "<thead><tr><th>OBJID</th><th>RA</th><th>DEC</th><th>NVOTE</th><th>P_EL</th><th>P_CW</th><th>P_ACW</th><th>P_EDGE</th><th>P_DK</th><th>P_MG</th><th>P_CS</th><th>P_EL_DEBIASED</th><th>P_CS_DEBIASED</th><th>SPIRAL</th><th>ELLIPTICAL</th><th>UNCERTAIN</th></tr></thead>\n",
       "<thead><tr><th></th><th>hms</th><th>dms</th><th></th><th></th><th></th><th></th><th></th><th></th><th></th><th></th><th></th><th></th><th></th><th></th><th></th></tr></thead>\n",
       "<thead><tr><th>int64</th><th>bytes11</th><th>bytes11</th><th>int16</th><th>float32</th><th>float32</th><th>float32</th><th>float32</th><th>float32</th><th>float32</th><th>float32</th><th>float32</th><th>float32</th><th>int16</th><th>int16</th><th>int16</th></tr></thead>\n",
       "<tr><td>587727178986356823</td><td>00:00:00.41</td><td>-10:22:25.7</td><td>59</td><td>0.61000001</td><td>0.034000002</td><td>0.0</td><td>0.153</td><td>0.153</td><td>0.050999999</td><td>0.186</td><td>0.61000001</td><td>0.186</td><td>0</td><td>0</td><td>1</td></tr>\n",
       "<tr><td>587727227300741210</td><td>00:00:00.74</td><td>-09:13:20.2</td><td>18</td><td>0.611</td><td>0.0</td><td>0.167</td><td>0.222</td><td>0.0</td><td>0.0</td><td>0.389</td><td>0.20299999</td><td>0.79699999</td><td>1</td><td>0</td><td>0</td></tr>\n",
       "<tr><td>587727225153257596</td><td>00:00:01.03</td><td>-10:56:48.0</td><td>68</td><td>0.73500001</td><td>0.028999999</td><td>0.0</td><td>0.147</td><td>0.074000001</td><td>0.015</td><td>0.176</td><td>0.43200001</td><td>0.428</td><td>0</td><td>0</td><td>1</td></tr>\n",
       "<tr><td>587730774962536596</td><td>00:00:01.38</td><td>+15:30:35.3</td><td>52</td><td>0.88499999</td><td>0.018999999</td><td>0.0</td><td>0.057999998</td><td>0.018999999</td><td>0.018999999</td><td>0.077</td><td>0.88499999</td><td>0.077</td><td>0</td><td>1</td><td>0</td></tr>\n",
       "<tr><td>587731186203885750</td><td>00:00:01.55</td><td>-00:05:33.3</td><td>59</td><td>0.71200001</td><td>0.0</td><td>0.0</td><td>0.22</td><td>0.068000004</td><td>0.0</td><td>0.22</td><td>0.63999999</td><td>0.28999999</td><td>0</td><td>0</td><td>1</td></tr>\n",
       "<tr><td>587727180060098638</td><td>00:00:01.57</td><td>-09:29:40.3</td><td>28</td><td>0.85699999</td><td>0.0</td><td>0.035999998</td><td>0.0</td><td>0.107</td><td>0.0</td><td>0.035999998</td><td>0.82999998</td><td>0.059999999</td><td>0</td><td>0</td><td>1</td></tr>\n",
       "<tr><td>587731187277627676</td><td>00:00:01.86</td><td>+00:43:09.3</td><td>38</td><td>0.5</td><td>0.0</td><td>0.052999999</td><td>0.289</td><td>0.105</td><td>0.052999999</td><td>0.34200001</td><td>0.35100001</td><td>0.47299999</td><td>0</td><td>0</td><td>1</td></tr>\n",
       "<tr><td>587727223024189605</td><td>00:00:02.00</td><td>+15:41:49.8</td><td>26</td><td>0.42300001</td><td>0.0</td><td>0.0</td><td>0.57700002</td><td>0.0</td><td>0.0</td><td>0.57700002</td><td>0.14300001</td><td>0.85699999</td><td>1</td><td>0</td><td>0</td></tr>\n",
       "<tr><td>587730775499407375</td><td>00:00:02.10</td><td>+15:52:54.2</td><td>62</td><td>0.35499999</td><td>0.016000001</td><td>0.20999999</td><td>0.32300001</td><td>0.0</td><td>0.097000003</td><td>0.54799998</td><td>0.35499999</td><td>0.54799998</td><td>0</td><td>0</td><td>1</td></tr>\n",
       "<tr><td>...</td><td>...</td><td>...</td><td>...</td><td>...</td><td>...</td><td>...</td><td>...</td><td>...</td><td>...</td><td>...</td><td>...</td><td>...</td><td>...</td><td>...</td><td>...</td></tr>\n",
       "<tr><td>587727225153257594</td><td>23:59:57.69</td><td>-10:54:41.5</td><td>27</td><td>0.111</td><td>0.0</td><td>0.037</td><td>0.852</td><td>0.0</td><td>0.0</td><td>0.889</td><td>0.1</td><td>0.89999998</td><td>1</td><td>0</td><td>0</td></tr>\n",
       "<tr><td>587730774962536576</td><td>23:59:57.88</td><td>+15:31:29.1</td><td>36</td><td>0.917</td><td>0.0</td><td>0.0</td><td>0.028000001</td><td>0.028000001</td><td>0.028000001</td><td>0.028000001</td><td>0.88700002</td><td>0.056000002</td><td>0</td><td>0</td><td>1</td></tr>\n",
       "<tr><td>587727180596969561</td><td>23:59:58.46</td><td>-09:06:02.2</td><td>57</td><td>0.175</td><td>0.47400001</td><td>0.035</td><td>0.088</td><td>0.017999999</td><td>0.211</td><td>0.59600002</td><td>0.175</td><td>0.59600002</td><td>0</td><td>0</td><td>1</td></tr>\n",
       "<tr><td>587727227837612104</td><td>23:59:58.53</td><td>-08:43:19.6</td><td>48</td><td>0.082999997</td><td>0.021</td><td>0.68800002</td><td>0.167</td><td>0.021</td><td>0.021</td><td>0.875</td><td>0.028999999</td><td>0.92799997</td><td>1</td><td>0</td><td>0</td></tr>\n",
       "<tr><td>587730774962536585</td><td>23:59:58.71</td><td>+15:22:40.8</td><td>28</td><td>0.67900002</td><td>0.071000002</td><td>0.0</td><td>0.214</td><td>0.035999998</td><td>0.0</td><td>0.28600001</td><td>0.22499999</td><td>0.70499998</td><td>1</td><td>0</td><td>0</td></tr>\n",
       "<tr><td>587727226763870322</td><td>23:59:58.76</td><td>-09:41:34.7</td><td>35</td><td>0.171</td><td>0.80000001</td><td>0.0</td><td>0.028999999</td><td>0.0</td><td>0.0</td><td>0.829</td><td>0.057</td><td>0.94300002</td><td>1</td><td>0</td><td>0</td></tr>\n",
       "<tr><td>587730775499407475</td><td>23:59:58.78</td><td>+15:49:01.3</td><td>21</td><td>0.81</td><td>0.048</td><td>0.0</td><td>0.094999999</td><td>0.048</td><td>0.0</td><td>0.14300001</td><td>0.75800002</td><td>0.193</td><td>0</td><td>0</td><td>1</td></tr>\n",
       "<tr><td>587727223024124280</td><td>23:59:58.81</td><td>+15:39:49.4</td><td>28</td><td>0.28600001</td><td>0.0</td><td>0.071000002</td><td>0.39300001</td><td>0.17900001</td><td>0.071000002</td><td>0.46399999</td><td>0.098999999</td><td>0.60299999</td><td>0</td><td>0</td><td>1</td></tr>\n",
       "<tr><td>587730774425600239</td><td>23:59:59.02</td><td>+15:09:18.8</td><td>23</td><td>0.391</td><td>0.0</td><td>0.043000001</td><td>0.0</td><td>0.13</td><td>0.435</td><td>0.043000001</td><td>0.38999999</td><td>0.045000002</td><td>0</td><td>0</td><td>1</td></tr>\n",
       "<tr><td>587727177912615023</td><td>23:59:59.37</td><td>-11:11:31.5</td><td>54</td><td>0.55599999</td><td>0.0</td><td>0.037</td><td>0.333</td><td>0.074000001</td><td>0.0</td><td>0.37</td><td>0.153</td><td>0.722</td><td>1</td><td>0</td><td>0</td></tr>\n",
       "</table>"
      ],
      "text/plain": [
       "<Table masked=True length=667944>\n",
       "      OBJID             RA         DEC     NVOTE ... SPIRAL ELLIPTICAL UNCERTAIN\n",
       "                       hms         dms           ...                            \n",
       "      int64          bytes11     bytes11   int16 ... int16    int16      int16  \n",
       "------------------ ----------- ----------- ----- ... ------ ---------- ---------\n",
       "587727178986356823 00:00:00.41 -10:22:25.7    59 ...      0          0         1\n",
       "587727227300741210 00:00:00.74 -09:13:20.2    18 ...      1          0         0\n",
       "587727225153257596 00:00:01.03 -10:56:48.0    68 ...      0          0         1\n",
       "587730774962536596 00:00:01.38 +15:30:35.3    52 ...      0          1         0\n",
       "587731186203885750 00:00:01.55 -00:05:33.3    59 ...      0          0         1\n",
       "587727180060098638 00:00:01.57 -09:29:40.3    28 ...      0          0         1\n",
       "587731187277627676 00:00:01.86 +00:43:09.3    38 ...      0          0         1\n",
       "587727223024189605 00:00:02.00 +15:41:49.8    26 ...      1          0         0\n",
       "587730775499407375 00:00:02.10 +15:52:54.2    62 ...      0          0         1\n",
       "               ...         ...         ...   ... ...    ...        ...       ...\n",
       "587727225153257594 23:59:57.69 -10:54:41.5    27 ...      1          0         0\n",
       "587730774962536576 23:59:57.88 +15:31:29.1    36 ...      0          0         1\n",
       "587727180596969561 23:59:58.46 -09:06:02.2    57 ...      0          0         1\n",
       "587727227837612104 23:59:58.53 -08:43:19.6    48 ...      1          0         0\n",
       "587730774962536585 23:59:58.71 +15:22:40.8    28 ...      1          0         0\n",
       "587727226763870322 23:59:58.76 -09:41:34.7    35 ...      1          0         0\n",
       "587730775499407475 23:59:58.78 +15:49:01.3    21 ...      0          0         1\n",
       "587727223024124280 23:59:58.81 +15:39:49.4    28 ...      0          0         1\n",
       "587730774425600239 23:59:59.02 +15:09:18.8    23 ...      0          0         1\n",
       "587727177912615023 23:59:59.37 -11:11:31.5    54 ...      1          0         0"
      ]
     },
     "execution_count": 8,
     "metadata": {},
     "output_type": "execute_result"
    }
   ],
   "source": [
    "t\n"
   ]
  },
  {
   "cell_type": "code",
   "execution_count": null,
   "metadata": {
    "collapsed": true
   },
   "outputs": [],
   "source": []
  }
 ],
 "metadata": {
  "anaconda-cloud": {},
  "kernelspec": {
   "display_name": "Python [conda root]",
   "language": "python",
   "name": "conda-root-py"
  },
  "language_info": {
   "codemirror_mode": {
    "name": "ipython",
    "version": 3
   },
   "file_extension": ".py",
   "mimetype": "text/x-python",
   "name": "python",
   "nbconvert_exporter": "python",
   "pygments_lexer": "ipython3",
   "version": "3.5.2"
  }
 },
 "nbformat": 4,
 "nbformat_minor": 1
}
