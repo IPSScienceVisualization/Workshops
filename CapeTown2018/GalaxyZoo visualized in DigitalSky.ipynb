{
 "cells": [
  {
   "cell_type": "markdown",
   "metadata": {},
   "source": [
    "## Acquiring the data from the GalaxyZoo site"
   ]
  },
  {
   "cell_type": "code",
   "execution_count": 4,
   "metadata": {
    "collapsed": true
   },
   "outputs": [],
   "source": [
    "from astropy import units as u\n",
    "from astropy.coordinates import SkyCoord\n",
    "from astropy.coordinates import Distance, Angle\n",
    "from astropy.table import Table, Column\n",
    "from astropy.io import ascii\n",
    "import xml.etree.ElementTree as ET, urllib.request, gzip, io"
   ]
  },
  {
   "cell_type": "markdown",
   "metadata": {},
   "source": [
    "Galaxy Zoo data sets are [here:](https://data.galaxyzoo.org/) We will use table 2. However we will need to join this catalog with the SDSS catalogs to get the galaxies' redshift values so that we can plot them in 3D. We can do that on [SciServer](http://www.sciserver.org/) by performing the following query:\n",
    "\n",
    "    SELECT gz.ra,gz.dec,sp.z,gz.p_el,gz.p_cw,gz.p_mg\n",
    "    FROM DR10.zooSpec as gz JOIN  DR8.specObjAll as sp on sp.specobjid=gz.specobjid\n",
    "    WHERE sp.zWarning=0 and sp.z >0.0005   "
   ]
  },
  {
   "cell_type": "code",
   "execution_count": 20,
   "metadata": {
    "collapsed": false
   },
   "outputs": [],
   "source": [
    "#Let's read in the table we return\n",
    "GZtable = ascii.read('data/galaxyZoo.csv')"
   ]
  },
  {
   "cell_type": "code",
   "execution_count": 21,
   "metadata": {
    "collapsed": false
   },
   "outputs": [],
   "source": [
    "# We'll calculate a new column with comoving distance based on the redshift\n",
    "from astropy.cosmology import Planck15\n",
    "GZtable.add_column(Column(Planck15.comoving_distance(GZtable['z']),name='dist'))\n",
    "GZtable.add_column(Column(GZtable['ra']/15.,name='ra_h'))\n",
    "GZtable.remove_column('ra')\n"
   ]
  },
  {
   "cell_type": "code",
   "execution_count": 22,
   "metadata": {
    "collapsed": true
   },
   "outputs": [],
   "source": [
    "# Write VO Table\n",
    "GZtable.write('data/GZ.xml',format='votable')"
   ]
  },
  {
   "cell_type": "code",
   "execution_count": 23,
   "metadata": {
    "collapsed": true
   },
   "outputs": [],
   "source": [
    "# Write the xml file that contains column descriptions\n",
    "import xml.etree.cElementTree as ET\n",
    "\n",
    "root = ET.Element(\"ParticleTable\")\n",
    "doc = ET.SubElement(root, \"Columns\")\n",
    "ET.SubElement(doc, \"AddField\", data=\"ra_h\", type=\"RA\")\n",
    "ET.SubElement(doc, \"AddField\", data=\"dec\", type=\"DEC\")\n",
    "ET.SubElement(doc, \"AddField\", data=\"dist\", type=\"DIST\")\n",
    "ET.SubElement(doc, \"AddField\", data=\"p_el\")\n",
    "ET.SubElement(doc, \"AddField\", data=\"p_cw\")\n",
    "ET.SubElement(doc, \"AddField\", data=\"p_mg\")\n",
    "tree = ET.ElementTree(root)\n",
    "tree.write(\"data/galaxyZoo_fields.xml\")"
   ]
  },
  {
   "cell_type": "markdown",
   "metadata": {
    "collapsed": true
   },
   "source": [
    "### A simple red/blue diverging colormap for showing the classifications"
   ]
  },
  {
   "cell_type": "code",
   "execution_count": 2,
   "metadata": {
    "collapsed": true
   },
   "outputs": [],
   "source": [
    "cmapFile=open('data/RedBlue.cmap', 'w')\n",
    "cmapFile.write('''3\n",
    "0.0 0.0 1.0 1.0\n",
    "1.0 1.0 1.0 1.0\n",
    "1.0 0.0 0.0 1.0\n",
    "''')\n",
    "cmapFile.close()"
   ]
  },
  {
   "cell_type": "code",
   "execution_count": null,
   "metadata": {
    "collapsed": true
   },
   "outputs": [],
   "source": []
  }
 ],
 "metadata": {
  "anaconda-cloud": {},
  "kernelspec": {
   "display_name": "Python [conda root]",
   "language": "python",
   "name": "conda-root-py"
  },
  "language_info": {
   "codemirror_mode": {
    "name": "ipython",
    "version": 3
   },
   "file_extension": ".py",
   "mimetype": "text/x-python",
   "name": "python",
   "nbconvert_exporter": "python",
   "pygments_lexer": "ipython3",
   "version": "3.5.2"
  }
 },
 "nbformat": 4,
 "nbformat_minor": 1
}
