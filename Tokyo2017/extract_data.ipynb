{
 "cells": [
  {
   "cell_type": "markdown",
   "metadata": {},
   "source": [
    "# 3. Extracting minimum necessary data from original Gaia's data files\n",
    "To make a Milky Way texture, the necessary data are only the two-dimensional positions on the celestial sphere and magnitudes of stars.\n",
    "Here, let's extract them from the original data files and save them in other files in order to reduce the data file size. \n",
    "\n",
    "The original files of Gaia DR1 in the CSV format downloaded in the previous section are compressed by the gzip. We can treat these gzipped files by using `gzip` module in Python.\n",
    "\n",
    "First of all, enter the following code in the cell below. This import Python modules used in this section and then defines the directories for input and output.\n",
    "```\n",
    "import gzip\n",
    "import os.path\n",
    "import struct\n",
    "\n",
    "src_dir = './orig_data'\n",
    "dest_dir = './extract_data'\n",
    "```"
   ]
  },
  {
   "cell_type": "code",
   "execution_count": null,
   "metadata": {
    "collapsed": true
   },
   "outputs": [],
   "source": []
  },
  {
   "cell_type": "markdown",
   "metadata": {},
   "source": [
    "Then, let's see the first several lines of a Gaia DR1 data.\n",
    "\n",
    "For the first index `i1` and the second `i2`, the input filename is generated using the `format` method as follows:\n",
    "```\n",
    "fni = '{0}/GaiaSource_000-{1:03d}-{2:03d}.csv.gz'.format(src_dir,i1,i2)\n",
    "```\n",
    "\n",
    "The gzip files can be treated by using the `gzip` module as if it were plain text files.\n",
    "\n",
    "Enter the following code and run it. This reads a gzipped data file and shows the first 4 lines.\n",
    "```\n",
    "# Generate file name for given i1 and i2\n",
    "i1 = 0\n",
    "i2 = 0\n",
    "fni = '{0}/GaiaSource_000-{1:03d}-{2:03d}.csv.gz'.format(src_dir,i1,i2)\n",
    "\n",
    "with gzip.open(fni, 'rb') as f: # Open the input file in gzip format\n",
    "    for i in range(4):\n",
    "        line = f.readline()\n",
    "        line = line.decode('utf-8') # convert binary data to utf-8 text\n",
    "        print (line)\n",
    "```"
   ]
  },
  {
   "cell_type": "code",
   "execution_count": null,
   "metadata": {
    "collapsed": false
   },
   "outputs": [],
   "source": []
  },
  {
   "cell_type": "markdown",
   "metadata": {},
   "source": [
    "You see that the first line is the explanation of data and the following lines are actual data.\n",
    "\n",
    "Here, for our purpose, we need the Galactic coordinates (l, b) and the magnitude.\n",
    "Careful investigations of the first line show:\n",
    "The Galactic longitude l is the 54th elements.\n",
    "The Galactic latitude b is the 55th element.\n",
    "The magnitude (Gaia G-magnitude) is the 52nd element.\n",
    "\n",
    "As a check, enter the following code which has been slightly modified in the cell below.\n",
    "Note that the index of array starts with zero in Python. Thus, the array index for, e.g., the 54th element is given by 53.\n",
    "```\n",
    "# Generate file name for given i1 and i2\n",
    "i1 = 0\n",
    "i2 = 0\n",
    "fni = '{0}/GaiaSource_000-{1:03d}-{2:03d}.csv.gz'.format(src_dir,i1,i2)\n",
    "\n",
    "with gzip.open(fni, 'rb') as f: # Open the input file in gzip format\n",
    "    for i in range(4):\n",
    "        line = f.readline()\n",
    "        line = line.decode('utf-8') # convert binary data to utf-8 text\n",
    "\n",
    "        elements = line.split(',') # split the line into elements\n",
    "        \n",
    "        l = elements[53]\n",
    "        b = elements[54]\n",
    "        mag = elements[51]\n",
    "        \n",
    "        print (i, l, b, mag)\n",
    "```"
   ]
  },
  {
   "cell_type": "code",
   "execution_count": null,
   "metadata": {
    "collapsed": false
   },
   "outputs": [],
   "source": []
  },
  {
   "cell_type": "markdown",
   "metadata": {},
   "source": [
    "Here let's save the extracted data as a binary file.\n",
    "A code to output data for one star to a binary file is given as follows:\n",
    "```\n",
    "# extract Galactic coordinates and magnitude\n",
    "l = float(elems[53]) # Galactic longitude\n",
    "b = float(elems[54]) # Galactic latitude\n",
    "mag = float(elems[51]) # Gaia G-magnitude\n",
    "\n",
    "# pack them into a binary data and write it\n",
    "dat = struct.pack('fff', l, b, mag)\n",
    "fout.write(dat)\n",
    "```\n",
    "Here, the `float()` function converts a string into a float value. The function `struct.pack()` in the `struct` module packs the three float valiables into a binary data. The file object '`fout`' should be opened for writing in the binary mode.\n",
    "\n",
    "A function that read an original data file with indices `i1` and `i2`, then extracts the necessary values (l, b, and mag), and finally saves it in a binary file would be given as follows:\n",
    "```\n",
    "def extract_file(i1, i2):\n",
    "    if not os.path.isdir(dest_dir):\n",
    "        os.mkdir(dest_dir)\n",
    "    \n",
    "    # input file name\n",
    "    fni0 = '{0}/GaiaSource_000-{1:03d}-{2:03d}'.format(src_dir,i1,i2)\n",
    "    fni = '{0}.csv.gz'.format(fni0)\n",
    "    # output file name\n",
    "    fno = '{0}/gaia_data_{1:03d}_{2:03d}.dat'.format(dest_dir,i1,i2)\n",
    "\n",
    "    print ('\"' + fni + '\":', end=' ')\n",
    "    if not os.path.exists(fni):\n",
    "        print(' Not Found')\n",
    "        return\n",
    "    if os.path.exists(fno):\n",
    "        print(' Skipped')\n",
    "        return\n",
    "\n",
    "    print(' Extracting...', end='')\n",
    "\n",
    "    count = 0\n",
    "    fout = open(fno, 'wb')\n",
    "    with gzip.open(fni, 'r') as f: # Open the input file in gzip format\n",
    "        first = True\n",
    "        for line_bin in f:\n",
    "            if first: # Skip first line\n",
    "                first = False\n",
    "                continue\n",
    "            \n",
    "            # split the line into elements for a star\n",
    "            line = line_bin.decode('utf-8')\n",
    "            elems = line.split(',')\n",
    "            \n",
    "            # extract Galactic coordinates and magnitude\n",
    "            l = float(elems[53]) # Galactic longitude\n",
    "            b = float(elems[54]) # Galactic latitude\n",
    "            mag = float(elems[51]) # Gaia G-magnitude\n",
    "\n",
    "            # pack them into a binary data and write it\n",
    "            dat = struct.pack('fff', l, b, mag)\n",
    "            fout.write(dat)\n",
    "\n",
    "            count += 1\n",
    "    fout.close()\n",
    "    print(' Completed ({0} stars)'.format(count))\n",
    "```\n",
    "Enter this code in the cell below and run it to define the function."
   ]
  },
  {
   "cell_type": "code",
   "execution_count": null,
   "metadata": {
    "collapsed": true
   },
   "outputs": [],
   "source": []
  },
  {
   "cell_type": "markdown",
   "metadata": {},
   "source": [
    "Check if it works well by running the following code:\n",
    "```\n",
    "i1 = 0\n",
    "i2 = 0\n",
    "extract_file(i1, i2)\n",
    "```"
   ]
  },
  {
   "cell_type": "code",
   "execution_count": null,
   "metadata": {
    "collapsed": false
   },
   "outputs": [],
   "source": []
  },
  {
   "cell_type": "markdown",
   "metadata": {},
   "source": [
    "If it works well, the file sizes are reduced from ~40MB (original file) to ~2.5MB (extracted file).\n",
    "Next, let's process the all files you downloaded.\n",
    "Enter the following code in the cell below and run it.\n",
    "```\n",
    "i1 = 0\n",
    "for i2 in range(5):\n",
    "    extract_file(i1,i2)\n",
    "```"
   ]
  },
  {
   "cell_type": "code",
   "execution_count": null,
   "metadata": {
    "collapsed": false
   },
   "outputs": [],
   "source": []
  },
  {
   "cell_type": "markdown",
   "metadata": {},
   "source": [
    "That's all for this section.\n",
    "\n",
    "To create all extracted files, the following code can be used:\n",
    "```\n",
    "def extract_all():\n",
    "    for i1 in range(21):\n",
    "        for i2 in range(256):\n",
    "            extract_file(i1, i2)\n",
    "```\n",
    "\n",
    "However, it will take a very long time to process all the files\n",
    "and we don't do it in this workshop."
   ]
  },
  {
   "cell_type": "code",
   "execution_count": null,
   "metadata": {
    "collapsed": true
   },
   "outputs": [],
   "source": []
  }
 ],
 "metadata": {
  "kernelspec": {
   "display_name": "Python 3",
   "language": "python",
   "name": "python3"
  },
  "language_info": {
   "codemirror_mode": {
    "name": "ipython",
    "version": 3
   },
   "file_extension": ".py",
   "mimetype": "text/x-python",
   "name": "python",
   "nbconvert_exporter": "python",
   "pygments_lexer": "ipython3",
   "version": "3.6.0"
  }
 },
 "nbformat": 4,
 "nbformat_minor": 2
}
