{
 "cells": [
  {
   "cell_type": "markdown",
   "metadata": {},
   "source": [
    "# Data to Dome Workshop: Visualizing astronomical catelogs in various space engines\n",
    "\n",
    "### Python\n",
    "\n",
    "Python is rapidly becomming the defacto astronomical programming language, supported by an active community of tool builders. Python's capabilities are extended through packages, and there are a number of good ones for dealing with astronomical data. This tutorial uses astropy which contains core astronomical functions and astroquery which lets you access astronomical databases from within the python environment. We also give an example of using the pyWWT package to directly interact with Worldwide Telescope.\n",
    "\n",
    "One of the challenges of working in python has always been installing all the packages needed to do your work. That has gotten much easier recently through some excellent package managers. If you are just starting out with python I strongly recommend using the Anaconda distribution from Continuum Analytics. Anaconda installs most of the packages needed for scientific computing with python (astropy is included with Anaconda, unfortunately you have to install astroquery and pyWWT yourself).\n",
    "\n",
    "\n",
    "### Let's get started - Step #1 Acquiring the GAMA Data from the database\n",
    "\n",
    "We will use the Galaxy and Mass Assembly survey as our example dataset. The nice thing about this survey is that MANY physical parameters are measured. We want to get our galaxy catalog from the GAMA survey, to do that we need to query its database. A survey database typically contains several different tables each measuring a number of different quantities. Looking at the structure of the GAMA database (its schema) I see that the quantities I are in two tables, the EMLines table has the coordinates we need to locate objects in 3D, these are sky position (RA and dec) and the redshift(z) which we will use to calculate the distance to the galaxy. That table also contains a measurement of the star formation rate (SFR) and a classification of emmission line galaxies (Emline_Class). There is another table called StellarMasses which has several interesting parameters, we will get  the mass of the galaxy (logmstar), its instrinsic brightness (absMag_r), its age (logage), mass to light ratio (logMoverM_i) and its metalicity (metal).\n",
    "\n",
    "The database can be accessed using the Structured Query Language(SQL). SQL has a SELECT/FROM/WHERE format, after SELECT you list what parameters you want to pull from the dataase, after WHERE you specifiy which database tables they are located in, and after WHERE you can place conditions on which objects you wish to get back.\n",
    "\n",
    "So our query will be:\n",
    "\n",
    "    SELECT  EmLinesPhys.ra, EmLinesPhys.dec, EmLinesPhys.Z_TONRY,\n",
    "            EmLinesPhys.SFR,EmLinesPhys.EMline_Class,\n",
    "            StellarMasses.logmstar, StellarMasses.metal,\n",
    "            StellarMasses.absMag_r,\n",
    "            StellarMasses.logage, StellarMasses.logMoverl_i  \n",
    "    FROM    EmLinesPhys JOIN StellarMasses ON \n",
    "            EmLinesPhys.CATAID = StellarMasses.CATAID  \n",
    "    WHERE   EmLinesPhys.NQ>2  \n",
    "\n",
    "The purpose of the JOIN syntax in the FROM clause is to make sure we are looking at the same galaxies in each table. The conditions in the WHERE clause make sure that the galaxies spectrum was high quality and that the redshift was certain.\n",
    "\n",
    "Using the <a href=\"http://astroquery.readthedocs.org/en/latest/#\">astroquery module</a> we can query the GAMA database inside python and return the results in a data table."
   ]
  },
  {
   "cell_type": "code",
   "execution_count": 5,
   "metadata": {
    "collapsed": false
   },
   "outputs": [
    {
     "name": "stderr",
     "output_type": "stream",
     "text": [
      "ERROR:root:An unexpected error occurred while tokenizing input\n",
      "The following traceback may be corrupted or invalid\n",
      "The error message is: ('EOF in multi-line string', (1, 0))\n",
      "\n"
     ]
    },
    {
     "ename": "TimeoutError",
     "evalue": "Query timed out, time elapsed 3.0s",
     "output_type": "error",
     "traceback": [
      "\u001b[0;31m---------------------------------------------------------------------------\u001b[0m",
      "\u001b[0;31mtimeout\u001b[0m                                   Traceback (most recent call last)",
      "\u001b[0;32mC:\\Users\\msubbarao\\AppData\\Local\\Continuum\\Anaconda3\\lib\\site-packages\\astropy\\utils\\data.py\u001b[0m in \u001b[0;36mdownload_file\u001b[0;34m(remote_url, cache, show_progress, timeout)\u001b[0m\n\u001b[1;32m   1029\u001b[0m         with contextlib.closing(urllib.request.urlopen(\n\u001b[0;32m-> 1030\u001b[0;31m                 remote_url, timeout=timeout)) as remote:\n\u001b[0m\u001b[1;32m   1031\u001b[0m             \u001b[1;31m#keep a hash to rename the local file to the hashed name\u001b[0m\u001b[1;33m\u001b[0m\u001b[1;33m\u001b[0m\u001b[0m\n",
      "\u001b[0;32mC:\\Users\\msubbarao\\AppData\\Local\\Continuum\\Anaconda3\\lib\\urllib\\request.py\u001b[0m in \u001b[0;36murlopen\u001b[0;34m(url, data, timeout, cafile, capath, cadefault, context)\u001b[0m\n\u001b[1;32m    162\u001b[0m         \u001b[0mopener\u001b[0m \u001b[1;33m=\u001b[0m \u001b[0m_opener\u001b[0m\u001b[1;33m\u001b[0m\u001b[0m\n\u001b[0;32m--> 163\u001b[0;31m     \u001b[1;32mreturn\u001b[0m \u001b[0mopener\u001b[0m\u001b[1;33m.\u001b[0m\u001b[0mopen\u001b[0m\u001b[1;33m(\u001b[0m\u001b[0murl\u001b[0m\u001b[1;33m,\u001b[0m \u001b[0mdata\u001b[0m\u001b[1;33m,\u001b[0m \u001b[0mtimeout\u001b[0m\u001b[1;33m)\u001b[0m\u001b[1;33m\u001b[0m\u001b[0m\n\u001b[0m\u001b[1;32m    164\u001b[0m \u001b[1;33m\u001b[0m\u001b[0m\n",
      "\u001b[0;32mC:\\Users\\msubbarao\\AppData\\Local\\Continuum\\Anaconda3\\lib\\urllib\\request.py\u001b[0m in \u001b[0;36mopen\u001b[0;34m(self, fullurl, data, timeout)\u001b[0m\n\u001b[1;32m    465\u001b[0m \u001b[1;33m\u001b[0m\u001b[0m\n\u001b[0;32m--> 466\u001b[0;31m         \u001b[0mresponse\u001b[0m \u001b[1;33m=\u001b[0m \u001b[0mself\u001b[0m\u001b[1;33m.\u001b[0m\u001b[0m_open\u001b[0m\u001b[1;33m(\u001b[0m\u001b[0mreq\u001b[0m\u001b[1;33m,\u001b[0m \u001b[0mdata\u001b[0m\u001b[1;33m)\u001b[0m\u001b[1;33m\u001b[0m\u001b[0m\n\u001b[0m\u001b[1;32m    467\u001b[0m \u001b[1;33m\u001b[0m\u001b[0m\n",
      "\u001b[0;32mC:\\Users\\msubbarao\\AppData\\Local\\Continuum\\Anaconda3\\lib\\urllib\\request.py\u001b[0m in \u001b[0;36m_open\u001b[0;34m(self, req, data)\u001b[0m\n\u001b[1;32m    483\u001b[0m         result = self._call_chain(self.handle_open, protocol, protocol +\n\u001b[0;32m--> 484\u001b[0;31m                                   '_open', req)\n\u001b[0m\u001b[1;32m    485\u001b[0m         \u001b[1;32mif\u001b[0m \u001b[0mresult\u001b[0m\u001b[1;33m:\u001b[0m\u001b[1;33m\u001b[0m\u001b[0m\n",
      "\u001b[0;32mC:\\Users\\msubbarao\\AppData\\Local\\Continuum\\Anaconda3\\lib\\urllib\\request.py\u001b[0m in \u001b[0;36m_call_chain\u001b[0;34m(self, chain, kind, meth_name, *args)\u001b[0m\n\u001b[1;32m    443\u001b[0m             \u001b[0mfunc\u001b[0m \u001b[1;33m=\u001b[0m \u001b[0mgetattr\u001b[0m\u001b[1;33m(\u001b[0m\u001b[0mhandler\u001b[0m\u001b[1;33m,\u001b[0m \u001b[0mmeth_name\u001b[0m\u001b[1;33m)\u001b[0m\u001b[1;33m\u001b[0m\u001b[0m\n\u001b[0;32m--> 444\u001b[0;31m             \u001b[0mresult\u001b[0m \u001b[1;33m=\u001b[0m \u001b[0mfunc\u001b[0m\u001b[1;33m(\u001b[0m\u001b[1;33m*\u001b[0m\u001b[0margs\u001b[0m\u001b[1;33m)\u001b[0m\u001b[1;33m\u001b[0m\u001b[0m\n\u001b[0m\u001b[1;32m    445\u001b[0m             \u001b[1;32mif\u001b[0m \u001b[0mresult\u001b[0m \u001b[1;32mis\u001b[0m \u001b[1;32mnot\u001b[0m \u001b[1;32mNone\u001b[0m\u001b[1;33m:\u001b[0m\u001b[1;33m\u001b[0m\u001b[0m\n",
      "\u001b[0;32mC:\\Users\\msubbarao\\AppData\\Local\\Continuum\\Anaconda3\\lib\\urllib\\request.py\u001b[0m in \u001b[0;36mhttp_open\u001b[0;34m(self, req)\u001b[0m\n\u001b[1;32m   1281\u001b[0m     \u001b[1;32mdef\u001b[0m \u001b[0mhttp_open\u001b[0m\u001b[1;33m(\u001b[0m\u001b[0mself\u001b[0m\u001b[1;33m,\u001b[0m \u001b[0mreq\u001b[0m\u001b[1;33m)\u001b[0m\u001b[1;33m:\u001b[0m\u001b[1;33m\u001b[0m\u001b[0m\n\u001b[0;32m-> 1282\u001b[0;31m         \u001b[1;32mreturn\u001b[0m \u001b[0mself\u001b[0m\u001b[1;33m.\u001b[0m\u001b[0mdo_open\u001b[0m\u001b[1;33m(\u001b[0m\u001b[0mhttp\u001b[0m\u001b[1;33m.\u001b[0m\u001b[0mclient\u001b[0m\u001b[1;33m.\u001b[0m\u001b[0mHTTPConnection\u001b[0m\u001b[1;33m,\u001b[0m \u001b[0mreq\u001b[0m\u001b[1;33m)\u001b[0m\u001b[1;33m\u001b[0m\u001b[0m\n\u001b[0m\u001b[1;32m   1283\u001b[0m \u001b[1;33m\u001b[0m\u001b[0m\n",
      "\u001b[0;32mC:\\Users\\msubbarao\\AppData\\Local\\Continuum\\Anaconda3\\lib\\urllib\\request.py\u001b[0m in \u001b[0;36mdo_open\u001b[0;34m(self, http_class, req, **http_conn_args)\u001b[0m\n\u001b[1;32m   1256\u001b[0m                 \u001b[1;32mraise\u001b[0m \u001b[0mURLError\u001b[0m\u001b[1;33m(\u001b[0m\u001b[0merr\u001b[0m\u001b[1;33m)\u001b[0m\u001b[1;33m\u001b[0m\u001b[0m\n\u001b[0;32m-> 1257\u001b[0;31m             \u001b[0mr\u001b[0m \u001b[1;33m=\u001b[0m \u001b[0mh\u001b[0m\u001b[1;33m.\u001b[0m\u001b[0mgetresponse\u001b[0m\u001b[1;33m(\u001b[0m\u001b[1;33m)\u001b[0m\u001b[1;33m\u001b[0m\u001b[0m\n\u001b[0m\u001b[1;32m   1258\u001b[0m         \u001b[1;32mexcept\u001b[0m\u001b[1;33m:\u001b[0m\u001b[1;33m\u001b[0m\u001b[0m\n",
      "\u001b[0;32mC:\\Users\\msubbarao\\AppData\\Local\\Continuum\\Anaconda3\\lib\\http\\client.py\u001b[0m in \u001b[0;36mgetresponse\u001b[0;34m(self)\u001b[0m\n\u001b[1;32m   1196\u001b[0m             \u001b[1;32mtry\u001b[0m\u001b[1;33m:\u001b[0m\u001b[1;33m\u001b[0m\u001b[0m\n\u001b[0;32m-> 1197\u001b[0;31m                 \u001b[0mresponse\u001b[0m\u001b[1;33m.\u001b[0m\u001b[0mbegin\u001b[0m\u001b[1;33m(\u001b[0m\u001b[1;33m)\u001b[0m\u001b[1;33m\u001b[0m\u001b[0m\n\u001b[0m\u001b[1;32m   1198\u001b[0m             \u001b[1;32mexcept\u001b[0m \u001b[0mConnectionError\u001b[0m\u001b[1;33m:\u001b[0m\u001b[1;33m\u001b[0m\u001b[0m\n",
      "\u001b[0;32mC:\\Users\\msubbarao\\AppData\\Local\\Continuum\\Anaconda3\\lib\\http\\client.py\u001b[0m in \u001b[0;36mbegin\u001b[0;34m(self)\u001b[0m\n\u001b[1;32m    296\u001b[0m         \u001b[1;32mwhile\u001b[0m \u001b[1;32mTrue\u001b[0m\u001b[1;33m:\u001b[0m\u001b[1;33m\u001b[0m\u001b[0m\n\u001b[0;32m--> 297\u001b[0;31m             \u001b[0mversion\u001b[0m\u001b[1;33m,\u001b[0m \u001b[0mstatus\u001b[0m\u001b[1;33m,\u001b[0m \u001b[0mreason\u001b[0m \u001b[1;33m=\u001b[0m \u001b[0mself\u001b[0m\u001b[1;33m.\u001b[0m\u001b[0m_read_status\u001b[0m\u001b[1;33m(\u001b[0m\u001b[1;33m)\u001b[0m\u001b[1;33m\u001b[0m\u001b[0m\n\u001b[0m\u001b[1;32m    298\u001b[0m             \u001b[1;32mif\u001b[0m \u001b[0mstatus\u001b[0m \u001b[1;33m!=\u001b[0m \u001b[0mCONTINUE\u001b[0m\u001b[1;33m:\u001b[0m\u001b[1;33m\u001b[0m\u001b[0m\n",
      "\u001b[0;32mC:\\Users\\msubbarao\\AppData\\Local\\Continuum\\Anaconda3\\lib\\http\\client.py\u001b[0m in \u001b[0;36m_read_status\u001b[0;34m(self)\u001b[0m\n\u001b[1;32m    257\u001b[0m     \u001b[1;32mdef\u001b[0m \u001b[0m_read_status\u001b[0m\u001b[1;33m(\u001b[0m\u001b[0mself\u001b[0m\u001b[1;33m)\u001b[0m\u001b[1;33m:\u001b[0m\u001b[1;33m\u001b[0m\u001b[0m\n\u001b[0;32m--> 258\u001b[0;31m         \u001b[0mline\u001b[0m \u001b[1;33m=\u001b[0m \u001b[0mstr\u001b[0m\u001b[1;33m(\u001b[0m\u001b[0mself\u001b[0m\u001b[1;33m.\u001b[0m\u001b[0mfp\u001b[0m\u001b[1;33m.\u001b[0m\u001b[0mreadline\u001b[0m\u001b[1;33m(\u001b[0m\u001b[0m_MAXLINE\u001b[0m \u001b[1;33m+\u001b[0m \u001b[1;36m1\u001b[0m\u001b[1;33m)\u001b[0m\u001b[1;33m,\u001b[0m \u001b[1;34m\"iso-8859-1\"\u001b[0m\u001b[1;33m)\u001b[0m\u001b[1;33m\u001b[0m\u001b[0m\n\u001b[0m\u001b[1;32m    259\u001b[0m         \u001b[1;32mif\u001b[0m \u001b[0mlen\u001b[0m\u001b[1;33m(\u001b[0m\u001b[0mline\u001b[0m\u001b[1;33m)\u001b[0m \u001b[1;33m>\u001b[0m \u001b[0m_MAXLINE\u001b[0m\u001b[1;33m:\u001b[0m\u001b[1;33m\u001b[0m\u001b[0m\n",
      "\u001b[0;32mC:\\Users\\msubbarao\\AppData\\Local\\Continuum\\Anaconda3\\lib\\socket.py\u001b[0m in \u001b[0;36mreadinto\u001b[0;34m(self, b)\u001b[0m\n\u001b[1;32m    574\u001b[0m             \u001b[1;32mtry\u001b[0m\u001b[1;33m:\u001b[0m\u001b[1;33m\u001b[0m\u001b[0m\n\u001b[0;32m--> 575\u001b[0;31m                 \u001b[1;32mreturn\u001b[0m \u001b[0mself\u001b[0m\u001b[1;33m.\u001b[0m\u001b[0m_sock\u001b[0m\u001b[1;33m.\u001b[0m\u001b[0mrecv_into\u001b[0m\u001b[1;33m(\u001b[0m\u001b[0mb\u001b[0m\u001b[1;33m)\u001b[0m\u001b[1;33m\u001b[0m\u001b[0m\n\u001b[0m\u001b[1;32m    576\u001b[0m             \u001b[1;32mexcept\u001b[0m \u001b[0mtimeout\u001b[0m\u001b[1;33m:\u001b[0m\u001b[1;33m\u001b[0m\u001b[0m\n",
      "\u001b[0;31mtimeout\u001b[0m: timed out",
      "\nDuring handling of the above exception, another exception occurred:\n",
      "\u001b[0;31mURLError\u001b[0m                                  Traceback (most recent call last)",
      "\u001b[0;32mC:\\Users\\msubbarao\\AppData\\Local\\Continuum\\Anaconda3\\lib\\site-packages\\astroquery\\utils\\commons.py\u001b[0m in \u001b[0;36mget_string\u001b[0;34m(self)\u001b[0m\n\u001b[1;32m    435\u001b[0m             \u001b[1;32mtry\u001b[0m\u001b[1;33m:\u001b[0m\u001b[1;33m\u001b[0m\u001b[0m\n\u001b[0;32m--> 436\u001b[0;31m                 \u001b[1;32mwith\u001b[0m \u001b[0mself\u001b[0m\u001b[1;33m.\u001b[0m\u001b[0m_readable_object\u001b[0m \u001b[1;32mas\u001b[0m \u001b[0mf\u001b[0m\u001b[1;33m:\u001b[0m\u001b[1;33m\u001b[0m\u001b[0m\n\u001b[0m\u001b[1;32m    437\u001b[0m                     \u001b[0mdata\u001b[0m \u001b[1;33m=\u001b[0m \u001b[0mf\u001b[0m\u001b[1;33m.\u001b[0m\u001b[0mread\u001b[0m\u001b[1;33m(\u001b[0m\u001b[1;33m)\u001b[0m\u001b[1;33m\u001b[0m\u001b[0m\n",
      "\u001b[0;32mC:\\Users\\msubbarao\\AppData\\Local\\Continuum\\Anaconda3\\lib\\contextlib.py\u001b[0m in \u001b[0;36m__enter__\u001b[0;34m(self)\u001b[0m\n\u001b[1;32m     58\u001b[0m         \u001b[1;32mtry\u001b[0m\u001b[1;33m:\u001b[0m\u001b[1;33m\u001b[0m\u001b[0m\n\u001b[0;32m---> 59\u001b[0;31m             \u001b[1;32mreturn\u001b[0m \u001b[0mnext\u001b[0m\u001b[1;33m(\u001b[0m\u001b[0mself\u001b[0m\u001b[1;33m.\u001b[0m\u001b[0mgen\u001b[0m\u001b[1;33m)\u001b[0m\u001b[1;33m\u001b[0m\u001b[0m\n\u001b[0m\u001b[1;32m     60\u001b[0m         \u001b[1;32mexcept\u001b[0m \u001b[0mStopIteration\u001b[0m\u001b[1;33m:\u001b[0m\u001b[1;33m\u001b[0m\u001b[0m\n",
      "\u001b[0;32mC:\\Users\\msubbarao\\AppData\\Local\\Continuum\\Anaconda3\\lib\\site-packages\\astropy\\utils\\data.py\u001b[0m in \u001b[0;36mget_readable_fileobj\u001b[0;34m(name_or_obj, encoding, cache, show_progress, remote_timeout)\u001b[0m\n\u001b[1;32m    196\u001b[0m                 \u001b[0mname_or_obj\u001b[0m\u001b[1;33m,\u001b[0m \u001b[0mcache\u001b[0m\u001b[1;33m=\u001b[0m\u001b[0mcache\u001b[0m\u001b[1;33m,\u001b[0m \u001b[0mshow_progress\u001b[0m\u001b[1;33m=\u001b[0m\u001b[0mshow_progress\u001b[0m\u001b[1;33m,\u001b[0m\u001b[1;33m\u001b[0m\u001b[0m\n\u001b[0;32m--> 197\u001b[0;31m                 timeout=remote_timeout)\n\u001b[0m\u001b[1;32m    198\u001b[0m         \u001b[1;32mif\u001b[0m \u001b[0msix\u001b[0m\u001b[1;33m.\u001b[0m\u001b[0mPY3\u001b[0m\u001b[1;33m:\u001b[0m\u001b[1;33m\u001b[0m\u001b[0m\n",
      "\u001b[0;32mC:\\Users\\msubbarao\\AppData\\Local\\Continuum\\Anaconda3\\lib\\site-packages\\astropy\\utils\\data.py\u001b[0m in \u001b[0;36mdownload_file\u001b[0;34m(remote_url, cache, show_progress, timeout)\u001b[0m\n\u001b[1;32m   1102\u001b[0m         \u001b[1;31m# we'll just re-raise it here instead\u001b[0m\u001b[1;33m\u001b[0m\u001b[1;33m\u001b[0m\u001b[0m\n\u001b[0;32m-> 1103\u001b[0;31m         \u001b[1;32mraise\u001b[0m \u001b[0murllib\u001b[0m\u001b[1;33m.\u001b[0m\u001b[0merror\u001b[0m\u001b[1;33m.\u001b[0m\u001b[0mURLError\u001b[0m\u001b[1;33m(\u001b[0m\u001b[0me\u001b[0m\u001b[1;33m)\u001b[0m\u001b[1;33m\u001b[0m\u001b[0m\n\u001b[0m\u001b[1;32m   1104\u001b[0m \u001b[1;33m\u001b[0m\u001b[0m\n",
      "\u001b[0;31mURLError\u001b[0m: <urlopen error timed out>",
      "\nDuring handling of the above exception, another exception occurred:\n",
      "\u001b[0;31mTimeoutError\u001b[0m                              Traceback (most recent call last)",
      "\u001b[0;32m<ipython-input-5-ed370a70e2e5>\u001b[0m in \u001b[0;36m<module>\u001b[0;34m()\u001b[0m\n\u001b[1;32m     10\u001b[0m \u001b[0mFROM\u001b[0m \u001b[0mEmLinesPhys\u001b[0m \u001b[0mJOIN\u001b[0m \u001b[0mStellarMasses\u001b[0m \u001b[0mON\u001b[0m \u001b[0mEmLinesPhys\u001b[0m\u001b[1;33m.\u001b[0m\u001b[0mCATAID\u001b[0m \u001b[1;33m=\u001b[0m \u001b[0mStellarMasses\u001b[0m\u001b[1;33m.\u001b[0m\u001b[0mCATAID\u001b[0m\u001b[1;33m\u001b[0m\u001b[0m\n\u001b[1;32m     11\u001b[0m \u001b[0mWHERE\u001b[0m \u001b[0mEmLinesPhys\u001b[0m\u001b[1;33m.\u001b[0m\u001b[0mNQ\u001b[0m\u001b[1;33m>\u001b[0m\u001b[1;36m2\u001b[0m\u001b[1;33m\u001b[0m\u001b[0m\n\u001b[0;32m---> 12\u001b[0;31m ''')\n\u001b[0m",
      "\u001b[0;32mC:\\Users\\msubbarao\\AppData\\Local\\Continuum\\Anaconda3\\lib\\site-packages\\astroquery\\utils\\class_or_instance.py\u001b[0m in \u001b[0;36mf\u001b[0;34m(*args, **kwds)\u001b[0m\n\u001b[1;32m     23\u001b[0m         \u001b[1;32mdef\u001b[0m \u001b[0mf\u001b[0m\u001b[1;33m(\u001b[0m\u001b[1;33m*\u001b[0m\u001b[0margs\u001b[0m\u001b[1;33m,\u001b[0m \u001b[1;33m**\u001b[0m\u001b[0mkwds\u001b[0m\u001b[1;33m)\u001b[0m\u001b[1;33m:\u001b[0m\u001b[1;33m\u001b[0m\u001b[0m\n\u001b[1;32m     24\u001b[0m             \u001b[1;32mif\u001b[0m \u001b[0mobj\u001b[0m \u001b[1;32mis\u001b[0m \u001b[1;32mnot\u001b[0m \u001b[1;32mNone\u001b[0m\u001b[1;33m:\u001b[0m\u001b[1;33m\u001b[0m\u001b[0m\n\u001b[0;32m---> 25\u001b[0;31m                 \u001b[1;32mreturn\u001b[0m \u001b[0mself\u001b[0m\u001b[1;33m.\u001b[0m\u001b[0mfn\u001b[0m\u001b[1;33m(\u001b[0m\u001b[0mobj\u001b[0m\u001b[1;33m,\u001b[0m \u001b[1;33m*\u001b[0m\u001b[0margs\u001b[0m\u001b[1;33m,\u001b[0m \u001b[1;33m**\u001b[0m\u001b[0mkwds\u001b[0m\u001b[1;33m)\u001b[0m\u001b[1;33m\u001b[0m\u001b[0m\n\u001b[0m\u001b[1;32m     26\u001b[0m             \u001b[1;32melse\u001b[0m\u001b[1;33m:\u001b[0m\u001b[1;33m\u001b[0m\u001b[0m\n\u001b[1;32m     27\u001b[0m                 \u001b[1;32mreturn\u001b[0m \u001b[0mself\u001b[0m\u001b[1;33m.\u001b[0m\u001b[0mfn\u001b[0m\u001b[1;33m(\u001b[0m\u001b[0mcls\u001b[0m\u001b[1;33m,\u001b[0m \u001b[1;33m*\u001b[0m\u001b[0margs\u001b[0m\u001b[1;33m,\u001b[0m \u001b[1;33m**\u001b[0m\u001b[0mkwds\u001b[0m\u001b[1;33m)\u001b[0m\u001b[1;33m\u001b[0m\u001b[0m\n",
      "\u001b[0;32mC:\\Users\\msubbarao\\AppData\\Local\\Continuum\\Anaconda3\\lib\\site-packages\\astroquery\\utils\\process_asyncs.py\u001b[0m in \u001b[0;36mnewmethod\u001b[0;34m(self, *args, **kwargs)\u001b[0m\n\u001b[1;32m     27\u001b[0m             \u001b[1;32mif\u001b[0m \u001b[0mkwargs\u001b[0m\u001b[1;33m.\u001b[0m\u001b[0mget\u001b[0m\u001b[1;33m(\u001b[0m\u001b[1;34m'get_query_payload'\u001b[0m\u001b[1;33m)\u001b[0m \u001b[1;32mor\u001b[0m \u001b[0mkwargs\u001b[0m\u001b[1;33m.\u001b[0m\u001b[0mget\u001b[0m\u001b[1;33m(\u001b[0m\u001b[1;34m'field_help'\u001b[0m\u001b[1;33m)\u001b[0m\u001b[1;33m:\u001b[0m\u001b[1;33m\u001b[0m\u001b[0m\n\u001b[1;32m     28\u001b[0m                 \u001b[1;32mreturn\u001b[0m \u001b[0mresponse\u001b[0m\u001b[1;33m\u001b[0m\u001b[0m\n\u001b[0;32m---> 29\u001b[0;31m             \u001b[0mresult\u001b[0m \u001b[1;33m=\u001b[0m \u001b[0mself\u001b[0m\u001b[1;33m.\u001b[0m\u001b[0m_parse_result\u001b[0m\u001b[1;33m(\u001b[0m\u001b[0mresponse\u001b[0m\u001b[1;33m,\u001b[0m \u001b[0mverbose\u001b[0m\u001b[1;33m=\u001b[0m\u001b[0mverbose\u001b[0m\u001b[1;33m)\u001b[0m\u001b[1;33m\u001b[0m\u001b[0m\n\u001b[0m\u001b[1;32m     30\u001b[0m             \u001b[0mself\u001b[0m\u001b[1;33m.\u001b[0m\u001b[0mtable\u001b[0m \u001b[1;33m=\u001b[0m \u001b[0mresult\u001b[0m\u001b[1;33m\u001b[0m\u001b[0m\n\u001b[1;32m     31\u001b[0m             \u001b[1;32mreturn\u001b[0m \u001b[0mresult\u001b[0m\u001b[1;33m\u001b[0m\u001b[0m\n",
      "\u001b[0;32mC:\\Users\\msubbarao\\AppData\\Local\\Continuum\\Anaconda3\\lib\\site-packages\\astroquery\\gama\\core.py\u001b[0m in \u001b[0;36m_parse_result\u001b[0;34m(self, result, verbose, **kwargs)\u001b[0m\n\u001b[1;32m     63\u001b[0m         \u001b[0mUse\u001b[0m \u001b[0mget_gama_datafile\u001b[0m \u001b[0mto\u001b[0m \u001b[0mdownload\u001b[0m \u001b[0ma\u001b[0m \u001b[0mresult\u001b[0m \u001b[0mURL\u001b[0m\u001b[1;33m\u001b[0m\u001b[0m\n\u001b[1;32m     64\u001b[0m         \"\"\"\n\u001b[0;32m---> 65\u001b[0;31m         \u001b[1;32mreturn\u001b[0m \u001b[0mget_gama_datafile\u001b[0m\u001b[1;33m(\u001b[0m\u001b[0mresult\u001b[0m\u001b[1;33m)\u001b[0m\u001b[1;33m\u001b[0m\u001b[0m\n\u001b[0m\u001b[1;32m     66\u001b[0m \u001b[1;33m\u001b[0m\u001b[0m\n\u001b[1;32m     67\u001b[0m \u001b[0mGAMA\u001b[0m \u001b[1;33m=\u001b[0m \u001b[0mGAMAClass\u001b[0m\u001b[1;33m(\u001b[0m\u001b[1;33m)\u001b[0m\u001b[1;33m\u001b[0m\u001b[0m\n",
      "\u001b[0;32mC:\\Users\\msubbarao\\AppData\\Local\\Continuum\\Anaconda3\\lib\\site-packages\\astroquery\\gama\\core.py\u001b[0m in \u001b[0;36mget_gama_datafile\u001b[0;34m(result, **kwargs)\u001b[0m\n\u001b[1;32m     73\u001b[0m                                      \u001b[0mencoding\u001b[0m\u001b[1;33m=\u001b[0m\u001b[1;34m'binary'\u001b[0m\u001b[1;33m,\u001b[0m\u001b[1;33m\u001b[0m\u001b[0m\n\u001b[1;32m     74\u001b[0m                                      **kwargs)\n\u001b[0;32m---> 75\u001b[0;31m     \u001b[0mhdulist\u001b[0m \u001b[1;33m=\u001b[0m \u001b[0mfitsfile\u001b[0m\u001b[1;33m.\u001b[0m\u001b[0mget_fits\u001b[0m\u001b[1;33m(\u001b[0m\u001b[1;33m)\u001b[0m\u001b[1;33m\u001b[0m\u001b[0m\n\u001b[0m\u001b[1;32m     76\u001b[0m     \u001b[1;32mreturn\u001b[0m \u001b[0mTable\u001b[0m\u001b[1;33m(\u001b[0m\u001b[0mhdulist\u001b[0m\u001b[1;33m[\u001b[0m\u001b[1;36m1\u001b[0m\u001b[1;33m]\u001b[0m\u001b[1;33m.\u001b[0m\u001b[0mdata\u001b[0m\u001b[1;33m)\u001b[0m\u001b[1;33m\u001b[0m\u001b[0m\n\u001b[1;32m     77\u001b[0m \u001b[1;33m\u001b[0m\u001b[0m\n",
      "\u001b[0;32mC:\\Users\\msubbarao\\AppData\\Local\\Continuum\\Anaconda3\\lib\\site-packages\\astroquery\\utils\\commons.py\u001b[0m in \u001b[0;36mget_fits\u001b[0;34m(self)\u001b[0m\n\u001b[1;32m    378\u001b[0m         \u001b[1;32mand\u001b[0m \u001b[1;32mreturn\u001b[0m \u001b[0mthe\u001b[0m \u001b[0mfile\u001b[0m \u001b[0mparsed\u001b[0m \u001b[1;32mas\u001b[0m \u001b[0mFITS\u001b[0m \u001b[0mHDUList\u001b[0m\u001b[1;33m\u001b[0m\u001b[0m\n\u001b[1;32m    379\u001b[0m         \"\"\"\n\u001b[0;32m--> 380\u001b[0;31m         \u001b[0mfiledata\u001b[0m \u001b[1;33m=\u001b[0m \u001b[0mself\u001b[0m\u001b[1;33m.\u001b[0m\u001b[0mget_string\u001b[0m\u001b[1;33m(\u001b[0m\u001b[1;33m)\u001b[0m\u001b[1;33m\u001b[0m\u001b[0m\n\u001b[0m\u001b[1;32m    381\u001b[0m \u001b[1;33m\u001b[0m\u001b[0m\n\u001b[1;32m    382\u001b[0m         \u001b[0mself\u001b[0m\u001b[1;33m.\u001b[0m\u001b[0m_fits\u001b[0m \u001b[1;33m=\u001b[0m \u001b[0mfits\u001b[0m\u001b[1;33m.\u001b[0m\u001b[0mHDUList\u001b[0m\u001b[1;33m.\u001b[0m\u001b[0mfromstring\u001b[0m\u001b[1;33m(\u001b[0m\u001b[0mfiledata\u001b[0m\u001b[1;33m)\u001b[0m\u001b[1;33m\u001b[0m\u001b[0m\n",
      "\u001b[0;32mC:\\Users\\msubbarao\\AppData\\Local\\Continuum\\Anaconda3\\lib\\site-packages\\astroquery\\utils\\commons.py\u001b[0m in \u001b[0;36mget_string\u001b[0;34m(self)\u001b[0m\n\u001b[1;32m    440\u001b[0m                 \u001b[1;32mif\u001b[0m \u001b[0misinstance\u001b[0m\u001b[1;33m(\u001b[0m\u001b[0me\u001b[0m\u001b[1;33m.\u001b[0m\u001b[0mreason\u001b[0m\u001b[1;33m,\u001b[0m \u001b[0msocket\u001b[0m\u001b[1;33m.\u001b[0m\u001b[0mtimeout\u001b[0m\u001b[1;33m)\u001b[0m\u001b[1;33m:\u001b[0m\u001b[1;33m\u001b[0m\u001b[0m\n\u001b[1;32m    441\u001b[0m                     raise TimeoutError(\"Query timed out, time elapsed {t}s\".\n\u001b[0;32m--> 442\u001b[0;31m                                        format(t=self._timeout))\n\u001b[0m\u001b[1;32m    443\u001b[0m                 \u001b[1;32melse\u001b[0m\u001b[1;33m:\u001b[0m\u001b[1;33m\u001b[0m\u001b[0m\n\u001b[1;32m    444\u001b[0m                     \u001b[1;32mraise\u001b[0m \u001b[0me\u001b[0m\u001b[1;33m\u001b[0m\u001b[0m\n",
      "\u001b[0;31mTimeoutError\u001b[0m: Query timed out, time elapsed 3.0s"
     ]
    }
   ],
   "source": [
    "from astroquery.gama import GAMA\n",
    "from astropy.table import Table,Column\n",
    "from astropy import units as u\n",
    "from astropy.coordinates import ICRS, CartesianRepresentation, SkyCoord, Distance\n",
    "#Acquire Data from GAMA database\n",
    "galaxyTable = GAMA.query_sql('''SELECT  EmLinesPhys.ra, EmLinesPhys.dec, EmLinesPhys.Z_TONRY,\n",
    "    EmLinesPhys.SFR,EmLinesPhys.EMline_Class,\n",
    "    StellarMasses.logmstar, StellarMasses.metal, StellarMasses.absMag_r,\n",
    "    StellarMasses.logage, StellarMasses.logMoverl_i\n",
    "FROM EmLinesPhys JOIN StellarMasses ON EmLinesPhys.CATAID = StellarMasses.CATAID\n",
    "WHERE EmLinesPhys.NQ>2\n",
    "''')"
   ]
  },
  {
   "cell_type": "code",
   "execution_count": 3,
   "metadata": {
    "collapsed": false
   },
   "outputs": [
    {
     "data": {
      "text/html": [
       "&lt;Table length=53301&gt;\n",
       "<table id=\"table2325785828488\" class=\"table-striped table-bordered table-condensed\">\n",
       "<thead><tr><th>ra</th><th>DEC</th><th>Z_TONRY</th><th>SFR</th><th>EMline_Class</th><th>logmstar</th><th>metal</th><th>absMag_r</th><th>logage</th><th>logMoverl_i</th></tr></thead>\n",
       "<thead><tr><th>float64</th><th>float64</th><th>float64</th><th>float64</th><th>str3</th><th>float64</th><th>float64</th><th>float64</th><th>float64</th><th>float64</th></tr></thead>\n",
       "<tr><td>174.005983764</td><td>0.720927127591</td><td>0.0518138</td><td>0.185113</td><td>SF</td><td>9.12851042187</td><td>0.0330536359134</td><td>-18.1912828065</td><td>9.71615145135</td><td>1.70443138463</td></tr>\n",
       "<tr><td>174.022806365</td><td>0.705937411068</td><td>0.332804</td><td>9.36947</td><td>XXX</td><td>11.0503601715</td><td>0.0202665491508</td><td>-22.8990099392</td><td>9.5188614887</td><td>1.71930527053</td></tr>\n",
       "<tr><td>174.100729377</td><td>0.658914274054</td><td>0.231281</td><td>0.337188</td><td>XXX</td><td>10.847068929</td><td>0.0184374417908</td><td>-21.7511866961</td><td>9.83104106697</td><td>1.97362202031</td></tr>\n",
       "<tr><td>174.153156272</td><td>0.815426501273</td><td>0.00443048</td><td>0.991787</td><td>SF</td><td>7.48716971791</td><td>0.000835064700905</td><td>-15.5538521806</td><td>8.98493833937</td><td>1.24984356073</td></tr>\n",
       "<tr><td>174.280512612</td><td>0.70608150666</td><td>0.11532</td><td>0.297587</td><td>XXX</td><td>9.55955138127</td><td>0.0130184432258</td><td>-19.7482673646</td><td>9.54962088239</td><td>1.54259491999</td></tr>\n",
       "<tr><td>174.302786008</td><td>0.789984596388</td><td>0.0755416</td><td>1.12436</td><td>SF</td><td>9.82172906009</td><td>0.0066186863944</td><td>-20.0559795935</td><td>9.77329420201</td><td>1.68111562156</td></tr>\n",
       "<tr><td>174.305547692</td><td>0.790335098179</td><td>0.075832</td><td>0.146217</td><td>SF</td><td>9.47458337058</td><td>0.00753276230635</td><td>-19.4336258665</td><td>9.53293449679</td><td>1.57845309087</td></tr>\n",
       "<tr><td>174.335362931</td><td>0.83656295513</td><td>0.108041</td><td>0.921479</td><td>SF</td><td>9.85374077052</td><td>0.0148749711966</td><td>-20.1791723545</td><td>9.64901273283</td><td>1.64606476136</td></tr>\n",
       "<tr><td>174.346901089</td><td>0.696450160048</td><td>0.194536</td><td>5.50625</td><td>SF</td><td>10.7435902879</td><td>0.0116710343688</td><td>-21.785559543</td><td>9.75131790244</td><td>1.87585864721</td></tr>\n",
       "<tr><td>174.399621186</td><td>0.678310043347</td><td>0.386929</td><td>-9.0</td><td>XXX</td><td>10.7594664967</td><td>0.0332860206922</td><td>-22.9410646333</td><td>9.09308565621</td><td>1.41039058965</td></tr>\n",
       "<tr><td>...</td><td>...</td><td>...</td><td>...</td><td>...</td><td>...</td><td>...</td><td>...</td><td>...</td><td>...</td></tr>\n",
       "<tr><td>220.363954805</td><td>0.794094823426</td><td>0.269063</td><td>0.20541</td><td>XXX</td><td>10.4055270541</td><td>0.00708704701992</td><td>-21.6932771282</td><td>9.55683883884</td><td>1.59582896368</td></tr>\n",
       "<tr><td>221.039508846</td><td>0.740801311293</td><td>0.263915</td><td>-9.0</td><td>XXX</td><td>10.6328220566</td><td>0.0132416501559</td><td>-21.6004346227</td><td>9.71040527228</td><td>1.83509891978</td></tr>\n",
       "<tr><td>221.354708786</td><td>0.666617837833</td><td>1.05292e-06</td><td>-9.0</td><td>XXX</td><td>-3.78759898628</td><td>0.00513032257297</td><td>13.0997089078</td><td>9.4926656315</td><td>1.37567264968</td></tr>\n",
       "<tr><td>221.412707232</td><td>0.796809258236</td><td>1.75679e-06</td><td>-9.0</td><td>XXX</td><td>-3.22269328729</td><td>0.0123144631116</td><td>13.5748862713</td><td>9.91522368346</td><td>2.04120120938</td></tr>\n",
       "<tr><td>221.418933598</td><td>0.801363830979</td><td>0.164234</td><td>0.0938392</td><td>XXX</td><td>10.4246441576</td><td>0.0171651008519</td><td>-20.625278007</td><td>9.83564182352</td><td>2.00974988068</td></tr>\n",
       "<tr><td>222.70866419</td><td>0.778286520088</td><td>1.03941e-05</td><td>-9.0</td><td>XXX</td><td>-1.42445525549</td><td>0.00589734235856</td><td>7.91604008527</td><td>9.78114823687</td><td>1.63675454139</td></tr>\n",
       "<tr><td>183.465339406</td><td>1.2171707781</td><td>5.57585e-06</td><td>-9.0</td><td>XXX</td><td>-2.89053379897</td><td>0.0135255803682</td><td>13.1098955275</td><td>9.94933177554</td><td>2.16206953854</td></tr>\n",
       "<tr><td>211.55021466</td><td>1.10102593531</td><td>0.000359944</td><td>-9.0</td><td>XXX</td><td>5.38068476844</td><td>0.0146118260433</td><td>-6.66670411714</td><td>9.96457622365</td><td>2.44710183285</td></tr>\n",
       "<tr><td>211.610464953</td><td>1.05387697448</td><td>0.000603201</td><td>-9.0</td><td>XXX</td><td>5.76503529501</td><td>0.00617013977633</td><td>-9.3358116772</td><td>9.92290145136</td><td>1.89174654061</td></tr>\n",
       "<tr><td>212.057486426</td><td>1.05269627001</td><td>0.0763906</td><td>0.0266704</td><td>XXX</td><td>9.57088001257</td><td>0.00836464776078</td><td>-19.0808277015</td><td>9.71205544811</td><td>1.78147931744</td></tr>\n",
       "</table>"
      ],
      "text/plain": [
       "<Table length=53301>\n",
       "      ra           DEC         Z_TONRY   ...     logage     logMoverl_i \n",
       "   float64       float64       float64   ...    float64       float64   \n",
       "------------- -------------- ----------- ... ------------- -------------\n",
       "174.005983764 0.720927127591   0.0518138 ... 9.71615145135 1.70443138463\n",
       "174.022806365 0.705937411068    0.332804 ...  9.5188614887 1.71930527053\n",
       "174.100729377 0.658914274054    0.231281 ... 9.83104106697 1.97362202031\n",
       "174.153156272 0.815426501273  0.00443048 ... 8.98493833937 1.24984356073\n",
       "174.280512612  0.70608150666     0.11532 ... 9.54962088239 1.54259491999\n",
       "174.302786008 0.789984596388   0.0755416 ... 9.77329420201 1.68111562156\n",
       "174.305547692 0.790335098179    0.075832 ... 9.53293449679 1.57845309087\n",
       "174.335362931  0.83656295513    0.108041 ... 9.64901273283 1.64606476136\n",
       "174.346901089 0.696450160048    0.194536 ... 9.75131790244 1.87585864721\n",
       "174.399621186 0.678310043347    0.386929 ... 9.09308565621 1.41039058965\n",
       "          ...            ...         ... ...           ...           ...\n",
       "220.363954805 0.794094823426    0.269063 ... 9.55683883884 1.59582896368\n",
       "221.039508846 0.740801311293    0.263915 ... 9.71040527228 1.83509891978\n",
       "221.354708786 0.666617837833 1.05292e-06 ...  9.4926656315 1.37567264968\n",
       "221.412707232 0.796809258236 1.75679e-06 ... 9.91522368346 2.04120120938\n",
       "221.418933598 0.801363830979    0.164234 ... 9.83564182352 2.00974988068\n",
       " 222.70866419 0.778286520088 1.03941e-05 ... 9.78114823687 1.63675454139\n",
       "183.465339406   1.2171707781 5.57585e-06 ... 9.94933177554 2.16206953854\n",
       " 211.55021466  1.10102593531 0.000359944 ... 9.96457622365 2.44710183285\n",
       "211.610464953  1.05387697448 0.000603201 ... 9.92290145136 1.89174654061\n",
       "212.057486426  1.05269627001   0.0763906 ... 9.71205544811 1.78147931744"
      ]
     },
     "execution_count": 3,
     "metadata": {},
     "output_type": "execute_result"
    }
   ],
   "source": [
    "galaxyTable"
   ]
  },
  {
   "cell_type": "code",
   "execution_count": null,
   "metadata": {
    "collapsed": false
   },
   "outputs": [],
   "source": [
    "# Write Table to file\n",
    "from astropy.io import ascii\n",
    "ascii.write(galaxyTable,'data/GAMA.dat')"
   ]
  },
  {
   "cell_type": "code",
   "execution_count": null,
   "metadata": {
    "collapsed": true
   },
   "outputs": [],
   "source": [
    "# Read table from file\n",
    "galaxyTable=ascii.read('data/GAMA.dat')"
   ]
  },
  {
   "cell_type": "markdown",
   "metadata": {},
   "source": [
    "## Plotting the Data\n",
    "Let's see what we got back. Here I am using the plotting packages matplotlib and Seaborn (the latter to make things pretty, but the plots will work without it, just remove the import)"
   ]
  },
  {
   "cell_type": "code",
   "execution_count": 2,
   "metadata": {
    "collapsed": false
   },
   "outputs": [
    {
     "data": {
      "text/plain": [
       "<matplotlib.text.Text at 0x21d87dd6f98>"
      ]
     },
     "execution_count": 2,
     "metadata": {},
     "output_type": "execute_result"
    },
    {
     "data": {
      "image/png": "[encoded data removed]",
      "text/plain": [
       "<matplotlib.figure.Figure at 0x21d811d0cc0>"
      ]
     },
     "metadata": {},
     "output_type": "display_data"
    }
   ],
   "source": [
    "%config InlineBackend.rc = {}\n",
    "import matplotlib.pyplot as plt\n",
    "%matplotlib inline\n",
    "import seaborn\n",
    "import numpy as np\n",
    "from astropy.coordinates import Angle\n",
    "fig = plt.figure (figsize=(13,3))\n",
    "ax = fig.add_subplot(121,projection=\"mollweide\")\n",
    "ax.grid(True)\n",
    "ax.set_title(\"GAMA Survey Sky Coverage\")\n",
    "ax.scatter(Angle(galaxyTable['ra'],u.deg).wrap_at(180.*u.deg).radian,Angle(galaxyTable['DEC'],u.deg).radian,s=1)\n",
    "a2 = fig.add_subplot(122)\n",
    "a2.hist(galaxyTable['Z_TONRY'],bins=100)\n",
    "a2.set_title(\"redshift distribution\")\n",
    "a2.set_xlabel(\"z\")\n",
    "a2.set_ylabel(\"N\")"
   ]
  },
  {
   "cell_type": "markdown",
   "metadata": {},
   "source": [
    "### Step #2 Calculate distance to the galaxies from their redshift"
   ]
  },
  {
   "cell_type": "markdown",
   "metadata": {},
   "source": [
    "Now to calculate the comoving distance we'll need to choose a set of Cosmological parameters. One of the really nice features of astropy is  the built in set of standard cosmologies. Here I choose the Planck15 cosmology defined <a href=\"http://arxiv.org/abs/1303.5076\">here</a>."
   ]
  },
  {
   "cell_type": "code",
   "execution_count": 4,
   "metadata": {
    "collapsed": false
   },
   "outputs": [
    {
     "data": {
      "text/plain": [
       "(FlatLambdaCDM(name=\"Planck15\", H0=67.7 km / (Mpc s), Om0=0.307, Tcmb0=2.725 K, Neff=3.05, m_nu=[ 0.    0.    0.06] eV, Ob0=0.0486),\n",
       " <Quantity 1599.2141383361618 Mpc>,\n",
       " <Quantity 9.383556016036557 Gyr>)"
      ]
     },
     "execution_count": 4,
     "metadata": {},
     "output_type": "execute_result"
    }
   ],
   "source": [
    "from astropy.cosmology import Planck15\n",
    "Planck15,Planck15.comoving_distance(0.4), Planck15.age(0.4)"
   ]
  },
  {
   "cell_type": "code",
   "execution_count": null,
   "metadata": {
    "collapsed": true
   },
   "outputs": [],
   "source": [
    "Planck15."
   ]
  },
  {
   "cell_type": "code",
   "execution_count": 5,
   "metadata": {
    "collapsed": false
   },
   "outputs": [],
   "source": [
    "#Calculate a new column of comoving distance to the galaxies\n",
    "distCol=Column(Planck15.comoving_distance(galaxyTable['Z_TONRY']),name='comoving_distance',meta={'ucd': 'pos.distance'})\n",
    "#Add that column to the data table (as the third column after ra and dec)\n",
    "galaxyTable.add_column(distCol,2)\n",
    "#Create a column of coordinate objects because it will be useful later\n",
    "coordsCol=SkyCoord(galaxyTable['ra'],galaxyTable['DEC'],unit=(u.degree, u.degree),\\\n",
    "                   distance=Distance(galaxyTable['comoving_distance'],u.pc),frame='icrs')"
   ]
  },
  {
   "cell_type": "markdown",
   "metadata": {},
   "source": [
    "###### Print the Catalog"
   ]
  },
  {
   "cell_type": "code",
   "execution_count": 6,
   "metadata": {
    "collapsed": false
   },
   "outputs": [
    {
     "data": {
      "text/html": [
       "&lt;Table length=53301&gt;\n",
       "<table id=\"table2325785828488\" class=\"table-striped table-bordered table-condensed\">\n",
       "<thead><tr><th>ra</th><th>DEC</th><th>comoving_distance</th><th>Z_TONRY</th><th>SFR</th><th>EMline_Class</th><th>logmstar</th><th>metal</th><th>absMag_r</th><th>logage</th><th>logMoverl_i</th></tr></thead>\n",
       "<thead><tr><th></th><th></th><th>Mpc</th><th></th><th></th><th></th><th></th><th></th><th></th><th></th><th></th></tr></thead>\n",
       "<thead><tr><th>float64</th><th>float64</th><th>float64</th><th>float64</th><th>float64</th><th>str3</th><th>float64</th><th>float64</th><th>float64</th><th>float64</th><th>float64</th></tr></thead>\n",
       "<tr><td>174.005983764</td><td>0.720927127591</td><td>226.528188426</td><td>0.0518138</td><td>0.185113</td><td>SF</td><td>9.12851042187</td><td>0.0330536359134</td><td>-18.1912828065</td><td>9.71615145135</td><td>1.70443138463</td></tr>\n",
       "<tr><td>174.022806365</td><td>0.705937411068</td><td>1354.70478154</td><td>0.332804</td><td>9.36947</td><td>XXX</td><td>11.0503601715</td><td>0.0202665491508</td><td>-22.8990099392</td><td>9.5188614887</td><td>1.71930527053</td></tr>\n",
       "<tr><td>174.100729377</td><td>0.658914274054</td><td>966.864996055</td><td>0.231281</td><td>0.337188</td><td>XXX</td><td>10.847068929</td><td>0.0184374417908</td><td>-21.7511866961</td><td>9.83104106697</td><td>1.97362202031</td></tr>\n",
       "<tr><td>174.153156272</td><td>0.815426501273</td><td>19.5875320787</td><td>0.00443048</td><td>0.991787</td><td>SF</td><td>7.48716971791</td><td>0.000835064700905</td><td>-15.5538521806</td><td>8.98493833937</td><td>1.24984356073</td></tr>\n",
       "<tr><td>174.280512612</td><td>0.70608150666</td><td>496.450794556</td><td>0.11532</td><td>0.297587</td><td>XXX</td><td>9.55955138127</td><td>0.0130184432258</td><td>-19.7482673646</td><td>9.54962088239</td><td>1.54259491999</td></tr>\n",
       "<tr><td>174.302786008</td><td>0.789984596388</td><td>328.385101559</td><td>0.0755416</td><td>1.12436</td><td>SF</td><td>9.82172906009</td><td>0.0066186863944</td><td>-20.0559795935</td><td>9.77329420201</td><td>1.68111562156</td></tr>\n",
       "<tr><td>174.305547692</td><td>0.790335098179</td><td>329.624310428</td><td>0.075832</td><td>0.146217</td><td>SF</td><td>9.47458337058</td><td>0.00753276230635</td><td>-19.4336258665</td><td>9.53293449679</td><td>1.57845309087</td></tr>\n",
       "<tr><td>174.335362931</td><td>0.83656295513</td><td>465.950310565</td><td>0.108041</td><td>0.921479</td><td>SF</td><td>9.85374077052</td><td>0.0148749711966</td><td>-20.1791723545</td><td>9.64901273283</td><td>1.64606476136</td></tr>\n",
       "<tr><td>174.346901089</td><td>0.696450160048</td><td>820.968627014</td><td>0.194536</td><td>5.50625</td><td>SF</td><td>10.7435902879</td><td>0.0116710343688</td><td>-21.785559543</td><td>9.75131790244</td><td>1.87585864721</td></tr>\n",
       "<tr><td>...</td><td>...</td><td>...</td><td>...</td><td>...</td><td>...</td><td>...</td><td>...</td><td>...</td><td>...</td><td>...</td></tr>\n",
       "<tr><td>220.363954805</td><td>0.794094823426</td><td>1113.81217744</td><td>0.269063</td><td>0.20541</td><td>XXX</td><td>10.4055270541</td><td>0.00708704701992</td><td>-21.6932771282</td><td>9.55683883884</td><td>1.59582896368</td></tr>\n",
       "<tr><td>221.039508846</td><td>0.740801311293</td><td>1093.97256459</td><td>0.263915</td><td>-9.0</td><td>XXX</td><td>10.6328220566</td><td>0.0132416501559</td><td>-21.6004346227</td><td>9.71040527228</td><td>1.83509891978</td></tr>\n",
       "<tr><td>221.354708786</td><td>0.666617837833</td><td>0.00465983758264</td><td>1.05292e-06</td><td>-9.0</td><td>XXX</td><td>-3.78759898628</td><td>0.00513032257297</td><td>13.0997089078</td><td>9.4926656315</td><td>1.37567264968</td></tr>\n",
       "<tr><td>221.412707232</td><td>0.796809258236</td><td>0.00777490667037</td><td>1.75679e-06</td><td>-9.0</td><td>XXX</td><td>-3.22269328729</td><td>0.0123144631116</td><td>13.5748862713</td><td>9.91522368346</td><td>2.04120120938</td></tr>\n",
       "<tr><td>221.418933598</td><td>0.801363830979</td><td>698.441542311</td><td>0.164234</td><td>0.0938392</td><td>XXX</td><td>10.4246441576</td><td>0.0171651008519</td><td>-20.625278007</td><td>9.83564182352</td><td>2.00974988068</td></tr>\n",
       "<tr><td>222.70866419</td><td>0.778286520088</td><td>0.0460003732091</td><td>1.03941e-05</td><td>-9.0</td><td>XXX</td><td>-1.42445525549</td><td>0.00589734235856</td><td>7.91604008527</td><td>9.78114823687</td><td>1.63675454139</td></tr>\n",
       "<tr><td>183.465339406</td><td>1.2171707781</td><td>0.0246766403422</td><td>5.57585e-06</td><td>-9.0</td><td>XXX</td><td>-2.89053379897</td><td>0.0135255803682</td><td>13.1098955275</td><td>9.94933177554</td><td>2.16206953854</td></tr>\n",
       "<tr><td>211.55021466</td><td>1.10102593531</td><td>1.59284756364</td><td>0.000359944</td><td>-9.0</td><td>XXX</td><td>5.38068476844</td><td>0.0146118260433</td><td>-6.66670411714</td><td>9.96457622365</td><td>2.44710183285</td></tr>\n",
       "<tr><td>211.610464953</td><td>1.05387697448</td><td>2.66917370458</td><td>0.000603201</td><td>-9.0</td><td>XXX</td><td>5.76503529501</td><td>0.00617013977633</td><td>-9.3358116772</td><td>9.92290145136</td><td>1.89174654061</td></tr>\n",
       "<tr><td>212.057486426</td><td>1.05269627001</td><td>332.007490637</td><td>0.0763906</td><td>0.0266704</td><td>XXX</td><td>9.57088001257</td><td>0.00836464776078</td><td>-19.0808277015</td><td>9.71205544811</td><td>1.78147931744</td></tr>\n",
       "</table>"
      ],
      "text/plain": [
       "<Table length=53301>\n",
       "      ra           DEC       comoving_distance ...     logage     logMoverl_i \n",
       "                                    Mpc        ...                            \n",
       "   float64       float64          float64      ...    float64       float64   \n",
       "------------- -------------- ----------------- ... ------------- -------------\n",
       "174.005983764 0.720927127591     226.528188426 ... 9.71615145135 1.70443138463\n",
       "174.022806365 0.705937411068     1354.70478154 ...  9.5188614887 1.71930527053\n",
       "174.100729377 0.658914274054     966.864996055 ... 9.83104106697 1.97362202031\n",
       "174.153156272 0.815426501273     19.5875320787 ... 8.98493833937 1.24984356073\n",
       "174.280512612  0.70608150666     496.450794556 ... 9.54962088239 1.54259491999\n",
       "174.302786008 0.789984596388     328.385101559 ... 9.77329420201 1.68111562156\n",
       "174.305547692 0.790335098179     329.624310428 ... 9.53293449679 1.57845309087\n",
       "174.335362931  0.83656295513     465.950310565 ... 9.64901273283 1.64606476136\n",
       "174.346901089 0.696450160048     820.968627014 ... 9.75131790244 1.87585864721\n",
       "          ...            ...               ... ...           ...           ...\n",
       "220.363954805 0.794094823426     1113.81217744 ... 9.55683883884 1.59582896368\n",
       "221.039508846 0.740801311293     1093.97256459 ... 9.71040527228 1.83509891978\n",
       "221.354708786 0.666617837833  0.00465983758264 ...  9.4926656315 1.37567264968\n",
       "221.412707232 0.796809258236  0.00777490667037 ... 9.91522368346 2.04120120938\n",
       "221.418933598 0.801363830979     698.441542311 ... 9.83564182352 2.00974988068\n",
       " 222.70866419 0.778286520088   0.0460003732091 ... 9.78114823687 1.63675454139\n",
       "183.465339406   1.2171707781   0.0246766403422 ... 9.94933177554 2.16206953854\n",
       " 211.55021466  1.10102593531     1.59284756364 ... 9.96457622365 2.44710183285\n",
       "211.610464953  1.05387697448     2.66917370458 ... 9.92290145136 1.89174654061\n",
       "212.057486426  1.05269627001     332.007490637 ... 9.71205544811 1.78147931744"
      ]
     },
     "execution_count": 6,
     "metadata": {},
     "output_type": "execute_result"
    }
   ],
   "source": [
    "galaxyTable"
   ]
  },
  {
   "cell_type": "markdown",
   "metadata": {},
   "source": [
    "OK, one of the things we downloaded Emline_Class isn't a number. It would be better if we changed that. Let's now check what the full list of values in the Emline_Class are"
   ]
  },
  {
   "cell_type": "code",
   "execution_count": 7,
   "metadata": {
    "collapsed": false
   },
   "outputs": [
    {
     "data": {
      "text/plain": [
       "{'AGN', 'SF ', 'XXX'}"
      ]
     },
     "execution_count": 7,
     "metadata": {},
     "output_type": "execute_result"
    }
   ],
   "source": [
    "names = set(galaxyTable['EMline_Class'])\n",
    "names"
   ]
  },
  {
   "cell_type": "markdown",
   "metadata": {},
   "source": [
    "Good, we'll preplace those codes with integers to make colormaps easier: \n",
    "* 1 = star forming galaxies \n",
    "* 2 = AGN, \n",
    "* 0 = non emmission line galaxies "
   ]
  },
  {
   "cell_type": "code",
   "execution_count": 8,
   "metadata": {
    "collapsed": true
   },
   "outputs": [],
   "source": [
    "#galaxyTable.remove_column('class')\n",
    "import numpy as np\n",
    "galaxyTable.add_column(Column(name='class',dtype=int,data=np.zeros(len(galaxyTable))))\n",
    "for i,EMtype in enumerate(galaxyTable['EMline_Class']):\n",
    "    if EMtype.strip()==\"SF\":\n",
    "        galaxyTable['class'][i]=1\n",
    "    if EMtype.strip()=='AGN':\n",
    "        galaxyTable['class'][i]=2 \n",
    "galaxyTable.remove_column('EMline_Class')"
   ]
  },
  {
   "cell_type": "code",
   "execution_count": 9,
   "metadata": {
    "collapsed": false
   },
   "outputs": [],
   "source": [
    "# We can also display the full sortable table in the browser\n",
    "galaxyTable.show_in_browser(jsviewer=True)  "
   ]
  },
  {
   "cell_type": "markdown",
   "metadata": {},
   "source": [
    "Now that we have calculated the distances we are ready to visualize the dataset. The process will vary a bit depending on which software package we are using. "
   ]
  },
  {
   "cell_type": "markdown",
   "metadata": {},
   "source": [
    "### Visualizing the dataset in Microsoft Research's Worldwide Telescope"
   ]
  },
  {
   "cell_type": "markdown",
   "metadata": {},
   "source": [
    "We will demonstraight two different rouutes to importing data into WWT. One is through an API where a computer program(this one) communicates with WWT. In the other technique we'll write the data to a standard format (the VOTable) which WWT can import and display."
   ]
  },
  {
   "cell_type": "markdown",
   "metadata": {},
   "source": [
    "##### Using an API (Application Programming Interface)"
   ]
  },
  {
   "cell_type": "markdown",
   "metadata": {},
   "source": [
    "We can then send the data table directly to WWT as a new layer utilizing WWT's layer control API (<a href=\"http://www.worldwidetelescope.org/Docs/WorldWideTelescope_lcapi.html\">LCAPI</a>). It can be sent to a WWT client running on the same machine or on a remote machine. For example I can run this notebook on my laptop and send data to Adler's planetarium dome."
   ]
  },
  {
   "cell_type": "code",
   "execution_count": 10,
   "metadata": {
    "collapsed": false
   },
   "outputs": [
    {
     "name": "stdout",
     "output_type": "stream",
     "text": [
      "Connecting to WWT on host 127.0.0.1.\n"
     ]
    }
   ],
   "source": [
    "from pywwt.mods import * #import the pyWWT package\n",
    "#Connect to WWT\n",
    "my_wwt = WWTClient() #Can pass a IP address here if WWT is running on a remote machine"
   ]
  },
  {
   "cell_type": "markdown",
   "metadata": {},
   "source": [
    "Once the connection is made all we have to do is set up the new layer, set the visualization properties for the layer, and import out data table into the layer."
   ]
  },
  {
   "cell_type": "code",
   "execution_count": 11,
   "metadata": {
    "collapsed": false
   },
   "outputs": [],
   "source": [
    "#Set up WWT layer\n",
    "new_layer = my_wwt.new_layer(\"Sky\", \"GAMA Galaxies\", galaxyTable.colnames)\n",
    "#Set visualization parameters in WWT\n",
    "props_dict = {\"CoordinatesType\":\"Spherical\",\\\n",
    "              \"MarkerScale\":\"Screen\",\\\n",
    "              \"PointScaleType\":\"Constant\",\\\n",
    "              \"ScaleFactor\":\"2\",\\\n",
    "              \"ShowFarSide\":\"True\",\\\n",
    "              \"AltColumn\":\"2\",\\\n",
    "              \"AltType\":\"Distance\",\\\n",
    "              \"AltUnit\":\"MegaParsecs\",\\\n",
    "              \"RaUnits\":\"Degrees\",\\\n",
    "              \"TimeSeries\":\"False\"}\n",
    "new_layer.set_properties(props_dict)\n",
    "#Send data to WWT client\n",
    "new_layer.update(data=galaxyTable, purge_all=True, no_purge=False, show=True)"
   ]
  },
  {
   "cell_type": "markdown",
   "metadata": {},
   "source": [
    "The result looks like this:\n",
    "   <img src=\"https://raw.githubusercontent.com/IPSScienceVisualization/python-tutorials/master/images/WWT2.PNG\"><br>\n",
    "Switch to Sky Mode, change the marker type to circles and scale them up a bit and and you have this:<img src=\"https://raw.githubusercontent.com/IPSScienceVisualization/python-tutorials/master/images/WWT3.PNG\"><br>"
   ]
  },
  {
   "cell_type": "markdown",
   "metadata": {},
   "source": [
    "##### Writing a VOtable"
   ]
  },
  {
   "cell_type": "markdown",
   "metadata": {},
   "source": [
    "The astronomical community, through the Virtual Observatory initative, has defined an standard data format for catalog data, the VOtable. We can easily export our data table in this format for WWT to import."
   ]
  },
  {
   "cell_type": "code",
   "execution_count": null,
   "metadata": {
    "collapsed": false
   },
   "outputs": [],
   "source": [
    "#Write VOtable for WWT visualization\n",
    "dataTable.write('GAMA_WWT.xml',format='votable')"
   ]
  },
  {
   "cell_type": "markdown",
   "metadata": {},
   "source": [
    "### Visualizing the dataset in Evans and Sutherland's Digistar\n",
    "\n",
    "Digistar is also capable of reading the VOtable format, however we'll need to output the coordinates inslightly different form. We need to provide a projection into cartesian coordinates. Fortunately astropy is verygood at dealing with coordinate transformations and projections. All we need to do is create a list of coordinates from our data table and then add the Cartesian projections as the first three columns."
   ]
  },
  {
   "cell_type": "code",
   "execution_count": null,
   "metadata": {
    "collapsed": false
   },
   "outputs": [],
   "source": [
    "#Add the Cartesian coordinates as the first three columns in the data table\n",
    "dataTable.add_column(Column(coordsCol.represent_as(CartesianRepresentation).x.to(u.Mpc),name='x_coord',meta={'ucd': 'pos.cartesian.x'}),0)\n",
    "dataTable.add_column(Column(coordsCol.represent_as(CartesianRepresentation).y.to(u.Mpc),name='y_coord',meta={'ucd': 'pos.cartesian.y'}),1)\n",
    "dataTable.add_column(Column(coordsCol.represent_as(CartesianRepresentation).z.to(u.Mpc),name='z_coord',meta={'ucd': 'pos.cartesian.z'}),2)\n",
    "#Write VOtable for Digistar visualization\n",
    "#dataTable.write('GAMA_digistar.du',format='votable') #Hold on with Astropy 0.4 this write is crashing - Why!!!\n",
    "#Workaround since the simplier technique for writing votable above is failing\n",
    "from astropy.io.votable import from_table, writeto\n",
    "votable = from_table(dataTable)\n",
    "writeto(votable, \"GAMA.du\")"
   ]
  },
  {
   "cell_type": "markdown",
   "metadata": {},
   "source": [
    "In the code above notice the part that goes:'ucd': 'pos.cartesian.x'. UCD stands for Unified Content Descriptor, these are words that have been defined to describe almost all kinds of astronomical data. Using them allows the computer to parse the dataset and make decisions on how to visualize the dataset(because it knows which columns are position, which are brightnesses, which are sizes, etc.)"
   ]
  },
  {
   "cell_type": "markdown",
   "metadata": {},
   "source": [
    "### Visualizing the dataset in SkySkan's Digital Sky and SCISS' Uniview\n",
    "\n",
    "For Digital Sky and Uniview the process is quite similar. As we did for Digistar we'll need to provide Cartesian coordinates. However for Digital Sky and Uniview we need to do the projection in Galactic rather than Equitorial(RA and dec) coordinates. Fortunately astropy makes this very easy."
   ]
  },
  {
   "cell_type": "code",
   "execution_count": null,
   "metadata": {
    "collapsed": false
   },
   "outputs": [],
   "source": [
    "#First let's remove the Equitorial projection columns added for Digistar\n",
    "dataTable.remove_columns(['x_coord', 'y_coord', 'z_coord'])\n",
    "#Now we'll add the projection into the Galactic coordinate system\n",
    "dataTable.add_column(Column(coordsCol.galactic.represent_as(CartesianRepresentation).x.to(u.Mpc),name='x_gal_coord',meta={'ucd': 'pos.cartesian.x'}),0)\n",
    "dataTable.add_column(Column(coordsCol.galactic.represent_as(CartesianRepresentation).y.to(u.Mpc),name='y_gal_coord',meta={'ucd': 'pos.cartesian.y'}),1)\n",
    "dataTable.add_column(Column(coordsCol.galactic.represent_as(CartesianRepresentation).z.to(u.Mpc),name='z_gal_coord',meta={'ucd': 'pos.cartesian.z'}),2)"
   ]
  },
  {
   "cell_type": "markdown",
   "metadata": {},
   "source": [
    "Now we need to write out the data in the \".speck\" format defined by Partiview. This format is a ASCII table where the first three columns are the x,y,z Cartesian coordinates and the remaining columns are whatever additional data we want to carry around. The table begins with a header that names these additional columns."
   ]
  },
  {
   "cell_type": "code",
   "execution_count": null,
   "metadata": {
    "collapsed": false
   },
   "outputs": [],
   "source": [
    "#Write .speck file for DigitalSky and Uniview\n",
    "writeFile = open('GAMA.speck','a')\n",
    "#Define and write the header\n",
    "headerText=\"\\\n",
    "#Galaxy and Mass Assembly galaxy catalog\n",
    "dataVar 0 ra\n",
    "dataVar 1 Dec\n",
    "dataVar 2 comovingDistance\n",
    "dataVar 3 redshift\n",
    "dataVar 4 logmstar\n",
    "dataVar 5 metalicity\n",
    "dataVar 6 absMag_r\"\n",
    "writeFile.write(headerText)\n",
    "#Write the data\n",
    "dataTable.write(writeFile,format='ascii.no_header')\n",
    "writeFile.close()"
   ]
  },
  {
   "cell_type": "markdown",
   "metadata": {},
   "source": [
    "Now for both Digital Sky and Uniview we'll need to provide some additional files that provide additional information about the .speck file. Things like the reference frame, distance units and various visualization quantities. This process is alittle different for the two software packages."
   ]
  },
  {
   "cell_type": "markdown",
   "metadata": {},
   "source": [
    "### Visualizing the dataset in RSA Cosmos' SkyExplorer\n",
    "For SkyExplorer we will need to create an OPen Scene Graph (OSG) file. For that we want to create a table that has x,y,z cartesian coordinated in the Galactic frame expressed in meters "
   ]
  },
  {
   "cell_type": "code",
   "execution_count": null,
   "metadata": {
    "collapsed": true
   },
   "outputs": [],
   "source": [
    "#Now we'll add the projection into the Galactic coordinate\n",
    "#minus signs convert from left-handed towards anti-center to right handed towards Galactic center coordinates [Make sure this is correct!!!]\n",
    "col_x=Column(-1.0*coordsCol.galactic.represent_as(CartesianRepresentation).x.to(u.m),name='x_gal_coord',meta={'ucd': 'pos.cartesian.x'})\n",
    "col_y=Column(-1.0*coordsCol.galactic.represent_as(CartesianRepresentation).y.to(u.m),name='y_gal_coord',meta={'ucd': 'pos.cartesian.y'})\n",
    "col_z=Column(coordsCol.galactic.represent_as(CartesianRepresentation).z.to(u.m),name='z_gal_coord',meta={'ucd': 'pos.cartesian.z'})\n",
    "GAMAtable=Table([col_x,col_y,col_z])"
   ]
  },
  {
   "cell_type": "code",
   "execution_count": null,
   "metadata": {
    "collapsed": true
   },
   "outputs": [],
   "source": [
    "datasetName = 'GAMA'\n",
    "datasetLength=len(GAMAtable)\n",
    "headerText='''\n",
    "Group {\n",
    "    name \"'''+datasetName+'''\"\n",
    "    StateSet {\n",
    "        GL_BLEND ON\n",
    "        BlendFunc {\n",
    "          source ONE\n",
    "          destination ONE\n",
    "        }\n",
    "        Depth {\n",
    "            writeMask FALSE\n",
    "        }\n",
    "        osgx::Program {\n",
    "            file \"data/scene/common/shader/psc/noLight.program\"\n",
    "        }\n",
    "    }\n",
    "    Geode {\n",
    "      name \"'''+datasetName+''' geode\"\n",
    "      nodeMask 0xffffffff\n",
    "      cullingActive TRUE\n",
    "      num_drawables 1\n",
    "      Geometry {\n",
    "        DataVariance STATIC\n",
    "        useDisplayList TRUE\n",
    "        useVertexBufferObjects FALSE\n",
    "        PrimitiveSets 1\n",
    "        {\n",
    "          DrawArrays POINTS 0 '''+str(datasetLength-1)+'''\n",
    "        }\n",
    "        VertexArray Vec3Array '''+str(datasetLength)+'''\n",
    "        {'''\n",
    "footerText='''\n",
    "        ColorBinding OVERALL\n",
    "        ColorArray Vec4Array 1\n",
    "        {\n",
    "          1 1 0 1\n",
    "        }\n",
    "      }\n",
    "    }\n",
    "  }\n",
    "}'''\n"
   ]
  },
  {
   "cell_type": "code",
   "execution_count": null,
   "metadata": {
    "collapsed": true
   },
   "outputs": [],
   "source": [
    "#Write the osg file with header and footer\n",
    "writeFile = open('data/GAMA.osg','w')\n",
    "writeFile.write(headerText)\n",
    "GAMAtable.write(writeFile,format='ascii.no_header')\n",
    "writeFile.write(footerText)\n",
    "writeFile.close()"
   ]
  },
  {
   "cell_type": "markdown",
   "metadata": {},
   "source": [
    "### Colormaps and distributions\n",
    "We'd like to go beyond simply displaying collections of points. Here I show how the Matplotlib colormaps can be exported as partiview .cmap files (which work in DigitalSky and Uniview). I'll also export images that can be loaded on the dome while showing off different parameters of the survey."
   ]
  },
  {
   "cell_type": "code",
   "execution_count": 12,
   "metadata": {
    "collapsed": false
   },
   "outputs": [
    {
     "data": {
      "image/png": "[encoded data removed]",
      "text/plain": [
       "<matplotlib.figure.Figure at 0x21d88a4ba58>"
      ]
     },
     "metadata": {},
     "output_type": "display_data"
    }
   ],
   "source": [
    "import matplotlib.cm as cm\n",
    "import matplotlib.colors as colors\n",
    "plt.figure(num=None, figsize=(10, 4), dpi=80, facecolor='w', edgecolor='k')\n",
    "N, bins, patches = plt.hist(galaxyTable['SFR'],bins=100,range=[-1,20])\n",
    "plt.xlabel('Solar Masses per year',fontsize=18)\n",
    "plt.title('Star Formation Rate',fontsize=24)\n",
    "fracs = bins.astype(float)/bins.max()\n",
    "norm = colors.Normalize(0,15)\n",
    "\n",
    "for thisbin, thispatch in zip(bins, patches):\n",
    "    color = cm.inferno(norm(thisbin))\n",
    "    thispatch.set_facecolor(color)\n",
    "\n",
    "plt.savefig('data/GAMA_SFR.png', bbox_inches='tight')"
   ]
  },
  {
   "cell_type": "code",
   "execution_count": 13,
   "metadata": {
    "collapsed": true
   },
   "outputs": [],
   "source": [
    "# inferno used for Star Formation Rate\n",
    "writeFile = open('data/inferno.cmap','w')\n",
    "ncmap=41\n",
    "writeFile.write(\"%d\" % ncmap)\n",
    "for i in range(ncmap):\n",
    "  color=cm.inferno(i/(1.0*(ncmap-1.)))\n",
    "  writeFile.write(\"%f %f %f\" % (color[0],color[1],color[2]))\n",
    "writeFile.close()"
   ]
  },
  {
   "cell_type": "code",
   "execution_count": null,
   "metadata": {
    "collapsed": false,
    "scrolled": true
   },
   "outputs": [],
   "source": [
    "plt.figure(num=None, figsize=(10, 4), dpi=80, facecolor='w', edgecolor='k')\n",
    "N, bins, patches = plt.hist(galaxyTable['metal'],bins=100,range=[0,0.05])\n",
    "plt.xlabel('Metalicity',fontsize=18)\n",
    "plt.title('Metalicity',fontsize=24)\n",
    "fracs = bins.astype(float)/bins.max()\n",
    "norm = colors.Normalize(0.0,0.03)\n",
    "\n",
    "for thisbin, thispatch in zip(bins, patches):\n",
    "    color = cm.spring(norm(thisbin))\n",
    "    thispatch.set_facecolor(color)\n",
    "\n",
    "plt.savefig('data/Metalicity.png', bbox_inches='tight')"
   ]
  },
  {
   "cell_type": "code",
   "execution_count": null,
   "metadata": {
    "collapsed": true
   },
   "outputs": [],
   "source": [
    "# spring used for metalicity\n",
    "writeFile = open('data/spring.cmap','w')\n",
    "ncmap=21\n",
    "writeFile.write(\"%d\" % ncmap)\n",
    "for i in range(ncmap):\n",
    "  color=cm.spring(i/(1.0*(ncmap-1.)))\n",
    "  writeFile.write(\"%f %f %f\" % (color[0],color[1],color[2]))\n",
    "writeFile.close()"
   ]
  },
  {
   "cell_type": "markdown",
   "metadata": {},
   "source": [
    "##### Mark SubbaRao, Feb 22 2017"
   ]
  }
 ],
 "metadata": {
  "anaconda-cloud": {},
  "kernelspec": {
   "display_name": "Python [conda root]",
   "language": "python",
   "name": "conda-root-py"
  },
  "language_info": {
   "codemirror_mode": {
    "name": "ipython",
    "version": 3
   },
   "file_extension": ".py",
   "mimetype": "text/x-python",
   "name": "python",
   "nbconvert_exporter": "python",
   "pygments_lexer": "ipython3",
   "version": "3.5.2"
  }
 },
 "nbformat": 4,
 "nbformat_minor": 0
}
