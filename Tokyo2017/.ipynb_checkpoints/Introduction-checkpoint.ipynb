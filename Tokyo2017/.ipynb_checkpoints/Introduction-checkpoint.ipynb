{
 "cells": [
  {
   "cell_type": "markdown",
   "metadata": {},
   "source": [
    "# 1. Introduction to Python and Jupyter Notebook\n",
    "\n",
    "\n",
    "## Cells in Jupyter Notebook\n",
    "There are two types of cells:\n",
    "- **Text cell**: Texts are written (like this cell)\n",
    "- **Code cell**: You can enter Python codes here and can run them.\n",
    "To run codes in a code cell, first select the cell and then press Shift-Enter key, click the 'play' button in the tool bar above, or select Cell | Run Cells in the menu bar. For code cells, input numbers are displayed at the left of the cell, for example '`In [1]`'. When running cell, the output is displayed below the cell.\n",
    "\n",
    "In the following workshop/practicum, you basically first read explanations of a topic in a text cell, and then try it in a code cell next to the text cell. Although, as a practicum, it is recommended to type the codes in the code cell with seeing them in the text code, **'copy and paste' is ok** because of the restricted time."
   ]
  },
  {
   "cell_type": "markdown",
   "metadata": {},
   "source": [
    "## Print function\n",
    "The print function is useful to display the status of the running code. It can be used like\n",
    "```\n",
    "print ('text')\n",
    "```\n",
    "It can also display values of variables like  \n",
    "```\n",
    "a = 1\n",
    "print(a)\n",
    "```\n",
    "Enter the following code in the cell below and run it (Shift+Enter) to check this.\n",
    "```\n",
    "print ('text')\n",
    "a = 1\n",
    "print(a)\n",
    "```"
   ]
  },
  {
   "cell_type": "code",
   "execution_count": null,
   "metadata": {
    "collapsed": false
   },
   "outputs": [],
   "source": []
  },
  {
   "cell_type": "markdown",
   "metadata": {},
   "source": [
    "## Comments\n",
    "In Python, comments are written in codes starting with '#'. Comments don't effect on running the code. Try the following code.\n",
    "\n",
    "```\n",
    "print ('text') # print text\n",
    "a = 1 # define a\n",
    "print(a) # print the value of a\n",
    "```"
   ]
  },
  {
   "cell_type": "code",
   "execution_count": null,
   "metadata": {
    "collapsed": false
   },
   "outputs": [],
   "source": []
  },
  {
   "cell_type": "markdown",
   "metadata": {},
   "source": [
    "## For-loop\n",
    "A for-loop in which the index `i` runs from `i=0` to `i=9` is written as follows.\n",
    "```\n",
    "for i in range(10):\n",
    "    print(i)\n",
    "```\n",
    "In this for-loop, the print function is called 10 times changing the value of `i`.\n",
    "\n",
    "Note that in Python **the identation in codes plays a very important role**. The indentation defines a code block for which the for-loop, in this case, is applied.\n",
    "To try an example of the for-loop, enter the above code in the cell below and run it."
   ]
  },
  {
   "cell_type": "code",
   "execution_count": null,
   "metadata": {
    "collapsed": false
   },
   "outputs": [],
   "source": []
  },
  {
   "cell_type": "markdown",
   "metadata": {},
   "source": [
    "## If-statememt\n",
    "An if-statement is written like\n",
    "```\n",
    "if a > 0:\n",
    "    print ('a > 0') # If the condition 'a > 0' is true, this line runs\n",
    "```\n",
    "Like the for-loop, codes within an indented block are run when the condition for the if-statement is true. An if-else-statement is given as follows\n",
    "```\n",
    "a = 1\n",
    "if a > 0:\n",
    "    print ('a > 0 is true') # If the condition 'a > 0' is true, this line runs\n",
    "else:\n",
    "    print ('a > 0 is false') # Otherwise, this line runs\n",
    "```\n",
    "Enter the above code in the following cell and run it."
   ]
  },
  {
   "cell_type": "code",
   "execution_count": null,
   "metadata": {
    "collapsed": false
   },
   "outputs": [],
   "source": []
  },
  {
   "cell_type": "markdown",
   "metadata": {},
   "source": [
    "## Function\n",
    "In Python, users can define their own functions.\n",
    "Generally, a function is defined as a block of codes. It can take arguments as an input and it also can return values as an output. It can be called repeatedly any number of times if necessary.\n",
    "\n",
    "In Python, a function is defined with the '`def`' keyword as follows:\n",
    "```\n",
    "def add(a,b):\n",
    "    return a+b\n",
    "```\n",
    "The contents of the fuction is written in an indented block. Functions can return values with the `return` keyword.\n",
    " \n",
    "To define a function and to test it, enter the following codes in the cell below and run it.\n",
    "```\n",
    "def add(a,b):\n",
    "    return a+b\n",
    "    \n",
    "print(add(1,2))\n",
    "```\n"
   ]
  },
  {
   "cell_type": "code",
   "execution_count": null,
   "metadata": {
    "collapsed": false
   },
   "outputs": [],
   "source": []
  },
  {
   "cell_type": "markdown",
   "metadata": {},
   "source": [
    "## Module\n",
    "In Python, a lot of functions are defined in modules. \n",
    "For example, mathematical functions are defined in the `math` module.\n",
    "To use functions in a module, import the module with the `import` keyword.\n",
    "Enter the following code and run it to see how to use a module. \n",
    "\n",
    "```\n",
    "import math\n",
    "\n",
    "print(math.pi) # print pi\n",
    "print(math.sin(math.pi)) # print sin(pi) \n",
    "```"
   ]
  },
  {
   "cell_type": "code",
   "execution_count": null,
   "metadata": {
    "collapsed": false
   },
   "outputs": [],
   "source": []
  },
  {
   "cell_type": "markdown",
   "metadata": {},
   "source": [
    "Modules used in the following workshop/practicum are:\n",
    "- `math`: mathematical functions\n",
    "- `os`: operating system interface\n",
    "- `struct`: handling binary data\n",
    "- `urllib`: handling URL\n",
    "- `gzip`: handling gzip files\n",
    "- `numpy`: numerical calculation\n",
    "- `matplotlib`: plots graphs\n",
    "- `PIL`: handling images\n",
    "\n",
    "All modules above are available by default in the Anaconda environment."
   ]
  },
  {
   "cell_type": "markdown",
   "metadata": {},
   "source": [
    "## Download a file from Internet with urllib module\n",
    "You can download a file located in the Internet by using Python. For this, the `urlretrieve` function in the `urllib` module can be used. Enter the following codes in the cell below and run it. A text file will be downloaded in your local folder. Check it.\n",
    "```\n",
    "import urllib.request\n",
    "\n",
    "url = 'http://www.cfca.nao.ac.jp/~tkato/DataToDome/a_textfile.txt' # url of the file to be downloaded\n",
    "fno = './a_textfile.txt' # file name for saving in local folder\n",
    "urllib.request.urlretrieve(url, fno) # Download the file\n",
    "```"
   ]
  },
  {
   "cell_type": "code",
   "execution_count": null,
   "metadata": {
    "collapsed": false
   },
   "outputs": [],
   "source": []
  },
  {
   "cell_type": "markdown",
   "metadata": {},
   "source": [
    "## Download files for Mitaka workshop/practicum from the Internet\n",
    "Actually, the files (Jupyter notebooks) used for Mitaka workshop/practicum are located in the Internet at the following URL as a zipped file:  \n",
    "`http://www.cfca.nao.ac.jp/~tkato/DataToDome/mitaka_workshop.zip`  \n",
    "Enter the following code in the cell below and run it to download this file.\n",
    "```\n",
    "url = 'http://www.cfca.nao.ac.jp/~tkato/DataToDome/mitaka_workshop.zip' # url of the file to be downloaded\n",
    "fno = './mitaka_workshop.zip' # file name for saving in local folder\n",
    "urllib.request.urlretrieve(url, fno) # Download the file\n",
    "```"
   ]
  },
  {
   "cell_type": "code",
   "execution_count": 5,
   "metadata": {
    "collapsed": false
   },
   "outputs": [],
   "source": [
    "from urllib import *"
   ]
  },
  {
   "cell_type": "code",
   "execution_count": 3,
   "metadata": {
    "collapsed": false
   },
   "outputs": [
    {
     "ename": "AttributeError",
     "evalue": "module 'urllib' has no attribute 'request'",
     "output_type": "error",
     "traceback": [
      "\u001b[0;31m---------------------------------------------------------------------------\u001b[0m",
      "\u001b[0;31mAttributeError\u001b[0m                            Traceback (most recent call last)",
      "\u001b[0;32m<ipython-input-3-1b2557a60c74>\u001b[0m in \u001b[0;36m<module>\u001b[0;34m()\u001b[0m\n\u001b[1;32m      1\u001b[0m \u001b[0murl\u001b[0m \u001b[1;33m=\u001b[0m \u001b[1;34m'http://www.cfca.nao.ac.jp/~tkato/DataToDome/mitaka_workshop.zip'\u001b[0m \u001b[1;31m# url of the file to be downloaded\u001b[0m\u001b[1;33m\u001b[0m\u001b[0m\n\u001b[1;32m      2\u001b[0m \u001b[0mfno\u001b[0m \u001b[1;33m=\u001b[0m \u001b[1;34m'./mitaka_workshop.zip'\u001b[0m \u001b[1;31m# file name for saving in local folder\u001b[0m\u001b[1;33m\u001b[0m\u001b[0m\n\u001b[0;32m----> 3\u001b[0;31m \u001b[0murllib\u001b[0m\u001b[1;33m.\u001b[0m\u001b[0mrequest\u001b[0m\u001b[1;33m.\u001b[0m\u001b[0murlretrieve\u001b[0m\u001b[1;33m(\u001b[0m\u001b[0murl\u001b[0m\u001b[1;33m,\u001b[0m \u001b[0mfno\u001b[0m\u001b[1;33m)\u001b[0m \u001b[1;31m# Download the file\u001b[0m\u001b[1;33m\u001b[0m\u001b[0m\n\u001b[0m",
      "\u001b[0;31mAttributeError\u001b[0m: module 'urllib' has no attribute 'request'"
     ]
    }
   ],
   "source": [
    "url = 'http://www.cfca.nao.ac.jp/~tkato/DataToDome/mitaka_workshop.zip' # url of the file to be downloaded\n",
    "fno = './mitaka_workshop.zip' # file name for saving in local folder\n",
    "urllib.request.urlretrieve(url, fno) # Download the file"
   ]
  },
  {
   "cell_type": "markdown",
   "metadata": {},
   "source": [
    "After downloading the file successfully, make a folder for Mitaka workshop/practicum and then unzip the downloaded file into it.\n",
    "You are now ready for the workshop/practicum.\n",
    "\n",
    "## Outline of the practicum\n",
    "The workshop/practicum is divided into several sections.\n",
    "Each section is given in a Jupyter Notebook.\n",
    "The titles of sections and corresponding Jupyter Notebook file names are as follows:\n",
    "1. Introduction to Python and Jupyter Notebook (this notebook)\n",
    "2. Downloading Gaia DR1 data from Gaia's site (`download_gaia_dr1.ipynb`)\n",
    "3. Extracting minimum necessary data from original Gaia's data files (`extract_data.ipynb`)\n",
    "4. Generating intensity maps from Gaia's data (`make_intensity_map.ipynb`)\n",
    "5. Generating cube map from intensity maps (`make_cube_map.ipynb`)\n",
    "6. Conversion from cube map to sphere map (`cube_map_to_sphere_map.ipynb`)\n",
    "\n",
    "Then, let's move on to Section 2. Open the notebook `download_gaia_dr1.ipynb`."
   ]
  },
  {
   "cell_type": "code",
   "execution_count": null,
   "metadata": {
    "collapsed": true
   },
   "outputs": [],
   "source": []
  }
 ],
 "metadata": {
  "kernelspec": {
   "display_name": "Python [default]",
   "language": "python",
   "name": "python3"
  },
  "language_info": {
   "codemirror_mode": {
    "name": "ipython",
    "version": 3
   },
   "file_extension": ".py",
   "mimetype": "text/x-python",
   "name": "python",
   "nbconvert_exporter": "python",
   "pygments_lexer": "ipython3",
   "version": "3.5.2"
  }
 },
 "nbformat": 4,
 "nbformat_minor": 2
}
