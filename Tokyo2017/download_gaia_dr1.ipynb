{
 "cells": [
  {
   "cell_type": "markdown",
   "metadata": {},
   "source": [
    "# 2. Downloading Gaia DR1 data from Gaia's site\n",
    "\n",
    "Gaia DR1 data is available at  \n",
    "`http://1016243957.rsc.cdn77.org/Gaia/gaia_source/`.  \n",
    "There are 3 types of data format (CSV, fits, and votable) there.\n",
    "In the following, we use the data files in the CSV format.\n",
    "\n",
    "There are total of 5,231 CSV files!\n",
    "However, unfortunately, it seems that the ftp site would not be available currently.\n",
    "We need to download them by clicking the links on the above site by hand one by one?\n",
    "Fortunately, we can do it automatically using Python.\n",
    "\n",
    "All modules used in this section are `urllib`, `sys`, and `os`.\n",
    "Enter the following codes in the cell below and run the cell to import them.\n",
    "\n",
    "```\n",
    "import urllib.request\n",
    "import sys\n",
    "import os.path\n",
    "```"
   ]
  },
  {
   "cell_type": "code",
   "execution_count": null,
   "metadata": {
    "collapsed": true
   },
   "outputs": [],
   "source": []
  },
  {
   "cell_type": "markdown",
   "metadata": {},
   "source": [
    "Here, let's save the downloaded Gaia DR1 files in the local folder located at `./orig_data`.\n",
    "\n",
    "Before download them, make sure the folder to exist.\n",
    "If it doesn't exist, create it.\n",
    "To do this, the functions `os.path.isdir()` and `os.mkdir()` can be used.\n",
    "The function `os.path.isdir(dir)` confirms if the directory '`dir`' exists.\n",
    "(Here, we use the word 'directory' for the same meaning as 'folder'.)\n",
    "The function `os.mkdir(dir)` creates the directory '`dir`'.\n",
    "\n",
    "The following code first check wherether if the directory '`dest_dir`' already exists or not,\n",
    "and then create it if it is absent. Enter the following codes in the cell below and run it.\n",
    "```\n",
    "dest_dir = './orig_data'\n",
    "if not os.path.isdir(dest_dir):\n",
    "    os.mkdir(dest_dir)\n",
    "```"
   ]
  },
  {
   "cell_type": "code",
   "execution_count": null,
   "metadata": {
    "collapsed": true
   },
   "outputs": [],
   "source": []
  },
  {
   "cell_type": "markdown",
   "metadata": {},
   "source": [
    "Here is the main part of this section.\n",
    "To download a file at URL of '`url`' into a local folder with\n",
    "a file name of '`fn`',\n",
    "`urllib.request.urlretrieve(url, fn)` funciton can be used as already seen in the previous section.\n",
    "\n",
    "Here we download the Gaia DR1 files in the CSV format.\n",
    "Actually, the CSV files are compressed by the gzip\n",
    "and their file names are given in the following format:  \n",
    "`GaiaSource_000-XXX-YYY.csv.gz`,  \n",
    "where XXX means the first index ranging from 0 to 20\n",
    "and YYY means the second index ranging from 0 to 255.  \n",
    "The Gaia DR1 data files in the gzipped CSV format are located at `http://1016243957.rsc.cdn77.org/Gaia/gaia_source/csv/`.\n",
    "\n",
    "Let's define a function to download a data file of the first index `i1` and the second index `i2`.\n",
    "Enter the following codes in the cell below and run it.\n",
    "```\n",
    "def download_file(i1, i2):\n",
    "    url = 'http://1016243957.rsc.cdn77.org/Gaia/gaia_source/csv/'\n",
    "    fn = 'GaiaSource_000-{0:03d}-{1:03d}.csv.gz'.format(i1,i2)\n",
    "    print (fn, end=' ')\n",
    "    fno = \"{0}/{1}\".format(dest_dir,fn)\n",
    "    if os.path.exists(fno):\n",
    "        print('Skippng...')\n",
    "        return\n",
    "    print('Downloading...', end='')\n",
    "\n",
    "    while True:\n",
    "        try:\n",
    "            urllib.request.urlretrieve(url+fn, fno)\n",
    "            print('Completed')\n",
    "            return\n",
    "        except urllib.error.HTTPError:\n",
    "            print('File not found')\n",
    "            return\n",
    "        except:\n",
    "            pass\n",
    "```"
   ]
  },
  {
   "cell_type": "code",
   "execution_count": null,
   "metadata": {
    "collapsed": true
   },
   "outputs": [],
   "source": []
  },
  {
   "cell_type": "markdown",
   "metadata": {},
   "source": [
    "As a test of this function, let's download a file with `i1=0` and `i2=0` using it.\n",
    "Enter the following code in the cell below and run it. It will take a few minutes (of course, it depends on the network condition).\n",
    "```\n",
    "download_file(0,0)\n",
    "```"
   ]
  },
  {
   "cell_type": "code",
   "execution_count": null,
   "metadata": {
    "collapsed": false
   },
   "outputs": [],
   "source": []
  },
  {
   "cell_type": "markdown",
   "metadata": {},
   "source": [
    "Has the file been downloaded successfully?\n",
    "\n",
    "Finally, download some 5 data files for the next section.\n",
    "Enter the following codes in the cell below and run it.\n",
    "Here, we choose `i1=0`.\n",
    "(you can choose another value of `i1` afterward.)\n",
    "```\n",
    "i1 = 0\n",
    "for i2 in range(5):\n",
    "    download_file(i1,i2)\n",
    "```\n",
    "It will take a few minites to complete to download the all 5 files."
   ]
  },
  {
   "cell_type": "code",
   "execution_count": null,
   "metadata": {
    "collapsed": false
   },
   "outputs": [],
   "source": []
  },
  {
   "cell_type": "markdown",
   "metadata": {
    "collapsed": false,
    "scrolled": true
   },
   "source": [
    "Check if the files have been downloaded successfully in your destination folder.\n",
    "That's all for this section.\n",
    "\n",
    "To download all the data files of Gaia DR1, the following code can be used:\n",
    "```\n",
    "def download_all():\n",
    "    for i1 in range(21):\n",
    "        for i2 in range(256):\n",
    "            download_file(i1, i2)\n",
    "```\n",
    "\n",
    "However, it will take a very long time to complete, because there are 5,231 files.\n",
    "Thus, we don't do it in this workshop."
   ]
  },
  {
   "cell_type": "code",
   "execution_count": null,
   "metadata": {
    "collapsed": true
   },
   "outputs": [],
   "source": []
  }
 ],
 "metadata": {
  "kernelspec": {
   "display_name": "Python [default]",
   "language": "python",
   "name": "python3"
  },
  "language_info": {
   "codemirror_mode": {
    "name": "ipython",
    "version": 3
   },
   "file_extension": ".py",
   "mimetype": "text/x-python",
   "name": "python",
   "nbconvert_exporter": "python",
   "pygments_lexer": "ipython3",
   "version": "3.5.2"
  }
 },
 "nbformat": 4,
 "nbformat_minor": 2
}
