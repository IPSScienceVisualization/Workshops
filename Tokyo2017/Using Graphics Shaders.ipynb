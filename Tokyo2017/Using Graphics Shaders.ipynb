{
 "cells": [
  {
   "cell_type": "markdown",
   "metadata": {},
   "source": [
    "# Using Programmable Graphics Shaders\n",
    "\n",
    "Most planetarium space engines allow users to create custom content by writing their own graphics shaders. This is a powerful way to create highly performant custom content, and to incoroprate more advance visualization techniques into the existing software. Unfortunately this ability is often poorly documented, and poorly exposed. Consequentally very few members of the planetarium community are currently writing their own shaders."
   ]
  },
  {
   "cell_type": "markdown",
   "metadata": {},
   "source": [
    "## An example with Uniview: gravitational wave conceptual animation\n",
    "\n",
    "Uniview does an excellent of exposing the power of shaders to its users through the Uniview Shader Effect System (USES). Documentation for that system can be found [here](href=https://www.diva-portal.org/smash/get/diva2:623127/FULLTEXT01.pdf). This document describes both how to access system variables (such as the simulation time) and how to define new variables that can be controlled inside Uniview's GUI.\n",
    "\n",
    "For this example we will make a conceptual animation that describes how a gravitational wave distorts space. We will create a cylinder of connected points that are distorted by the gravitational wave. Here is a screenshot of the visualization (equirectangular full sphere view).\n",
    "![360 image of GWcatepillar](https://github.com/IPSScienceVisualization/Workshops/blob/master/Tokyo2017/data/gwequi5.png?raw=true)\n",
    "\n",
    "#### How the shaders work\n",
    "\n",
    "In this example we will pass through the data two times. On the first pass we will draw the fuzzy halos, and on the second pass we will draw the connecting lines. Most of the woks in this visualization is done by the geometry shaders. \n",
    "\n",
    "Geometry shaders allow you to convert one piece of geometry into another piece of geometry. In this case we will be 'tricking' the geometry shader, we will load in what it thinks are a series of triangles, but in fact each triangle is data encoded inside inside the nine numbers that are needed to define the triangle.\n",
    "\n",
    "Uniview allows you to load geometry as and ASCII table with nine values on each line\n",
    "> x1 y1 z1 x2 y2 z2 x3 y3 z3\n",
    "\n",
    "For our example we will create a file where each line describes the position of each vertex on the cylinder. There are many possible ways to do this, we just picked one."
   ]
  },
  {
   "cell_type": "code",
   "execution_count": 1,
   "metadata": {
    "collapsed": false,
    "nbpresent": {
     "id": "aa4de9aa-f1ad-4a54-b8ef-cb33a290c571"
    }
   },
   "outputs": [],
   "source": [
    "# Creating the Uniview data file\n",
    "nring = 36\n",
    "ntube = 25\n",
    "dTheta = 360./nring\n",
    "dl = 1.0\n",
    "writefile=open('GWcatepillar/tube.raw',\"w\")\n",
    "for i in range(nring):\n",
    "    for j in range (-ntube,ntube+1):\n",
    "        writefile.write(\"{} {} {} {} {} {} {} {} {}\\n\".format(i*dTheta,j*dl,i,j,nring,ntube,(i+1)*dTheta,min(j+1,ntube-1)*dl,\"1\"))\n",
    "writefile.flush()\n",
    "writefile.close()"
   ]
  },
  {
   "cell_type": "markdown",
   "metadata": {
    "collapsed": true
   },
   "source": [
    "##### The key shaders are:\n",
    "* [GWcatepillar_halos.glsl](https://github.com/IPSScienceVisualization/Workshops/blob/master/Tokyo2017/GWcatepillar/shaders/GWcatepillar_halos.glsl): This geometry shader draws a camerfacing square at the position of each vertex of the cylinder. The cylinder is distorted due to the gravitational wave (using the simulation time to track the wave propagation). A passed variable (length) determines how much of the cylinder is drawn. A color is passed to the fragment shader indicating how much space is distorted at that point.\n",
    "* [marker_fragment.glsl](https://github.com/IPSScienceVisualization/Workshops/blob/master/Tokyo2017/GWcatepillar/shaders/marker_fragment.glsl): This fragment shader draws one of several marker fragments on its quad based on a passed variable. The default marker is a fuzzy blob. The color of the marker is also determined by a variable passed from the geometry shader.\n",
    "* [GWcatepillar_lines.glsl](https://github.com/IPSScienceVisualization/Workshops/blob/master/Tokyo2017/GWcatepillar/shaders/GWcatepillar_lines.glsl): This geometry shader draws lines connecting the designated vertex to two adjacent vertices in the cylinder. The cylinder is distorted due to the gravitational wave (using the simulation time to track the wave propagation). A passed variable (length) determines how much of the cylinder is drawn. A color is passed to the fragment shader. "
   ]
  },
  {
   "cell_type": "markdown",
   "metadata": {},
   "source": [
    "## Extend this example\n",
    "\n",
    "Right now this example illustrated only one of the two possible gravitational wave polarizations. Can you extend the example to include the other polarization?"
   ]
  },
  {
   "cell_type": "code",
   "execution_count": null,
   "metadata": {
    "collapsed": true
   },
   "outputs": [],
   "source": []
  }
 ],
 "metadata": {
  "anaconda-cloud": {},
  "kernelspec": {
   "display_name": "Python [default]",
   "language": "python",
   "name": "python3"
  },
  "language_info": {
   "codemirror_mode": {
    "name": "ipython",
    "version": 3
   },
   "file_extension": ".py",
   "mimetype": "text/x-python",
   "name": "python",
   "nbconvert_exporter": "python",
   "pygments_lexer": "ipython3",
   "version": "3.5.2"
  },
  "nbpresent": {
   "slides": {
    "1e2f8ab5-5f41-4ff3-80cc-1118e76568e9": {
     "id": "1e2f8ab5-5f41-4ff3-80cc-1118e76568e9",
     "prev": "5fa3ea62-10df-48b9-9b31-4891a69c485d",
     "regions": {
      "214a2eab-ec46-478e-a1bf-0f1c3d6e802d": {
       "attrs": {
        "height": 0.8,
        "width": 0.45,
        "x": 0.5,
        "y": 0.1
       },
       "id": "214a2eab-ec46-478e-a1bf-0f1c3d6e802d"
      },
      "bf59d591-7993-490d-98c9-24e7c9934725": {
       "attrs": {
        "height": 0.8,
        "width": 0.45,
        "x": 0.05,
        "y": 0.1
       },
       "id": "bf59d591-7993-490d-98c9-24e7c9934725"
      }
     }
    },
    "5fa3ea62-10df-48b9-9b31-4891a69c485d": {
     "id": "5fa3ea62-10df-48b9-9b31-4891a69c485d",
     "prev": null,
     "regions": {
      "ed1f8518-74e5-4592-882b-a30aa665cffa": {
       "attrs": {
        "height": 0.8,
        "width": 0.8,
        "x": 0.1,
        "y": 0.1
       },
       "content": {
        "cell": "aa4de9aa-f1ad-4a54-b8ef-cb33a290c571",
        "part": "whole"
       },
       "id": "ed1f8518-74e5-4592-882b-a30aa665cffa"
      }
     }
    },
    "f5dff8d9-1e81-46e9-9acc-2cccf02eeafb": {
     "id": "f5dff8d9-1e81-46e9-9acc-2cccf02eeafb",
     "prev": "1e2f8ab5-5f41-4ff3-80cc-1118e76568e9",
     "regions": {}
    }
   },
   "themes": {}
  }
 },
 "nbformat": 4,
 "nbformat_minor": 0
}
