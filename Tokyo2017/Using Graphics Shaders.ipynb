{
 "cells": [
  {
   "cell_type": "markdown",
   "metadata": {},
   "source": [
    "# Using Programmable Graphics Shaders\n",
    "\n",
    "Most planetarium space engines allow users to create custom content by writing their own graphics shaders. This is a powerful way to create highly performant custom content, and to incoroprate more advance visualization techniques into the existing software. Unfortunately this ability is often poorly documented, and very few members of the planetarium community are currently writing their own shaders."
   ]
  },
  {
   "cell_type": "markdown",
   "metadata": {},
   "source": [
    "## An example with Uniview: gravitational wave conceptual animation\n",
    "\n",
    "Uniview does an excellent of exposing the power of shaders to its users through the Uniview Shader Effect System (USES). Documentation for that system can be found <a href=https://www.diva-portal.org/smash/get/diva2:623127/FULLTEXT01.pdf>here:</a>. This document describes both how to access system variables (such as the simulation time) and how to define new variables that can be controlled inside the GUI.\n",
    "\n",
    "For this example we will make a conceptual animation that describes"
   ]
  },
  {
   "cell_type": "code",
   "execution_count": 3,
   "metadata": {
    "collapsed": false,
    "nbpresent": {
     "id": "aa4de9aa-f1ad-4a54-b8ef-cb33a290c571"
    }
   },
   "outputs": [],
   "source": [
    "nring = 36\n",
    "ntube = 25\n",
    "dTheta = 360./nring\n",
    "dl = 1.0\n",
    "writefile=open('tube.raw',\"w\")\n",
    "for i in range(nring):\n",
    "    for j in range (-ntube,ntube+1):\n",
    "        writefile.write(\"{} {} {} {} {} {} {} {} {}\\n\".format(i*dTheta,j*dl,i,j,nring,ntube,(i+1)*dTheta,min(j+1,ntube-1)*dl,\"1\"))\n",
    "writefile.flush()\n",
    "writefile.close()"
   ]
  },
  {
   "cell_type": "code",
   "execution_count": null,
   "metadata": {
    "collapsed": true
   },
   "outputs": [],
   "source": []
  }
 ],
 "metadata": {
  "anaconda-cloud": {},
  "kernelspec": {
   "display_name": "Python [default]",
   "language": "python",
   "name": "python3"
  },
  "language_info": {
   "codemirror_mode": {
    "name": "ipython",
    "version": 3
   },
   "file_extension": ".py",
   "mimetype": "text/x-python",
   "name": "python",
   "nbconvert_exporter": "python",
   "pygments_lexer": "ipython3",
   "version": "3.5.2"
  },
  "nbpresent": {
   "slides": {
    "1e2f8ab5-5f41-4ff3-80cc-1118e76568e9": {
     "id": "1e2f8ab5-5f41-4ff3-80cc-1118e76568e9",
     "prev": "5fa3ea62-10df-48b9-9b31-4891a69c485d",
     "regions": {
      "214a2eab-ec46-478e-a1bf-0f1c3d6e802d": {
       "attrs": {
        "height": 0.8,
        "width": 0.45,
        "x": 0.5,
        "y": 0.1
       },
       "id": "214a2eab-ec46-478e-a1bf-0f1c3d6e802d"
      },
      "bf59d591-7993-490d-98c9-24e7c9934725": {
       "attrs": {
        "height": 0.8,
        "width": 0.45,
        "x": 0.05,
        "y": 0.1
       },
       "id": "bf59d591-7993-490d-98c9-24e7c9934725"
      }
     }
    },
    "5fa3ea62-10df-48b9-9b31-4891a69c485d": {
     "id": "5fa3ea62-10df-48b9-9b31-4891a69c485d",
     "prev": null,
     "regions": {
      "ed1f8518-74e5-4592-882b-a30aa665cffa": {
       "attrs": {
        "height": 0.8,
        "width": 0.8,
        "x": 0.1,
        "y": 0.1
       },
       "content": {
        "cell": "aa4de9aa-f1ad-4a54-b8ef-cb33a290c571",
        "part": "whole"
       },
       "id": "ed1f8518-74e5-4592-882b-a30aa665cffa"
      }
     }
    },
    "f5dff8d9-1e81-46e9-9acc-2cccf02eeafb": {
     "id": "f5dff8d9-1e81-46e9-9acc-2cccf02eeafb",
     "prev": "1e2f8ab5-5f41-4ff3-80cc-1118e76568e9",
     "regions": {}
    }
   },
   "themes": {}
  }
 },
 "nbformat": 4,
 "nbformat_minor": 0
}
