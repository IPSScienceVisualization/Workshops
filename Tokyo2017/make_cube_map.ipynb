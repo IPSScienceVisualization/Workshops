{
 "cells": [
  {
   "cell_type": "markdown",
   "metadata": {
    "collapsed": true
   },
   "source": [
    "# 5. Generating cube map from intensity maps\n",
    "In this section, we generate a cube map of Milky Way from the intensity maps.\n",
    "\n",
    "## Load intensity maps\n",
    "\n",
    "First, enter and run the following codes to import all modules used in this section, to define the folders for input and output, and to define the names of the planes. Here, we take $N=512$ as the number of cells in one direction.\n",
    "```\n",
    "import os\n",
    "import numpy as np\n",
    "import matplotlib as mpl\n",
    "import matplotlib.pyplot as plt\n",
    "from PIL import Image\n",
    "%matplotlib inline\n",
    "\n",
    "mpl.rcParams['figure.autolayout'] = 'false'\n",
    "\n",
    "src_dir = './intensity_maps'\n",
    "dest_dir = './cube_map'\n",
    "\n",
    "plane_name = ('posx', 'negx', 'posy', 'negy', 'posz', 'negz')\n",
    "\n",
    "N = 512\n",
    "```"
   ]
  },
  {
   "cell_type": "code",
   "execution_count": null,
   "metadata": {
    "collapsed": false
   },
   "outputs": [],
   "source": []
  },
  {
   "cell_type": "markdown",
   "metadata": {},
   "source": [
    "Then, load all the intensity maps generated in the previous section. Enter the following code in the cell below and run it. The intensity maps are loaded in a `NumPy` array '`imap`'.\n",
    "\n",
    "```\n",
    "# make sure the directory 'dest_dir' is avairable\n",
    "if not os.path.isdir(dest_dir):\n",
    "    os.mkdir(dest_dir)\n",
    "\n",
    "imap = np.empty((6,N,N), 'float32')\n",
    "\n",
    "for ip in range(6):\n",
    "    fni = '{0}/intensity_map_{1}_{2}.dat'.format(src_dir, N, plane_name[ip]) # Generate input filename\n",
    "    data = np.fromfile(fni, 'float32') # Load the intensity map from file\n",
    "    data.shape = (N,N) # reshape\n",
    "    imap[ip] = data\n",
    "    print('Loaded ' + \"'\" + fni + \"'\")\n",
    "```"
   ]
  },
  {
   "cell_type": "code",
   "execution_count": null,
   "metadata": {
    "collapsed": false
   },
   "outputs": [],
   "source": []
  },
  {
   "cell_type": "markdown",
   "metadata": {},
   "source": [
    "## Make image file\n",
    "\n",
    "Let's visualize the intensity map with the PIL module. Enter the following code in the cell below and run it. In this code first allocates an array for images. Then, it defines a function to visualize the intensity maps as an image for each plane whose index is given by i1. As already mentioned in the previous section, we have to choose a factor to adjust image brightness. It is given by the argument of the function `fac`. \n",
    "```\n",
    "# Allocate an array for images\n",
    "img = [None]*6\n",
    "for ip in range(6):\n",
    "    img[ip] = Image.new('RGB', (N,N), (0,0,0))\n",
    "\n",
    "# Define a function to render the intensity map\n",
    "def render_intensity_map(ip, fac):\n",
    "    for iy in range(N):\n",
    "        for ix in range(N):\n",
    "            val = fac*imap[ip][iy][ix]\n",
    "            if val > 1:\n",
    "                val = 1\n",
    "\n",
    "            val = int(256*val)\n",
    "            r = g = b = val\n",
    "            iyr = N - iy -1 # reverse y coord\n",
    "            img[ip].putpixel((ix,iyr), (r,g,b))\n",
    "```"
   ]
  },
  {
   "cell_type": "code",
   "execution_count": null,
   "metadata": {
    "collapsed": false
   },
   "outputs": [],
   "source": []
  },
  {
   "cell_type": "markdown",
   "metadata": {},
   "source": [
    "Then, let's render the intensity maps for all planes. Enter and run the following code in the cell below. Here, we choose the factor `fac = 500`.\n",
    "```\n",
    "# Render the intensity maps to images\n",
    "fac = 500\n",
    "for ip in range(6):\n",
    "    render_intensity_map(ip,fac)\n",
    "```"
   ]
  },
  {
   "cell_type": "code",
   "execution_count": null,
   "metadata": {
    "collapsed": true
   },
   "outputs": [],
   "source": []
  },
  {
   "cell_type": "markdown",
   "metadata": {},
   "source": [
    "Then, define a function for preview the rendered cube map. Enter and run the following code to preview. If the displayed images are too bright or too dark, edit the value of the factor `fac` in the cell above and run it and then run the cell below again. If you want to eliminate the plane names in the preview, comment out the line of `plt.text`.\n",
    "\n",
    "```\n",
    "def preview_cube_map():\n",
    "    plt.clf()\n",
    "    plt.figure(figsize=(8,6))\n",
    "    xt = yt = N/2\n",
    "    \n",
    "    fig_pos = (7, 5, 2, 10, 8, 6) # Position of subplot\n",
    "    for ip in range(6):\n",
    "        plt.subplot(3,4,fig_pos[ip])\n",
    "        plt.axis('off') # removing axes\n",
    "        plt.imshow(np.array(img[ip]))\n",
    "        plt.text(xt,yt, plane_name[ip], ha='center', va='center', size=15, color='white')\n",
    "    \n",
    "    plt.subplots_adjust(0,0,1,1,0,0)\n",
    "    plt.show()\n",
    "\n",
    "\n",
    "preview_cube_map()\n",
    "```"
   ]
  },
  {
   "cell_type": "code",
   "execution_count": null,
   "metadata": {
    "collapsed": false
   },
   "outputs": [],
   "source": []
  },
  {
   "cell_type": "markdown",
   "metadata": {},
   "source": [
    "## Gamma correction for sRGB\n",
    "Thus, we finally generated a Milky Way cube map from the Gaia's data. However, there is one more thing to do -- Gamma correction. Since the input and the output of display devices are generally not related with linearly, in order to reproduce the true brightness gradation in the display devices, corrections are needed.\n",
    "The correction to be adopted depends on the kind of device. Here we make the correction for the sRGB color space. The correction from the linear input values to the output values for the sRGB is given by\n",
    "$$\n",
    "C_\\mathrm{sRGB}\n",
    "= \n",
    "\\left\\{\n",
    "    \\begin{array}{ll}\n",
    "      12.92\\ C_\\mathrm{linear} & \\textrm{for} \\ C_\\mathrm{linear} \\le 0.0031308\\\\\n",
    "      1.055\\ C_\\mathrm{linear}^{1/2.4} - 0.055 & \\textrm{for} \\ C_\\mathrm{linear} > 0.0031308.\n",
    "    \\end{array}\n",
    "\\right.\n",
    "$$\n",
    "Enter the following code and run it to define a function for this correction.\n",
    "```\n",
    "def correct_gamma_0(lv):\n",
    "    if (lv <= 0.0031308):\n",
    "        lv = 12.92 * lv\n",
    "    else:\n",
    "        lv = 1.055 *  (lv**(1.0/2.4)) - 0.055\n",
    "    return lv\n",
    "\n",
    "# convert to NumPy universal function\n",
    "correct_gamma = np.frompyfunc(correct_gamma_0, 1, 1)\n",
    "```"
   ]
  },
  {
   "cell_type": "code",
   "execution_count": null,
   "metadata": {
    "collapsed": true
   },
   "outputs": [],
   "source": []
  },
  {
   "cell_type": "markdown",
   "metadata": {},
   "source": [
    "Let's plot this function with matplotlib module. Enter the following code and run it.\n",
    "```\n",
    "# Graph\n",
    "x = np.arange(0,1,0.01)\n",
    "y = correct_gamma(x)\n",
    "plt.figure(1)\n",
    "plt.plot(x,y)\n",
    "plt.title('Correction function for sRGB')\n",
    "plt.xlabel('Linear value')\n",
    "plt.ylabel('Corrected value')\n",
    "plt.show()\n",
    "```"
   ]
  },
  {
   "cell_type": "code",
   "execution_count": null,
   "metadata": {
    "collapsed": false
   },
   "outputs": [],
   "source": []
  },
  {
   "cell_type": "markdown",
   "metadata": {},
   "source": [
    "Next, let's define a rendering function including this correction. Enter and run the following code to define it and generate images again with the correction. Here, we choose `fac=200`.\n",
    "```\n",
    "def render_intensity_map_with_correction(ip, fac):\n",
    "    for iy in range(N):\n",
    "        for ix in range(N):\n",
    "            val = fac*imap[ip][iy][ix]\n",
    "            if val > 1:\n",
    "                val = 1\n",
    "\n",
    "            val = correct_gamma(val)\n",
    "            val = int(256*val)\n",
    "            r = g = b = val\n",
    "            iyr = N - iy -1 # reverse y coord\n",
    "            img[ip].putpixel((ix,iyr), (r,g,b))\n",
    "\n",
    "# Regenerate the images with the correction\n",
    "fac = 200\n",
    "for ip in range(6):\n",
    "    render_intensity_map_with_correction(ip, fac)\n",
    "```"
   ]
  },
  {
   "cell_type": "code",
   "execution_count": null,
   "metadata": {
    "collapsed": false
   },
   "outputs": [],
   "source": []
  },
  {
   "cell_type": "markdown",
   "metadata": {},
   "source": [
    "Preview the corrected cube map by running the following code. If the image is too bright or too dark, edit the value of `fac` in the above cell and run it. Then, preview again.\n",
    "```\n",
    "preview_cube_map()\n",
    "```"
   ]
  },
  {
   "cell_type": "code",
   "execution_count": null,
   "metadata": {
    "collapsed": false
   },
   "outputs": [],
   "source": []
  },
  {
   "cell_type": "markdown",
   "metadata": {},
   "source": [
    "If you have generated the cube map with proper brightness, let's save the images into files. Enter and run the following code to save images into the folder '`cube_map`'.\n",
    "```\n",
    "#Save the images\n",
    "for ip in range(6):\n",
    "    fno = '{0}/milkyway_map_{1}_{2}.png'.format(dest_dir, N, plane_name[ip]) # Generate output filename\n",
    "    img[ip].save(fno)\n",
    "```"
   ]
  },
  {
   "cell_type": "code",
   "execution_count": null,
   "metadata": {
    "collapsed": false,
    "scrolled": true
   },
   "outputs": [],
   "source": []
  },
  {
   "cell_type": "markdown",
   "metadata": {
    "collapsed": false,
    "scrolled": true
   },
   "source": [
    "Congratulations!  \n",
    "You have finally generated a Milky Way cube map from the Gaia's DR1 data by yourself!"
   ]
  },
  {
   "cell_type": "code",
   "execution_count": null,
   "metadata": {
    "collapsed": true
   },
   "outputs": [],
   "source": []
  }
 ],
 "metadata": {
  "kernelspec": {
   "display_name": "Python 3",
   "language": "python",
   "name": "python3"
  },
  "language_info": {
   "codemirror_mode": {
    "name": "ipython",
    "version": 3
   },
   "file_extension": ".py",
   "mimetype": "text/x-python",
   "name": "python",
   "nbconvert_exporter": "python",
   "pygments_lexer": "ipython3",
   "version": "3.6.0"
  }
 },
 "nbformat": 4,
 "nbformat_minor": 2
}
